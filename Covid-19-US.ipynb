{
 "cells": [
  {
   "cell_type": "code",
   "execution_count": 177,
   "metadata": {},
   "outputs": [],
   "source": [
    "from matplotlib import pyplot as plt\n",
    "import numpy as np\n",
    "import pandas as pd\n",
    "%matplotlib inline\n",
    "\n",
    "from fbprophet import Prophet\n",
    "import warnings\n",
    "warnings.filterwarnings(\"ignore\")"
   ]
  },
  {
   "cell_type": "code",
   "execution_count": 2,
   "metadata": {},
   "outputs": [
    {
     "name": "stdout",
     "output_type": "stream",
     "text": [
      "COVID-19-models.ipynb     china-covid19-data.zip    \u001b[34mcoronavirusdataset\u001b[m\u001b[m/\r\n",
      "Covid-19-US.ipynb         \u001b[34mcoronavirus-in-italy\u001b[m\u001b[m/     \u001b[34mcovid19-in-usa\u001b[m\u001b[m/\r\n",
      "\u001b[34mchina-covid19-data\u001b[m\u001b[m/       coronavirus-in-italy.zip  covid19-in-usa.zip\r\n"
     ]
    }
   ],
   "source": [
    "ls"
   ]
  },
  {
   "cell_type": "code",
   "execution_count": 3,
   "metadata": {},
   "outputs": [
    {
     "name": "stdout",
     "output_type": "stream",
     "text": [
      "/Users/jinbiao.ji/mygithub/MLTSA_JJi/midterm/covid19-in-usa\n"
     ]
    }
   ],
   "source": [
    "cd covid19-in-usa/"
   ]
  },
  {
   "cell_type": "code",
   "execution_count": 4,
   "metadata": {},
   "outputs": [
    {
     "name": "stdout",
     "output_type": "stream",
     "text": [
      "\u001b[31mus_covid19_daily.csv\u001b[m\u001b[m*        \u001b[31mus_states_covid19_daily.csv\u001b[m\u001b[m*\r\n"
     ]
    }
   ],
   "source": [
    "ls"
   ]
  },
  {
   "cell_type": "code",
   "execution_count": 6,
   "metadata": {},
   "outputs": [],
   "source": [
    "c19_all_us = pd.read_csv('us_covid19_daily.csv')"
   ]
  },
  {
   "cell_type": "code",
   "execution_count": 7,
   "metadata": {},
   "outputs": [],
   "source": [
    "c19_all_us['date'] = pd.to_datetime(c19_all_us['date'], format='%Y%m%d')"
   ]
  },
  {
   "cell_type": "code",
   "execution_count": 119,
   "metadata": {},
   "outputs": [
    {
     "data": {
      "text/html": [
       "<div>\n",
       "<style scoped>\n",
       "    .dataframe tbody tr th:only-of-type {\n",
       "        vertical-align: middle;\n",
       "    }\n",
       "\n",
       "    .dataframe tbody tr th {\n",
       "        vertical-align: top;\n",
       "    }\n",
       "\n",
       "    .dataframe thead th {\n",
       "        text-align: right;\n",
       "    }\n",
       "</style>\n",
       "<table border=\"1\" class=\"dataframe\">\n",
       "  <thead>\n",
       "    <tr style=\"text-align: right;\">\n",
       "      <th></th>\n",
       "      <th>date</th>\n",
       "      <th>states</th>\n",
       "      <th>positive</th>\n",
       "      <th>negative</th>\n",
       "      <th>pending</th>\n",
       "      <th>hospitalizedCurrently</th>\n",
       "      <th>hospitalizedCumulative</th>\n",
       "      <th>inIcuCurrently</th>\n",
       "      <th>inIcuCumulative</th>\n",
       "      <th>onVentilatorCurrently</th>\n",
       "      <th>...</th>\n",
       "      <th>death</th>\n",
       "      <th>hospitalized</th>\n",
       "      <th>total</th>\n",
       "      <th>totalTestResults</th>\n",
       "      <th>posNeg</th>\n",
       "      <th>deathIncrease</th>\n",
       "      <th>hospitalizedIncrease</th>\n",
       "      <th>negativeIncrease</th>\n",
       "      <th>positiveIncrease</th>\n",
       "      <th>totalTestResultsIncrease</th>\n",
       "    </tr>\n",
       "  </thead>\n",
       "  <tbody>\n",
       "    <tr>\n",
       "      <th>0</th>\n",
       "      <td>2020-04-04</td>\n",
       "      <td>112</td>\n",
       "      <td>305755.0</td>\n",
       "      <td>1318052.0</td>\n",
       "      <td>31146</td>\n",
       "      <td>44316.0</td>\n",
       "      <td>76804.0</td>\n",
       "      <td>10414.0</td>\n",
       "      <td>1382.0</td>\n",
       "      <td>1312.0</td>\n",
       "      <td>...</td>\n",
       "      <td>16628</td>\n",
       "      <td>76804.0</td>\n",
       "      <td>3278760</td>\n",
       "      <td>3247614</td>\n",
       "      <td>3247614</td>\n",
       "      <td>9666.0</td>\n",
       "      <td>40813.0</td>\n",
       "      <td>1500748.0</td>\n",
       "      <td>339522.0</td>\n",
       "      <td>1840270.0</td>\n",
       "    </tr>\n",
       "    <tr>\n",
       "      <th>1</th>\n",
       "      <td>2020-04-03</td>\n",
       "      <td>56</td>\n",
       "      <td>271988.0</td>\n",
       "      <td>1135356.0</td>\n",
       "      <td>61980</td>\n",
       "      <td>19926.0</td>\n",
       "      <td>35991.0</td>\n",
       "      <td>4686.0</td>\n",
       "      <td>593.0</td>\n",
       "      <td>70.0</td>\n",
       "      <td>...</td>\n",
       "      <td>6962</td>\n",
       "      <td>35991.0</td>\n",
       "      <td>1469324</td>\n",
       "      <td>1407344</td>\n",
       "      <td>1407344</td>\n",
       "      <td>1178.0</td>\n",
       "      <td>3342.0</td>\n",
       "      <td>106707.0</td>\n",
       "      <td>32889.0</td>\n",
       "      <td>139596.0</td>\n",
       "    </tr>\n",
       "    <tr>\n",
       "      <th>2</th>\n",
       "      <td>2020-04-02</td>\n",
       "      <td>56</td>\n",
       "      <td>239099.0</td>\n",
       "      <td>1028649.0</td>\n",
       "      <td>62101</td>\n",
       "      <td>17157.0</td>\n",
       "      <td>32649.0</td>\n",
       "      <td>4264.0</td>\n",
       "      <td>541.0</td>\n",
       "      <td>67.0</td>\n",
       "      <td>...</td>\n",
       "      <td>5784</td>\n",
       "      <td>32649.0</td>\n",
       "      <td>1329849</td>\n",
       "      <td>1267748</td>\n",
       "      <td>1267748</td>\n",
       "      <td>1084.0</td>\n",
       "      <td>1507.0</td>\n",
       "      <td>89459.0</td>\n",
       "      <td>28283.0</td>\n",
       "      <td>117742.0</td>\n",
       "    </tr>\n",
       "    <tr>\n",
       "      <th>3</th>\n",
       "      <td>2020-04-01</td>\n",
       "      <td>56</td>\n",
       "      <td>210816.0</td>\n",
       "      <td>939190.0</td>\n",
       "      <td>59669</td>\n",
       "      <td>16223.0</td>\n",
       "      <td>31142.0</td>\n",
       "      <td>3837.0</td>\n",
       "      <td>4270.0</td>\n",
       "      <td>71.0</td>\n",
       "      <td>...</td>\n",
       "      <td>4700</td>\n",
       "      <td>31142.0</td>\n",
       "      <td>1209675</td>\n",
       "      <td>1150006</td>\n",
       "      <td>1150006</td>\n",
       "      <td>954.0</td>\n",
       "      <td>4482.0</td>\n",
       "      <td>74989.0</td>\n",
       "      <td>26133.0</td>\n",
       "      <td>101122.0</td>\n",
       "    </tr>\n",
       "    <tr>\n",
       "      <th>4</th>\n",
       "      <td>2020-03-31</td>\n",
       "      <td>56</td>\n",
       "      <td>184683.0</td>\n",
       "      <td>864201.0</td>\n",
       "      <td>59518</td>\n",
       "      <td>14236.0</td>\n",
       "      <td>26660.0</td>\n",
       "      <td>3402.0</td>\n",
       "      <td>3644.0</td>\n",
       "      <td>69.0</td>\n",
       "      <td>...</td>\n",
       "      <td>3746</td>\n",
       "      <td>26660.0</td>\n",
       "      <td>1108402</td>\n",
       "      <td>1048884</td>\n",
       "      <td>1048884</td>\n",
       "      <td>807.0</td>\n",
       "      <td>4357.0</td>\n",
       "      <td>79877.0</td>\n",
       "      <td>24153.0</td>\n",
       "      <td>104030.0</td>\n",
       "    </tr>\n",
       "  </tbody>\n",
       "</table>\n",
       "<p>5 rows × 24 columns</p>\n",
       "</div>"
      ],
      "text/plain": [
       "        date  states  positive   negative  pending  hospitalizedCurrently  \\\n",
       "0 2020-04-04     112  305755.0  1318052.0    31146                44316.0   \n",
       "1 2020-04-03      56  271988.0  1135356.0    61980                19926.0   \n",
       "2 2020-04-02      56  239099.0  1028649.0    62101                17157.0   \n",
       "3 2020-04-01      56  210816.0   939190.0    59669                16223.0   \n",
       "4 2020-03-31      56  184683.0   864201.0    59518                14236.0   \n",
       "\n",
       "   hospitalizedCumulative  inIcuCurrently  inIcuCumulative  \\\n",
       "0                 76804.0         10414.0           1382.0   \n",
       "1                 35991.0          4686.0            593.0   \n",
       "2                 32649.0          4264.0            541.0   \n",
       "3                 31142.0          3837.0           4270.0   \n",
       "4                 26660.0          3402.0           3644.0   \n",
       "\n",
       "   onVentilatorCurrently  ...  death  hospitalized    total totalTestResults  \\\n",
       "0                 1312.0  ...  16628       76804.0  3278760          3247614   \n",
       "1                   70.0  ...   6962       35991.0  1469324          1407344   \n",
       "2                   67.0  ...   5784       32649.0  1329849          1267748   \n",
       "3                   71.0  ...   4700       31142.0  1209675          1150006   \n",
       "4                   69.0  ...   3746       26660.0  1108402          1048884   \n",
       "\n",
       "    posNeg  deathIncrease  hospitalizedIncrease  negativeIncrease  \\\n",
       "0  3247614         9666.0               40813.0         1500748.0   \n",
       "1  1407344         1178.0                3342.0          106707.0   \n",
       "2  1267748         1084.0                1507.0           89459.0   \n",
       "3  1150006          954.0                4482.0           74989.0   \n",
       "4  1048884          807.0                4357.0           79877.0   \n",
       "\n",
       "   positiveIncrease  totalTestResultsIncrease  \n",
       "0          339522.0                 1840270.0  \n",
       "1           32889.0                  139596.0  \n",
       "2           28283.0                  117742.0  \n",
       "3           26133.0                  101122.0  \n",
       "4           24153.0                  104030.0  \n",
       "\n",
       "[5 rows x 24 columns]"
      ]
     },
     "execution_count": 119,
     "metadata": {},
     "output_type": "execute_result"
    }
   ],
   "source": [
    "c19_all_us.head()"
   ]
  },
  {
   "cell_type": "code",
   "execution_count": 106,
   "metadata": {
    "scrolled": true
   },
   "outputs": [],
   "source": [
    "new_values = c19_all_us.iloc[0][1:5].values/2"
   ]
  },
  {
   "cell_type": "code",
   "execution_count": 143,
   "metadata": {},
   "outputs": [
    {
     "data": {
      "text/plain": [
       "339522.0"
      ]
     },
     "execution_count": 143,
     "metadata": {},
     "output_type": "execute_result"
    }
   ],
   "source": [
    "c19_all_us.loc[0,'positiveIncrease']"
   ]
  },
  {
   "cell_type": "code",
   "execution_count": 148,
   "metadata": {},
   "outputs": [
    {
     "data": {
      "text/plain": [
       "339522.0"
      ]
     },
     "execution_count": 148,
     "metadata": {},
     "output_type": "execute_result"
    }
   ],
   "source": [
    "c19_all_us.loc[0,'positiveIncrease']"
   ]
  },
  {
   "cell_type": "code",
   "execution_count": 149,
   "metadata": {},
   "outputs": [
    {
     "data": {
      "text/plain": [
       "32889.0"
      ]
     },
     "execution_count": 149,
     "metadata": {},
     "output_type": "execute_result"
    }
   ],
   "source": [
    "c19_all_us.loc[1,'positiveIncrease']"
   ]
  },
  {
   "cell_type": "code",
   "execution_count": 118,
   "metadata": {},
   "outputs": [],
   "source": [
    "c19_all_us.loc[0,'positive'] = new_values[1]\n",
    "c19_all_us.loc[0,'negative'] = new_values[2]"
   ]
  },
  {
   "cell_type": "code",
   "execution_count": 121,
   "metadata": {
    "scrolled": false
   },
   "outputs": [
    {
     "data": {
      "text/plain": [
       "<matplotlib.axes._subplots.AxesSubplot at 0x125b9e208>"
      ]
     },
     "execution_count": 121,
     "metadata": {},
     "output_type": "execute_result"
    },
    {
     "data": {
      "image/png": "[encoded data removed]",
      "text/plain": [
       "<Figure size 432x288 with 1 Axes>"
      ]
     },
     "metadata": {
      "needs_background": "light"
     },
     "output_type": "display_data"
    }
   ],
   "source": [
    "pd.plotting.register_matplotlib_converters()\n",
    "c19_all_us.plot(x='date',y='positive',rot = 60)"
   ]
  },
  {
   "cell_type": "code",
   "execution_count": 175,
   "metadata": {},
   "outputs": [
    {
     "data": {
      "text/plain": [
       "Timestamp('2020-03-04 00:00:00')"
      ]
     },
     "execution_count": 175,
     "metadata": {},
     "output_type": "execute_result"
    }
   ],
   "source": [
    "c19_all_us['date'].iloc[-1]"
   ]
  },
  {
   "cell_type": "markdown",
   "metadata": {},
   "source": [
    "### Daily Increase"
   ]
  },
  {
   "cell_type": "code",
   "execution_count": 176,
   "metadata": {},
   "outputs": [
    {
     "data": {
      "text/plain": [
       "(18325, 18392)"
      ]
     },
     "execution_count": 176,
     "metadata": {},
     "output_type": "execute_result"
    },
    {
     "data": {
      "image/png": "[encoded data removed]",
      "text/plain": [
       "<Figure size 720x432 with 1 Axes>"
      ]
     },
     "metadata": {
      "needs_background": "light"
     },
     "output_type": "display_data"
    }
   ],
   "source": [
    "fig,ax=plt.subplots(figsize=(10,6))\n",
    "c19_all_us[1:].plot(x='date',y='positiveIncrease',ax=ax)\n",
    "ax.set_xlim(c19_all_us['date'].iloc[-1], pd.Timestamp('2020-05-10'))"
   ]
  },
  {
   "cell_type": "markdown",
   "metadata": {},
   "source": [
    "# Fit a model to  daily increase? to predict the change point."
   ]
  },
  {
   "cell_type": "markdown",
   "metadata": {},
   "source": [
    "### Step 1:"
   ]
  },
  {
   "cell_type": "code",
   "execution_count": 14,
   "metadata": {},
   "outputs": [],
   "source": [
    "def func_logistic(t, a, b, c):\n",
    "    return c / (1 + a * np.exp(-b*t))"
   ]
  },
  {
   "cell_type": "code",
   "execution_count": 15,
   "metadata": {},
   "outputs": [],
   "source": [
    "from scipy.optimize import curve_fit"
   ]
  },
  {
   "cell_type": "code",
   "execution_count": 122,
   "metadata": {
    "scrolled": false
   },
   "outputs": [
    {
     "data": {
      "text/html": [
       "<div>\n",
       "<style scoped>\n",
       "    .dataframe tbody tr th:only-of-type {\n",
       "        vertical-align: middle;\n",
       "    }\n",
       "\n",
       "    .dataframe tbody tr th {\n",
       "        vertical-align: top;\n",
       "    }\n",
       "\n",
       "    .dataframe thead th {\n",
       "        text-align: right;\n",
       "    }\n",
       "</style>\n",
       "<table border=\"1\" class=\"dataframe\">\n",
       "  <thead>\n",
       "    <tr style=\"text-align: right;\">\n",
       "      <th></th>\n",
       "      <th>index</th>\n",
       "      <th>ds</th>\n",
       "      <th>states</th>\n",
       "      <th>y</th>\n",
       "      <th>negative</th>\n",
       "      <th>pending</th>\n",
       "      <th>hospitalizedCurrently</th>\n",
       "      <th>hospitalizedCumulative</th>\n",
       "      <th>inIcuCurrently</th>\n",
       "      <th>inIcuCumulative</th>\n",
       "      <th>...</th>\n",
       "      <th>death</th>\n",
       "      <th>hospitalized</th>\n",
       "      <th>total</th>\n",
       "      <th>totalTestResults</th>\n",
       "      <th>posNeg</th>\n",
       "      <th>deathIncrease</th>\n",
       "      <th>hospitalizedIncrease</th>\n",
       "      <th>negativeIncrease</th>\n",
       "      <th>positiveIncrease</th>\n",
       "      <th>totalTestResultsIncrease</th>\n",
       "    </tr>\n",
       "  </thead>\n",
       "  <tbody>\n",
       "    <tr>\n",
       "      <th>27</th>\n",
       "      <td>4</td>\n",
       "      <td>2020-03-31</td>\n",
       "      <td>56</td>\n",
       "      <td>184683.0</td>\n",
       "      <td>864201.0</td>\n",
       "      <td>59518</td>\n",
       "      <td>14236.0</td>\n",
       "      <td>26660.0</td>\n",
       "      <td>3402.0</td>\n",
       "      <td>3644.0</td>\n",
       "      <td>...</td>\n",
       "      <td>3746</td>\n",
       "      <td>26660.0</td>\n",
       "      <td>1108402</td>\n",
       "      <td>1048884</td>\n",
       "      <td>1048884</td>\n",
       "      <td>807.0</td>\n",
       "      <td>4357.0</td>\n",
       "      <td>79877.0</td>\n",
       "      <td>24153.0</td>\n",
       "      <td>104030.0</td>\n",
       "    </tr>\n",
       "    <tr>\n",
       "      <th>28</th>\n",
       "      <td>3</td>\n",
       "      <td>2020-04-01</td>\n",
       "      <td>56</td>\n",
       "      <td>210816.0</td>\n",
       "      <td>939190.0</td>\n",
       "      <td>59669</td>\n",
       "      <td>16223.0</td>\n",
       "      <td>31142.0</td>\n",
       "      <td>3837.0</td>\n",
       "      <td>4270.0</td>\n",
       "      <td>...</td>\n",
       "      <td>4700</td>\n",
       "      <td>31142.0</td>\n",
       "      <td>1209675</td>\n",
       "      <td>1150006</td>\n",
       "      <td>1150006</td>\n",
       "      <td>954.0</td>\n",
       "      <td>4482.0</td>\n",
       "      <td>74989.0</td>\n",
       "      <td>26133.0</td>\n",
       "      <td>101122.0</td>\n",
       "    </tr>\n",
       "    <tr>\n",
       "      <th>29</th>\n",
       "      <td>2</td>\n",
       "      <td>2020-04-02</td>\n",
       "      <td>56</td>\n",
       "      <td>239099.0</td>\n",
       "      <td>1028649.0</td>\n",
       "      <td>62101</td>\n",
       "      <td>17157.0</td>\n",
       "      <td>32649.0</td>\n",
       "      <td>4264.0</td>\n",
       "      <td>541.0</td>\n",
       "      <td>...</td>\n",
       "      <td>5784</td>\n",
       "      <td>32649.0</td>\n",
       "      <td>1329849</td>\n",
       "      <td>1267748</td>\n",
       "      <td>1267748</td>\n",
       "      <td>1084.0</td>\n",
       "      <td>1507.0</td>\n",
       "      <td>89459.0</td>\n",
       "      <td>28283.0</td>\n",
       "      <td>117742.0</td>\n",
       "    </tr>\n",
       "    <tr>\n",
       "      <th>30</th>\n",
       "      <td>1</td>\n",
       "      <td>2020-04-03</td>\n",
       "      <td>56</td>\n",
       "      <td>271988.0</td>\n",
       "      <td>1135356.0</td>\n",
       "      <td>61980</td>\n",
       "      <td>19926.0</td>\n",
       "      <td>35991.0</td>\n",
       "      <td>4686.0</td>\n",
       "      <td>593.0</td>\n",
       "      <td>...</td>\n",
       "      <td>6962</td>\n",
       "      <td>35991.0</td>\n",
       "      <td>1469324</td>\n",
       "      <td>1407344</td>\n",
       "      <td>1407344</td>\n",
       "      <td>1178.0</td>\n",
       "      <td>3342.0</td>\n",
       "      <td>106707.0</td>\n",
       "      <td>32889.0</td>\n",
       "      <td>139596.0</td>\n",
       "    </tr>\n",
       "    <tr>\n",
       "      <th>31</th>\n",
       "      <td>0</td>\n",
       "      <td>2020-04-04</td>\n",
       "      <td>112</td>\n",
       "      <td>305755.0</td>\n",
       "      <td>1318052.0</td>\n",
       "      <td>31146</td>\n",
       "      <td>44316.0</td>\n",
       "      <td>76804.0</td>\n",
       "      <td>10414.0</td>\n",
       "      <td>1382.0</td>\n",
       "      <td>...</td>\n",
       "      <td>16628</td>\n",
       "      <td>76804.0</td>\n",
       "      <td>3278760</td>\n",
       "      <td>3247614</td>\n",
       "      <td>3247614</td>\n",
       "      <td>9666.0</td>\n",
       "      <td>40813.0</td>\n",
       "      <td>1500748.0</td>\n",
       "      <td>339522.0</td>\n",
       "      <td>1840270.0</td>\n",
       "    </tr>\n",
       "  </tbody>\n",
       "</table>\n",
       "<p>5 rows × 25 columns</p>\n",
       "</div>"
      ],
      "text/plain": [
       "    index         ds  states         y   negative  pending  \\\n",
       "27      4 2020-03-31      56  184683.0   864201.0    59518   \n",
       "28      3 2020-04-01      56  210816.0   939190.0    59669   \n",
       "29      2 2020-04-02      56  239099.0  1028649.0    62101   \n",
       "30      1 2020-04-03      56  271988.0  1135356.0    61980   \n",
       "31      0 2020-04-04     112  305755.0  1318052.0    31146   \n",
       "\n",
       "    hospitalizedCurrently  hospitalizedCumulative  inIcuCurrently  \\\n",
       "27                14236.0                 26660.0          3402.0   \n",
       "28                16223.0                 31142.0          3837.0   \n",
       "29                17157.0                 32649.0          4264.0   \n",
       "30                19926.0                 35991.0          4686.0   \n",
       "31                44316.0                 76804.0         10414.0   \n",
       "\n",
       "    inIcuCumulative  ...  death  hospitalized    total totalTestResults  \\\n",
       "27           3644.0  ...   3746       26660.0  1108402          1048884   \n",
       "28           4270.0  ...   4700       31142.0  1209675          1150006   \n",
       "29            541.0  ...   5784       32649.0  1329849          1267748   \n",
       "30            593.0  ...   6962       35991.0  1469324          1407344   \n",
       "31           1382.0  ...  16628       76804.0  3278760          3247614   \n",
       "\n",
       "     posNeg  deathIncrease  hospitalizedIncrease  negativeIncrease  \\\n",
       "27  1048884          807.0                4357.0           79877.0   \n",
       "28  1150006          954.0                4482.0           74989.0   \n",
       "29  1267748         1084.0                1507.0           89459.0   \n",
       "30  1407344         1178.0                3342.0          106707.0   \n",
       "31  3247614         9666.0               40813.0         1500748.0   \n",
       "\n",
       "    positiveIncrease  totalTestResultsIncrease  \n",
       "27           24153.0                  104030.0  \n",
       "28           26133.0                  101122.0  \n",
       "29           28283.0                  117742.0  \n",
       "30           32889.0                  139596.0  \n",
       "31          339522.0                 1840270.0  \n",
       "\n",
       "[5 rows x 25 columns]"
      ]
     },
     "execution_count": 122,
     "metadata": {},
     "output_type": "execute_result"
    }
   ],
   "source": [
    "confirmed_data=c19_all_us[::-1].reset_index().rename(columns={'date':'ds','positive':'y'})\n",
    "confirmed_data.tail()\n"
   ]
  },
  {
   "cell_type": "code",
   "execution_count": 137,
   "metadata": {},
   "outputs": [
    {
     "data": {
      "text/plain": [
       "array([1.18000e+02, 1.76000e+02, 2.23000e+02, 3.41000e+02, 4.17000e+02,\n",
       "       5.84000e+02, 7.78000e+02, 1.05400e+03, 1.31500e+03, 1.92200e+03,\n",
       "       2.45000e+03, 3.17300e+03, 4.01900e+03, 5.72200e+03, 7.73000e+03,\n",
       "       1.17190e+04, 1.70330e+04, 2.31970e+04, 3.18790e+04, 4.21520e+04,\n",
       "       5.19540e+04, 6.39280e+04, 8.07350e+04, 9.94130e+04, 1.18234e+05,\n",
       "       1.39061e+05, 1.60530e+05, 1.84683e+05, 2.10816e+05, 2.39099e+05,\n",
       "       2.71988e+05, 3.05755e+05])"
      ]
     },
     "execution_count": 137,
     "metadata": {},
     "output_type": "execute_result"
    }
   ],
   "source": [
    "c19_all_us[::-1]['positive'].values"
   ]
  },
  {
   "cell_type": "code",
   "execution_count": 138,
   "metadata": {},
   "outputs": [],
   "source": [
    "# Randomly initialize the coefficients\n",
    "p0 = np.random.exponential(size=3)\n",
    "\n",
    "# Set min bound 0 on all coefficients, and set different max bounds # for each coefficient\n",
    "bounds = (0, [100000., 1000., 1000000000.])\n",
    "\n",
    "# Convert pd.Series to np.Array and use Scipy's curve fit to find   # the best Nonlinear Least Squares coefficients\n",
    "x = np.array(c19_all_us.index.values)+1\n",
    "y = np.array(c19_all_us[::-1]['positive'].values)\n",
    "\n",
    "(a,b,c),cov = curve_fit(func_logistic, \n",
    "                              x, y, bounds=bounds, p0=p0, maxfev=1000000)\n",
    "t_fastest = np.log(a) / b\n",
    "i_fastest = func_logistic(t_fastest, a, b, c)\n",
    "                "
   ]
  },
  {
   "cell_type": "code",
   "execution_count": 139,
   "metadata": {},
   "outputs": [
    {
     "name": "stdout",
     "output_type": "stream",
     "text": [
      "Growth stabilized: South Korea. | Fastest grow day: 29.61312547516455 | Infections: 233350.29788578112\n"
     ]
    }
   ],
   "source": [
    "res_df = c19_all_us[1:]['date'].copy()\n",
    "res_df['fastest_grow_day'] = t_fastest\n",
    "res_df['fastest_grow_value'] = i_fastest\n",
    "res_df['growth_stabilized'] = t_fastest <= x[-1]\n",
    "res_df['timestep'] = x\n",
    "res_df['res_func_logistic'] = func_logistic(x, a, b, c)\n",
    "\n",
    "\n",
    "if t_fastest <= x[-1]:\n",
    "    print('Growth stabilized: South Korea.','| Fastest grow day:', t_fastest, '| Infections:', i_fastest)\n",
    "    res_df['cap'] = func_logistic(x[-1] + 10, a, b, c)\n",
    "else:\n",
    "    print('Growth increasing: South Korea,',  '| Fastest grow day:', t_fastest, '| Infections:', i_fastest)\n",
    "    res_df['cap'] = func_logistic(i_fastest + 10, a, b, c)"
   ]
  },
  {
   "cell_type": "code",
   "execution_count": 140,
   "metadata": {},
   "outputs": [
    {
     "data": {
      "text/plain": [
       "445233.62743045343"
      ]
     },
     "execution_count": 140,
     "metadata": {},
     "output_type": "execute_result"
    }
   ],
   "source": [
    "res_df['cap']"
   ]
  },
  {
   "cell_type": "code",
   "execution_count": 130,
   "metadata": {
    "scrolled": false
   },
   "outputs": [
    {
     "name": "stderr",
     "output_type": "stream",
     "text": [
      "INFO:fbprophet:Disabling yearly seasonality. Run prophet with yearly_seasonality=True to override this.\n",
      "INFO:fbprophet:Disabling daily seasonality. Run prophet with daily_seasonality=True to override this.\n",
      "INFO:fbprophet:n_changepoints greater than number of observations.Using 24.\n",
      "/Users/jinbiao.ji/anaconda3/lib/python3.7/site-packages/pystan/misc.py:399: FutureWarning:\n",
      "\n",
      "Conversion of the second argument of issubdtype from `float` to `np.floating` is deprecated. In future, it will be treated as `np.float64 == np.dtype(float).type`.\n",
      "\n"
     ]
    },
    {
     "data": {
      "image/png": "[encoded data removed]",
      "text/plain": [
       "<Figure size 720x432 with 1 Axes>"
      ]
     },
     "metadata": {},
     "output_type": "display_data"
    }
   ],
   "source": [
    "m = Prophet(growth='logistic',interval_width=0.95)\n",
    "confirmed_data['cap'] = 1000000\n",
    "m.fit(confirmed_data)\n",
    "future = m.make_future_dataframe(periods=30)\n",
    "future['cap'] = 1000000\n",
    "forecast = m.predict(future)\n",
    "fig5 = m.plot(forecast)"
   ]
  },
  {
   "cell_type": "code",
   "execution_count": 180,
   "metadata": {},
   "outputs": [
    {
     "name": "stderr",
     "output_type": "stream",
     "text": [
      "INFO:fbprophet:Disabling yearly seasonality. Run prophet with yearly_seasonality=True to override this.\n",
      "INFO:fbprophet:Disabling daily seasonality. Run prophet with daily_seasonality=True to override this.\n",
      "INFO:fbprophet:n_changepoints greater than number of observations.Using 24.\n"
     ]
    },
    {
     "data": {
      "image/png": "[encoded data removed]",
      "text/plain": [
       "<Figure size 720x432 with 1 Axes>"
      ]
     },
     "metadata": {},
     "output_type": "display_data"
    }
   ],
   "source": [
    "m2 = Prophet(growth='logistic',interval_width=0.95)\n",
    "confirmed_data['cap'] = 500000\n",
    "m2.fit(confirmed_data)\n",
    "future = m2.make_future_dataframe(periods=30)\n",
    "future['cap'] = 500000\n",
    "forecast = m2.predict(future)\n",
    "fig6 = m2.plot(forecast)"
   ]
  },
  {
   "cell_type": "code",
   "execution_count": 150,
   "metadata": {},
   "outputs": [],
   "source": [
    "from fbprophet import Prophet, diagnostics\n",
    "from fbprophet.diagnostics import cross_validation, performance_metrics\n",
    "from fbprophet.plot import plot_cross_validation_metric, add_changepoints_to_plot, plot_plotly"
   ]
  },
  {
   "cell_type": "code",
   "execution_count": 151,
   "metadata": {},
   "outputs": [],
   "source": [
    "def rchi2(y, ytrue):\n",
    "    return ((y - ytrue)**2).sum() / len(y)"
   ]
  },
  {
   "cell_type": "code",
   "execution_count": 179,
   "metadata": {},
   "outputs": [
    {
     "name": "stderr",
     "output_type": "stream",
     "text": [
      "INFO:fbprophet:Making 23 forecasts with cutoffs between 2020-03-11 00:00:00 and 2020-04-02 00:00:00\n",
      "INFO:fbprophet:n_changepoints greater than number of observations.Using 5.\n",
      "INFO:fbprophet:n_changepoints greater than number of observations.Using 6.\n",
      "INFO:fbprophet:n_changepoints greater than number of observations.Using 7.\n",
      "INFO:fbprophet:n_changepoints greater than number of observations.Using 7.\n",
      "INFO:fbprophet:n_changepoints greater than number of observations.Using 8.\n",
      "INFO:fbprophet:n_changepoints greater than number of observations.Using 9.\n",
      "INFO:fbprophet:n_changepoints greater than number of observations.Using 10.\n",
      "INFO:fbprophet:n_changepoints greater than number of observations.Using 11.\n",
      "INFO:fbprophet:n_changepoints greater than number of observations.Using 11.\n",
      "INFO:fbprophet:n_changepoints greater than number of observations.Using 12.\n",
      "INFO:fbprophet:n_changepoints greater than number of observations.Using 13.\n",
      "INFO:fbprophet:n_changepoints greater than number of observations.Using 14.\n",
      "INFO:fbprophet:n_changepoints greater than number of observations.Using 15.\n",
      "INFO:fbprophet:n_changepoints greater than number of observations.Using 15.\n",
      "INFO:fbprophet:n_changepoints greater than number of observations.Using 16.\n",
      "INFO:fbprophet:n_changepoints greater than number of observations.Using 17.\n",
      "INFO:fbprophet:n_changepoints greater than number of observations.Using 18.\n",
      "INFO:fbprophet:n_changepoints greater than number of observations.Using 19.\n",
      "INFO:fbprophet:n_changepoints greater than number of observations.Using 19.\n",
      "INFO:fbprophet:n_changepoints greater than number of observations.Using 20.\n",
      "INFO:fbprophet:n_changepoints greater than number of observations.Using 21.\n",
      "INFO:fbprophet:n_changepoints greater than number of observations.Using 22.\n",
      "INFO:fbprophet:n_changepoints greater than number of observations.Using 23.\n"
     ]
    }
   ],
   "source": [
    "cvresult_m = cross_validation(m, horizon = '2 days')"
   ]
  },
  {
   "cell_type": "code",
   "execution_count": 157,
   "metadata": {
    "scrolled": true
   },
   "outputs": [
    {
     "data": {
      "text/html": [
       "<div>\n",
       "<style scoped>\n",
       "    .dataframe tbody tr th:only-of-type {\n",
       "        vertical-align: middle;\n",
       "    }\n",
       "\n",
       "    .dataframe tbody tr th {\n",
       "        vertical-align: top;\n",
       "    }\n",
       "\n",
       "    .dataframe thead th {\n",
       "        text-align: right;\n",
       "    }\n",
       "</style>\n",
       "<table border=\"1\" class=\"dataframe\">\n",
       "  <thead>\n",
       "    <tr style=\"text-align: right;\">\n",
       "      <th></th>\n",
       "      <th>ds</th>\n",
       "      <th>yhat</th>\n",
       "      <th>yhat_lower</th>\n",
       "      <th>yhat_upper</th>\n",
       "      <th>y</th>\n",
       "      <th>cutoff</th>\n",
       "    </tr>\n",
       "  </thead>\n",
       "  <tbody>\n",
       "    <tr>\n",
       "      <th>41</th>\n",
       "      <td>2020-04-02</td>\n",
       "      <td>272390.657317</td>\n",
       "      <td>264014.667745</td>\n",
       "      <td>280006.830059</td>\n",
       "      <td>239099.0</td>\n",
       "      <td>2020-03-31</td>\n",
       "    </tr>\n",
       "    <tr>\n",
       "      <th>42</th>\n",
       "      <td>2020-04-02</td>\n",
       "      <td>260591.295789</td>\n",
       "      <td>251256.134650</td>\n",
       "      <td>270036.836990</td>\n",
       "      <td>239099.0</td>\n",
       "      <td>2020-04-01</td>\n",
       "    </tr>\n",
       "    <tr>\n",
       "      <th>43</th>\n",
       "      <td>2020-04-03</td>\n",
       "      <td>303503.434962</td>\n",
       "      <td>293939.306781</td>\n",
       "      <td>312592.756496</td>\n",
       "      <td>271988.0</td>\n",
       "      <td>2020-04-01</td>\n",
       "    </tr>\n",
       "    <tr>\n",
       "      <th>44</th>\n",
       "      <td>2020-04-03</td>\n",
       "      <td>292087.071525</td>\n",
       "      <td>281149.375740</td>\n",
       "      <td>302081.344909</td>\n",
       "      <td>271988.0</td>\n",
       "      <td>2020-04-02</td>\n",
       "    </tr>\n",
       "    <tr>\n",
       "      <th>45</th>\n",
       "      <td>2020-04-04</td>\n",
       "      <td>335410.627400</td>\n",
       "      <td>325586.162490</td>\n",
       "      <td>345508.924113</td>\n",
       "      <td>305755.0</td>\n",
       "      <td>2020-04-02</td>\n",
       "    </tr>\n",
       "  </tbody>\n",
       "</table>\n",
       "</div>"
      ],
      "text/plain": [
       "           ds           yhat     yhat_lower     yhat_upper         y  \\\n",
       "41 2020-04-02  272390.657317  264014.667745  280006.830059  239099.0   \n",
       "42 2020-04-02  260591.295789  251256.134650  270036.836990  239099.0   \n",
       "43 2020-04-03  303503.434962  293939.306781  312592.756496  271988.0   \n",
       "44 2020-04-03  292087.071525  281149.375740  302081.344909  271988.0   \n",
       "45 2020-04-04  335410.627400  325586.162490  345508.924113  305755.0   \n",
       "\n",
       "       cutoff  \n",
       "41 2020-03-31  \n",
       "42 2020-04-01  \n",
       "43 2020-04-01  \n",
       "44 2020-04-02  \n",
       "45 2020-04-02  "
      ]
     },
     "execution_count": 157,
     "metadata": {},
     "output_type": "execute_result"
    }
   ],
   "source": [
    "cvresult_m.tail()"
   ]
  },
  {
   "cell_type": "code",
   "execution_count": 155,
   "metadata": {},
   "outputs": [
    {
     "name": "stdout",
     "output_type": "stream",
     "text": [
      "Reduced Chi square is 216855992.05798617.\n"
     ]
    }
   ],
   "source": [
    "print('Reduced Chi square is {}.'.format(rchi2(cvresult_m.yhat, \n",
    "                                               cvresult_m.y)))"
   ]
  },
  {
   "cell_type": "code",
   "execution_count": 142,
   "metadata": {},
   "outputs": [
    {
     "data": {
      "text/plain": [
       "<matplotlib.axes._subplots.AxesSubplot at 0x125baa0b8>"
      ]
     },
     "execution_count": 142,
     "metadata": {},
     "output_type": "execute_result"
    },
    {
     "data": {
      "image/png": "[encoded data removed]",
      "text/plain": [
       "<Figure size 432x288 with 1 Axes>"
      ]
     },
     "metadata": {
      "needs_background": "light"
     },
     "output_type": "display_data"
    }
   ],
   "source": [
    "c19_all_us[1:].plot(x='date',y='positiveIncrease',rot = 60)"
   ]
  },
  {
   "cell_type": "code",
   "execution_count": 160,
   "metadata": {
    "scrolled": false
   },
   "outputs": [
    {
     "name": "stderr",
     "output_type": "stream",
     "text": [
      "INFO:fbprophet:Making 23 forecasts with cutoffs between 2020-03-11 00:00:00 and 2020-04-02 00:00:00\n",
      "INFO:fbprophet:n_changepoints greater than number of observations.Using 5.\n",
      "/Users/jinbiao.ji/anaconda3/lib/python3.7/site-packages/pystan/misc.py:399: FutureWarning:\n",
      "\n",
      "Conversion of the second argument of issubdtype from `float` to `np.floating` is deprecated. In future, it will be treated as `np.float64 == np.dtype(float).type`.\n",
      "\n",
      "INFO:fbprophet:n_changepoints greater than number of observations.Using 6.\n",
      "/Users/jinbiao.ji/anaconda3/lib/python3.7/site-packages/pystan/misc.py:399: FutureWarning:\n",
      "\n",
      "Conversion of the second argument of issubdtype from `float` to `np.floating` is deprecated. In future, it will be treated as `np.float64 == np.dtype(float).type`.\n",
      "\n",
      "INFO:fbprophet:n_changepoints greater than number of observations.Using 7.\n",
      "/Users/jinbiao.ji/anaconda3/lib/python3.7/site-packages/pystan/misc.py:399: FutureWarning:\n",
      "\n",
      "Conversion of the second argument of issubdtype from `float` to `np.floating` is deprecated. In future, it will be treated as `np.float64 == np.dtype(float).type`.\n",
      "\n",
      "INFO:fbprophet:n_changepoints greater than number of observations.Using 7.\n",
      "/Users/jinbiao.ji/anaconda3/lib/python3.7/site-packages/pystan/misc.py:399: FutureWarning:\n",
      "\n",
      "Conversion of the second argument of issubdtype from `float` to `np.floating` is deprecated. In future, it will be treated as `np.float64 == np.dtype(float).type`.\n",
      "\n",
      "INFO:fbprophet:n_changepoints greater than number of observations.Using 8.\n",
      "/Users/jinbiao.ji/anaconda3/lib/python3.7/site-packages/pystan/misc.py:399: FutureWarning:\n",
      "\n",
      "Conversion of the second argument of issubdtype from `float` to `np.floating` is deprecated. In future, it will be treated as `np.float64 == np.dtype(float).type`.\n",
      "\n",
      "INFO:fbprophet:n_changepoints greater than number of observations.Using 9.\n",
      "/Users/jinbiao.ji/anaconda3/lib/python3.7/site-packages/pystan/misc.py:399: FutureWarning:\n",
      "\n",
      "Conversion of the second argument of issubdtype from `float` to `np.floating` is deprecated. In future, it will be treated as `np.float64 == np.dtype(float).type`.\n",
      "\n",
      "INFO:fbprophet:n_changepoints greater than number of observations.Using 10.\n",
      "/Users/jinbiao.ji/anaconda3/lib/python3.7/site-packages/pystan/misc.py:399: FutureWarning:\n",
      "\n",
      "Conversion of the second argument of issubdtype from `float` to `np.floating` is deprecated. In future, it will be treated as `np.float64 == np.dtype(float).type`.\n",
      "\n",
      "INFO:fbprophet:n_changepoints greater than number of observations.Using 11.\n",
      "/Users/jinbiao.ji/anaconda3/lib/python3.7/site-packages/pystan/misc.py:399: FutureWarning:\n",
      "\n",
      "Conversion of the second argument of issubdtype from `float` to `np.floating` is deprecated. In future, it will be treated as `np.float64 == np.dtype(float).type`.\n",
      "\n",
      "INFO:fbprophet:n_changepoints greater than number of observations.Using 11.\n",
      "/Users/jinbiao.ji/anaconda3/lib/python3.7/site-packages/pystan/misc.py:399: FutureWarning:\n",
      "\n",
      "Conversion of the second argument of issubdtype from `float` to `np.floating` is deprecated. In future, it will be treated as `np.float64 == np.dtype(float).type`.\n",
      "\n",
      "INFO:fbprophet:n_changepoints greater than number of observations.Using 12.\n",
      "/Users/jinbiao.ji/anaconda3/lib/python3.7/site-packages/pystan/misc.py:399: FutureWarning:\n",
      "\n",
      "Conversion of the second argument of issubdtype from `float` to `np.floating` is deprecated. In future, it will be treated as `np.float64 == np.dtype(float).type`.\n",
      "\n",
      "INFO:fbprophet:n_changepoints greater than number of observations.Using 13.\n",
      "/Users/jinbiao.ji/anaconda3/lib/python3.7/site-packages/pystan/misc.py:399: FutureWarning:\n",
      "\n",
      "Conversion of the second argument of issubdtype from `float` to `np.floating` is deprecated. In future, it will be treated as `np.float64 == np.dtype(float).type`.\n",
      "\n",
      "INFO:fbprophet:n_changepoints greater than number of observations.Using 14.\n",
      "/Users/jinbiao.ji/anaconda3/lib/python3.7/site-packages/pystan/misc.py:399: FutureWarning:\n",
      "\n",
      "Conversion of the second argument of issubdtype from `float` to `np.floating` is deprecated. In future, it will be treated as `np.float64 == np.dtype(float).type`.\n",
      "\n",
      "INFO:fbprophet:n_changepoints greater than number of observations.Using 15.\n",
      "/Users/jinbiao.ji/anaconda3/lib/python3.7/site-packages/pystan/misc.py:399: FutureWarning:\n",
      "\n",
      "Conversion of the second argument of issubdtype from `float` to `np.floating` is deprecated. In future, it will be treated as `np.float64 == np.dtype(float).type`.\n",
      "\n",
      "INFO:fbprophet:n_changepoints greater than number of observations.Using 15.\n",
      "/Users/jinbiao.ji/anaconda3/lib/python3.7/site-packages/pystan/misc.py:399: FutureWarning:\n",
      "\n",
      "Conversion of the second argument of issubdtype from `float` to `np.floating` is deprecated. In future, it will be treated as `np.float64 == np.dtype(float).type`.\n",
      "\n",
      "INFO:fbprophet:n_changepoints greater than number of observations.Using 16.\n",
      "/Users/jinbiao.ji/anaconda3/lib/python3.7/site-packages/pystan/misc.py:399: FutureWarning:\n",
      "\n",
      "Conversion of the second argument of issubdtype from `float` to `np.floating` is deprecated. In future, it will be treated as `np.float64 == np.dtype(float).type`.\n",
      "\n",
      "INFO:fbprophet:n_changepoints greater than number of observations.Using 17.\n",
      "/Users/jinbiao.ji/anaconda3/lib/python3.7/site-packages/pystan/misc.py:399: FutureWarning:\n",
      "\n",
      "Conversion of the second argument of issubdtype from `float` to `np.floating` is deprecated. In future, it will be treated as `np.float64 == np.dtype(float).type`.\n",
      "\n",
      "INFO:fbprophet:n_changepoints greater than number of observations.Using 18.\n",
      "/Users/jinbiao.ji/anaconda3/lib/python3.7/site-packages/pystan/misc.py:399: FutureWarning:\n",
      "\n",
      "Conversion of the second argument of issubdtype from `float` to `np.floating` is deprecated. In future, it will be treated as `np.float64 == np.dtype(float).type`.\n",
      "\n",
      "INFO:fbprophet:n_changepoints greater than number of observations.Using 19.\n",
      "/Users/jinbiao.ji/anaconda3/lib/python3.7/site-packages/pystan/misc.py:399: FutureWarning:\n",
      "\n",
      "Conversion of the second argument of issubdtype from `float` to `np.floating` is deprecated. In future, it will be treated as `np.float64 == np.dtype(float).type`.\n",
      "\n",
      "INFO:fbprophet:n_changepoints greater than number of observations.Using 19.\n",
      "/Users/jinbiao.ji/anaconda3/lib/python3.7/site-packages/pystan/misc.py:399: FutureWarning:\n",
      "\n",
      "Conversion of the second argument of issubdtype from `float` to `np.floating` is deprecated. In future, it will be treated as `np.float64 == np.dtype(float).type`.\n",
      "\n",
      "INFO:fbprophet:n_changepoints greater than number of observations.Using 20.\n",
      "/Users/jinbiao.ji/anaconda3/lib/python3.7/site-packages/pystan/misc.py:399: FutureWarning:\n",
      "\n",
      "Conversion of the second argument of issubdtype from `float` to `np.floating` is deprecated. In future, it will be treated as `np.float64 == np.dtype(float).type`.\n",
      "\n",
      "INFO:fbprophet:n_changepoints greater than number of observations.Using 21.\n",
      "/Users/jinbiao.ji/anaconda3/lib/python3.7/site-packages/pystan/misc.py:399: FutureWarning:\n",
      "\n",
      "Conversion of the second argument of issubdtype from `float` to `np.floating` is deprecated. In future, it will be treated as `np.float64 == np.dtype(float).type`.\n",
      "\n",
      "INFO:fbprophet:n_changepoints greater than number of observations.Using 22.\n",
      "/Users/jinbiao.ji/anaconda3/lib/python3.7/site-packages/pystan/misc.py:399: FutureWarning:\n",
      "\n",
      "Conversion of the second argument of issubdtype from `float` to `np.floating` is deprecated. In future, it will be treated as `np.float64 == np.dtype(float).type`.\n",
      "\n",
      "INFO:fbprophet:n_changepoints greater than number of observations.Using 23.\n",
      "/Users/jinbiao.ji/anaconda3/lib/python3.7/site-packages/pystan/misc.py:399: FutureWarning:\n",
      "\n",
      "Conversion of the second argument of issubdtype from `float` to `np.floating` is deprecated. In future, it will be treated as `np.float64 == np.dtype(float).type`.\n",
      "\n"
     ]
    }
   ],
   "source": [
    "cvresult_m2 = cross_validation(m2, horizon = '2 days')"
   ]
  },
  {
   "cell_type": "code",
   "execution_count": null,
   "metadata": {},
   "outputs": [],
   "source": []
  }
 ],
 "metadata": {
  "kernelspec": {
   "display_name": "Python 3",
   "language": "python",
   "name": "python3"
  },
  "language_info": {
   "codemirror_mode": {
    "name": "ipython",
    "version": 3
   },
   "file_extension": ".py",
   "mimetype": "text/x-python",
   "name": "python",
   "nbconvert_exporter": "python",
   "pygments_lexer": "ipython3",
   "version": "3.7.2"
  }
 },
 "nbformat": 4,
 "nbformat_minor": 2
}
