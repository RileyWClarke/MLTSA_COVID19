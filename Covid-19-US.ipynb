{
 "cells": [
  {
   "cell_type": "code",
   "execution_count": 1,
   "metadata": {},
   "outputs": [],
   "source": [
    "from matplotlib import pyplot as plt\n",
    "import numpy as np\n",
    "import pandas as pd\n",
    "%matplotlib inline\n",
    "\n",
    "from fbprophet import Prophet\n",
    "import warnings\n",
    "warnings.filterwarnings(\"ignore\")"
   ]
  },
  {
   "cell_type": "code",
   "execution_count": 2,
   "metadata": {},
   "outputs": [
    {
     "name": "stdout",
     "output_type": "stream",
     "text": [
      "COVID-19-models.ipynb     china-covid19-data.zip    \u001b[34mcovid19-in-usa\u001b[m\u001b[m/\r\n",
      "Covid-19-China.ipynb      \u001b[34mcoronavirus-in-italy\u001b[m\u001b[m/     covid19-in-usa.zip\r\n",
      "Covid-19-US.ipynb         coronavirus-in-italy.zip  covid19_data.csv\r\n",
      "\u001b[34mchina-covid19-data\u001b[m\u001b[m/       \u001b[34mcoronavirusdataset\u001b[m\u001b[m/\r\n"
     ]
    }
   ],
   "source": [
    "ls"
   ]
  },
  {
   "cell_type": "code",
   "execution_count": 3,
   "metadata": {},
   "outputs": [
    {
     "name": "stdout",
     "output_type": "stream",
     "text": [
      "/Users/jinbiao.ji/mygithub/MLTSA_JJi/midterm/covid19-in-usa\n"
     ]
    }
   ],
   "source": [
    "cd covid19-in-usa/"
   ]
  },
  {
   "cell_type": "code",
   "execution_count": 4,
   "metadata": {},
   "outputs": [
    {
     "name": "stdout",
     "output_type": "stream",
     "text": [
      "us_covid19_daily.csv         us_states_covid19_daily.csv\r\n"
     ]
    }
   ],
   "source": [
    "ls"
   ]
  },
  {
   "cell_type": "code",
   "execution_count": 49,
   "metadata": {},
   "outputs": [],
   "source": [
    "c19_all_us = pd.read_csv('us_covid19_daily.csv')"
   ]
  },
  {
   "cell_type": "code",
   "execution_count": 50,
   "metadata": {},
   "outputs": [],
   "source": [
    "c19_all_us['date'] = pd.to_datetime(c19_all_us['date'], format='%Y%m%d')"
   ]
  },
  {
   "cell_type": "code",
   "execution_count": 51,
   "metadata": {},
   "outputs": [
    {
     "data": {
      "text/html": [
       "<div>\n",
       "<style scoped>\n",
       "    .dataframe tbody tr th:only-of-type {\n",
       "        vertical-align: middle;\n",
       "    }\n",
       "\n",
       "    .dataframe tbody tr th {\n",
       "        vertical-align: top;\n",
       "    }\n",
       "\n",
       "    .dataframe thead th {\n",
       "        text-align: right;\n",
       "    }\n",
       "</style>\n",
       "<table border=\"1\" class=\"dataframe\">\n",
       "  <thead>\n",
       "    <tr style=\"text-align: right;\">\n",
       "      <th></th>\n",
       "      <th>date</th>\n",
       "      <th>states</th>\n",
       "      <th>positive</th>\n",
       "      <th>negative</th>\n",
       "      <th>pending</th>\n",
       "      <th>hospitalizedCurrently</th>\n",
       "      <th>hospitalizedCumulative</th>\n",
       "      <th>inIcuCurrently</th>\n",
       "      <th>inIcuCumulative</th>\n",
       "      <th>onVentilatorCurrently</th>\n",
       "      <th>...</th>\n",
       "      <th>death</th>\n",
       "      <th>hospitalized</th>\n",
       "      <th>total</th>\n",
       "      <th>totalTestResults</th>\n",
       "      <th>posNeg</th>\n",
       "      <th>deathIncrease</th>\n",
       "      <th>hospitalizedIncrease</th>\n",
       "      <th>negativeIncrease</th>\n",
       "      <th>positiveIncrease</th>\n",
       "      <th>totalTestResultsIncrease</th>\n",
       "    </tr>\n",
       "  </thead>\n",
       "  <tbody>\n",
       "    <tr>\n",
       "      <th>0</th>\n",
       "      <td>2020-04-28</td>\n",
       "      <td>56</td>\n",
       "      <td>1005592</td>\n",
       "      <td>4790136.0</td>\n",
       "      <td>4206.0</td>\n",
       "      <td>54940.0</td>\n",
       "      <td>106265.0</td>\n",
       "      <td>9491.0</td>\n",
       "      <td>3798.0</td>\n",
       "      <td>4760.0</td>\n",
       "      <td>...</td>\n",
       "      <td>52525.0</td>\n",
       "      <td>106265.0</td>\n",
       "      <td>5799934</td>\n",
       "      <td>5795728</td>\n",
       "      <td>5795728</td>\n",
       "      <td>2198.0</td>\n",
       "      <td>8483.0</td>\n",
       "      <td>177775.0</td>\n",
       "      <td>24458.0</td>\n",
       "      <td>202233.0</td>\n",
       "    </tr>\n",
       "    <tr>\n",
       "      <th>1</th>\n",
       "      <td>2020-04-27</td>\n",
       "      <td>56</td>\n",
       "      <td>981134</td>\n",
       "      <td>4612361.0</td>\n",
       "      <td>4077.0</td>\n",
       "      <td>54971.0</td>\n",
       "      <td>97782.0</td>\n",
       "      <td>9655.0</td>\n",
       "      <td>3720.0</td>\n",
       "      <td>4867.0</td>\n",
       "      <td>...</td>\n",
       "      <td>50327.0</td>\n",
       "      <td>97782.0</td>\n",
       "      <td>5597572</td>\n",
       "      <td>5593495</td>\n",
       "      <td>5593495</td>\n",
       "      <td>1163.0</td>\n",
       "      <td>1972.0</td>\n",
       "      <td>168567.0</td>\n",
       "      <td>21876.0</td>\n",
       "      <td>190443.0</td>\n",
       "    </tr>\n",
       "    <tr>\n",
       "      <th>2</th>\n",
       "      <td>2020-04-26</td>\n",
       "      <td>56</td>\n",
       "      <td>959258</td>\n",
       "      <td>4443794.0</td>\n",
       "      <td>4445.0</td>\n",
       "      <td>55030.0</td>\n",
       "      <td>95810.0</td>\n",
       "      <td>14831.0</td>\n",
       "      <td>2571.0</td>\n",
       "      <td>5121.0</td>\n",
       "      <td>...</td>\n",
       "      <td>49164.0</td>\n",
       "      <td>95810.0</td>\n",
       "      <td>5407497</td>\n",
       "      <td>5403052</td>\n",
       "      <td>5403052</td>\n",
       "      <td>1095.0</td>\n",
       "      <td>1067.0</td>\n",
       "      <td>179387.0</td>\n",
       "      <td>27016.0</td>\n",
       "      <td>206403.0</td>\n",
       "    </tr>\n",
       "    <tr>\n",
       "      <th>3</th>\n",
       "      <td>2020-04-25</td>\n",
       "      <td>56</td>\n",
       "      <td>932242</td>\n",
       "      <td>4264407.0</td>\n",
       "      <td>5315.0</td>\n",
       "      <td>56344.0</td>\n",
       "      <td>94743.0</td>\n",
       "      <td>15020.0</td>\n",
       "      <td>2516.0</td>\n",
       "      <td>5266.0</td>\n",
       "      <td>...</td>\n",
       "      <td>48069.0</td>\n",
       "      <td>94743.0</td>\n",
       "      <td>5201964</td>\n",
       "      <td>5196649</td>\n",
       "      <td>5196649</td>\n",
       "      <td>1818.0</td>\n",
       "      <td>1377.0</td>\n",
       "      <td>235320.0</td>\n",
       "      <td>35936.0</td>\n",
       "      <td>271256.0</td>\n",
       "    </tr>\n",
       "    <tr>\n",
       "      <th>4</th>\n",
       "      <td>2020-04-24</td>\n",
       "      <td>56</td>\n",
       "      <td>896306</td>\n",
       "      <td>4029087.0</td>\n",
       "      <td>4396.0</td>\n",
       "      <td>56075.0</td>\n",
       "      <td>93366.0</td>\n",
       "      <td>15078.0</td>\n",
       "      <td>2468.0</td>\n",
       "      <td>5187.0</td>\n",
       "      <td>...</td>\n",
       "      <td>46251.0</td>\n",
       "      <td>93366.0</td>\n",
       "      <td>4929789</td>\n",
       "      <td>4925393</td>\n",
       "      <td>4925393</td>\n",
       "      <td>1866.0</td>\n",
       "      <td>2258.0</td>\n",
       "      <td>197707.0</td>\n",
       "      <td>34518.0</td>\n",
       "      <td>232225.0</td>\n",
       "    </tr>\n",
       "  </tbody>\n",
       "</table>\n",
       "<p>5 rows × 24 columns</p>\n",
       "</div>"
      ],
      "text/plain": [
       "        date  states  positive   negative  pending  hospitalizedCurrently  \\\n",
       "0 2020-04-28      56   1005592  4790136.0   4206.0                54940.0   \n",
       "1 2020-04-27      56    981134  4612361.0   4077.0                54971.0   \n",
       "2 2020-04-26      56    959258  4443794.0   4445.0                55030.0   \n",
       "3 2020-04-25      56    932242  4264407.0   5315.0                56344.0   \n",
       "4 2020-04-24      56    896306  4029087.0   4396.0                56075.0   \n",
       "\n",
       "   hospitalizedCumulative  inIcuCurrently  inIcuCumulative  \\\n",
       "0                106265.0          9491.0           3798.0   \n",
       "1                 97782.0          9655.0           3720.0   \n",
       "2                 95810.0         14831.0           2571.0   \n",
       "3                 94743.0         15020.0           2516.0   \n",
       "4                 93366.0         15078.0           2468.0   \n",
       "\n",
       "   onVentilatorCurrently  ...    death  hospitalized    total  \\\n",
       "0                 4760.0  ...  52525.0      106265.0  5799934   \n",
       "1                 4867.0  ...  50327.0       97782.0  5597572   \n",
       "2                 5121.0  ...  49164.0       95810.0  5407497   \n",
       "3                 5266.0  ...  48069.0       94743.0  5201964   \n",
       "4                 5187.0  ...  46251.0       93366.0  4929789   \n",
       "\n",
       "  totalTestResults   posNeg  deathIncrease  hospitalizedIncrease  \\\n",
       "0          5795728  5795728         2198.0                8483.0   \n",
       "1          5593495  5593495         1163.0                1972.0   \n",
       "2          5403052  5403052         1095.0                1067.0   \n",
       "3          5196649  5196649         1818.0                1377.0   \n",
       "4          4925393  4925393         1866.0                2258.0   \n",
       "\n",
       "   negativeIncrease  positiveIncrease  totalTestResultsIncrease  \n",
       "0          177775.0           24458.0                  202233.0  \n",
       "1          168567.0           21876.0                  190443.0  \n",
       "2          179387.0           27016.0                  206403.0  \n",
       "3          235320.0           35936.0                  271256.0  \n",
       "4          197707.0           34518.0                  232225.0  \n",
       "\n",
       "[5 rows x 24 columns]"
      ]
     },
     "execution_count": 51,
     "metadata": {},
     "output_type": "execute_result"
    }
   ],
   "source": [
    "c19_all_us.head()"
   ]
  },
  {
   "cell_type": "code",
   "execution_count": 52,
   "metadata": {
    "scrolled": false
   },
   "outputs": [
    {
     "data": {
      "text/plain": [
       "<matplotlib.axes._subplots.AxesSubplot at 0x12b9dcc50>"
      ]
     },
     "execution_count": 52,
     "metadata": {},
     "output_type": "execute_result"
    },
    {
     "data": {
      "image/png": "[encoded data removed]",
      "text/plain": [
       "<Figure size 432x288 with 1 Axes>"
      ]
     },
     "metadata": {
      "needs_background": "light"
     },
     "output_type": "display_data"
    }
   ],
   "source": [
    "pd.plotting.register_matplotlib_converters()\n",
    "c19_all_us.plot(x='date',y='positive',rot = 60)"
   ]
  },
  {
   "cell_type": "code",
   "execution_count": 53,
   "metadata": {},
   "outputs": [
    {
     "data": {
      "text/plain": [
       "Timestamp('2020-01-22 00:00:00')"
      ]
     },
     "execution_count": 53,
     "metadata": {},
     "output_type": "execute_result"
    }
   ],
   "source": [
    "c19_all_us['date'].iloc[-1]"
   ]
  },
  {
   "cell_type": "markdown",
   "metadata": {},
   "source": [
    "### Daily Increase"
   ]
  },
  {
   "cell_type": "code",
   "execution_count": 54,
   "metadata": {},
   "outputs": [
    {
     "data": {
      "text/plain": [
       "(18283, 18392)"
      ]
     },
     "execution_count": 54,
     "metadata": {},
     "output_type": "execute_result"
    },
    {
     "data": {
      "image/png": "[encoded data removed]",
      "text/plain": [
       "<Figure size 720x432 with 1 Axes>"
      ]
     },
     "metadata": {
      "needs_background": "light"
     },
     "output_type": "display_data"
    }
   ],
   "source": [
    "fig,ax=plt.subplots(figsize=(10,6))\n",
    "c19_all_us[1:].plot(x='date',y='positiveIncrease',ax=ax)\n",
    "ax.set_xlim(c19_all_us['date'].iloc[-1], pd.Timestamp('2020-05-10'))"
   ]
  },
  {
   "cell_type": "markdown",
   "metadata": {},
   "source": [
    "### Step 1:"
   ]
  },
  {
   "cell_type": "code",
   "execution_count": 55,
   "metadata": {},
   "outputs": [],
   "source": [
    "def func_logistic(t, a, b, c):\n",
    "    return c / (1 + a * np.exp(-b*t))"
   ]
  },
  {
   "cell_type": "code",
   "execution_count": 56,
   "metadata": {},
   "outputs": [],
   "source": [
    "from scipy.optimize import curve_fit"
   ]
  },
  {
   "cell_type": "code",
   "execution_count": 57,
   "metadata": {
    "scrolled": false
   },
   "outputs": [
    {
     "data": {
      "text/html": [
       "<div>\n",
       "<style scoped>\n",
       "    .dataframe tbody tr th:only-of-type {\n",
       "        vertical-align: middle;\n",
       "    }\n",
       "\n",
       "    .dataframe tbody tr th {\n",
       "        vertical-align: top;\n",
       "    }\n",
       "\n",
       "    .dataframe thead th {\n",
       "        text-align: right;\n",
       "    }\n",
       "</style>\n",
       "<table border=\"1\" class=\"dataframe\">\n",
       "  <thead>\n",
       "    <tr style=\"text-align: right;\">\n",
       "      <th></th>\n",
       "      <th>index</th>\n",
       "      <th>ds</th>\n",
       "      <th>states</th>\n",
       "      <th>y</th>\n",
       "      <th>negative</th>\n",
       "      <th>pending</th>\n",
       "      <th>hospitalizedCurrently</th>\n",
       "      <th>hospitalizedCumulative</th>\n",
       "      <th>inIcuCurrently</th>\n",
       "      <th>inIcuCumulative</th>\n",
       "      <th>...</th>\n",
       "      <th>death</th>\n",
       "      <th>hospitalized</th>\n",
       "      <th>total</th>\n",
       "      <th>totalTestResults</th>\n",
       "      <th>posNeg</th>\n",
       "      <th>deathIncrease</th>\n",
       "      <th>hospitalizedIncrease</th>\n",
       "      <th>negativeIncrease</th>\n",
       "      <th>positiveIncrease</th>\n",
       "      <th>totalTestResultsIncrease</th>\n",
       "    </tr>\n",
       "  </thead>\n",
       "  <tbody>\n",
       "    <tr>\n",
       "      <th>93</th>\n",
       "      <td>4</td>\n",
       "      <td>2020-04-24</td>\n",
       "      <td>56</td>\n",
       "      <td>896306</td>\n",
       "      <td>4029087.0</td>\n",
       "      <td>4396.0</td>\n",
       "      <td>56075.0</td>\n",
       "      <td>93366.0</td>\n",
       "      <td>15078.0</td>\n",
       "      <td>2468.0</td>\n",
       "      <td>...</td>\n",
       "      <td>46251.0</td>\n",
       "      <td>93366.0</td>\n",
       "      <td>4929789</td>\n",
       "      <td>4925393</td>\n",
       "      <td>4925393</td>\n",
       "      <td>1866.0</td>\n",
       "      <td>2258.0</td>\n",
       "      <td>197707.0</td>\n",
       "      <td>34518.0</td>\n",
       "      <td>232225.0</td>\n",
       "    </tr>\n",
       "    <tr>\n",
       "      <th>94</th>\n",
       "      <td>3</td>\n",
       "      <td>2020-04-25</td>\n",
       "      <td>56</td>\n",
       "      <td>932242</td>\n",
       "      <td>4264407.0</td>\n",
       "      <td>5315.0</td>\n",
       "      <td>56344.0</td>\n",
       "      <td>94743.0</td>\n",
       "      <td>15020.0</td>\n",
       "      <td>2516.0</td>\n",
       "      <td>...</td>\n",
       "      <td>48069.0</td>\n",
       "      <td>94743.0</td>\n",
       "      <td>5201964</td>\n",
       "      <td>5196649</td>\n",
       "      <td>5196649</td>\n",
       "      <td>1818.0</td>\n",
       "      <td>1377.0</td>\n",
       "      <td>235320.0</td>\n",
       "      <td>35936.0</td>\n",
       "      <td>271256.0</td>\n",
       "    </tr>\n",
       "    <tr>\n",
       "      <th>95</th>\n",
       "      <td>2</td>\n",
       "      <td>2020-04-26</td>\n",
       "      <td>56</td>\n",
       "      <td>959258</td>\n",
       "      <td>4443794.0</td>\n",
       "      <td>4445.0</td>\n",
       "      <td>55030.0</td>\n",
       "      <td>95810.0</td>\n",
       "      <td>14831.0</td>\n",
       "      <td>2571.0</td>\n",
       "      <td>...</td>\n",
       "      <td>49164.0</td>\n",
       "      <td>95810.0</td>\n",
       "      <td>5407497</td>\n",
       "      <td>5403052</td>\n",
       "      <td>5403052</td>\n",
       "      <td>1095.0</td>\n",
       "      <td>1067.0</td>\n",
       "      <td>179387.0</td>\n",
       "      <td>27016.0</td>\n",
       "      <td>206403.0</td>\n",
       "    </tr>\n",
       "    <tr>\n",
       "      <th>96</th>\n",
       "      <td>1</td>\n",
       "      <td>2020-04-27</td>\n",
       "      <td>56</td>\n",
       "      <td>981134</td>\n",
       "      <td>4612361.0</td>\n",
       "      <td>4077.0</td>\n",
       "      <td>54971.0</td>\n",
       "      <td>97782.0</td>\n",
       "      <td>9655.0</td>\n",
       "      <td>3720.0</td>\n",
       "      <td>...</td>\n",
       "      <td>50327.0</td>\n",
       "      <td>97782.0</td>\n",
       "      <td>5597572</td>\n",
       "      <td>5593495</td>\n",
       "      <td>5593495</td>\n",
       "      <td>1163.0</td>\n",
       "      <td>1972.0</td>\n",
       "      <td>168567.0</td>\n",
       "      <td>21876.0</td>\n",
       "      <td>190443.0</td>\n",
       "    </tr>\n",
       "    <tr>\n",
       "      <th>97</th>\n",
       "      <td>0</td>\n",
       "      <td>2020-04-28</td>\n",
       "      <td>56</td>\n",
       "      <td>1005592</td>\n",
       "      <td>4790136.0</td>\n",
       "      <td>4206.0</td>\n",
       "      <td>54940.0</td>\n",
       "      <td>106265.0</td>\n",
       "      <td>9491.0</td>\n",
       "      <td>3798.0</td>\n",
       "      <td>...</td>\n",
       "      <td>52525.0</td>\n",
       "      <td>106265.0</td>\n",
       "      <td>5799934</td>\n",
       "      <td>5795728</td>\n",
       "      <td>5795728</td>\n",
       "      <td>2198.0</td>\n",
       "      <td>8483.0</td>\n",
       "      <td>177775.0</td>\n",
       "      <td>24458.0</td>\n",
       "      <td>202233.0</td>\n",
       "    </tr>\n",
       "  </tbody>\n",
       "</table>\n",
       "<p>5 rows × 25 columns</p>\n",
       "</div>"
      ],
      "text/plain": [
       "    index         ds  states        y   negative  pending  \\\n",
       "93      4 2020-04-24      56   896306  4029087.0   4396.0   \n",
       "94      3 2020-04-25      56   932242  4264407.0   5315.0   \n",
       "95      2 2020-04-26      56   959258  4443794.0   4445.0   \n",
       "96      1 2020-04-27      56   981134  4612361.0   4077.0   \n",
       "97      0 2020-04-28      56  1005592  4790136.0   4206.0   \n",
       "\n",
       "    hospitalizedCurrently  hospitalizedCumulative  inIcuCurrently  \\\n",
       "93                56075.0                 93366.0         15078.0   \n",
       "94                56344.0                 94743.0         15020.0   \n",
       "95                55030.0                 95810.0         14831.0   \n",
       "96                54971.0                 97782.0          9655.0   \n",
       "97                54940.0                106265.0          9491.0   \n",
       "\n",
       "    inIcuCumulative  ...    death  hospitalized    total totalTestResults  \\\n",
       "93           2468.0  ...  46251.0       93366.0  4929789          4925393   \n",
       "94           2516.0  ...  48069.0       94743.0  5201964          5196649   \n",
       "95           2571.0  ...  49164.0       95810.0  5407497          5403052   \n",
       "96           3720.0  ...  50327.0       97782.0  5597572          5593495   \n",
       "97           3798.0  ...  52525.0      106265.0  5799934          5795728   \n",
       "\n",
       "     posNeg  deathIncrease  hospitalizedIncrease  negativeIncrease  \\\n",
       "93  4925393         1866.0                2258.0          197707.0   \n",
       "94  5196649         1818.0                1377.0          235320.0   \n",
       "95  5403052         1095.0                1067.0          179387.0   \n",
       "96  5593495         1163.0                1972.0          168567.0   \n",
       "97  5795728         2198.0                8483.0          177775.0   \n",
       "\n",
       "    positiveIncrease  totalTestResultsIncrease  \n",
       "93           34518.0                  232225.0  \n",
       "94           35936.0                  271256.0  \n",
       "95           27016.0                  206403.0  \n",
       "96           21876.0                  190443.0  \n",
       "97           24458.0                  202233.0  \n",
       "\n",
       "[5 rows x 25 columns]"
      ]
     },
     "execution_count": 57,
     "metadata": {},
     "output_type": "execute_result"
    }
   ],
   "source": [
    "confirmed_data=c19_all_us[::-1].reset_index().rename(columns={'date':'ds','positive':'y'})\n",
    "confirmed_data.tail()\n"
   ]
  },
  {
   "cell_type": "code",
   "execution_count": 58,
   "metadata": {},
   "outputs": [
    {
     "data": {
      "text/plain": [
       "array([      1,       1,       1,       1,       1,       1,       1,\n",
       "             1,       1,       1,       1,       1,       1,       1,\n",
       "             1,       1,       2,       2,       2,       2,       2,\n",
       "             2,       2,       2,       2,       2,       2,       2,\n",
       "             2,       2,       2,       2,       2,       2,       2,\n",
       "             2,       2,       9,      18,      40,      53,      94,\n",
       "           207,     275,     387,     538,     721,    1013,    1280,\n",
       "          1672,    2142,    3004,    3759,    4843,    6130,    8288,\n",
       "         10865,   15063,   20840,   27372,   36334,   47013,   57179,\n",
       "         69473,   86789,  105462,  124815,  144297,  165521,  189998,\n",
       "        215177,  243235,  275234,  308752,  334718,  363465,  393874,\n",
       "        424045,  458260,  492806,  522687,  551906,  576875,  602668,\n",
       "        633112,  664129,  695761,  723776,  751287,  776419,  802330,\n",
       "        830223,  861788,  896306,  932242,  959258,  981134, 1005592])"
      ]
     },
     "execution_count": 58,
     "metadata": {},
     "output_type": "execute_result"
    }
   ],
   "source": [
    "c19_all_us[::-1]['positive'].values"
   ]
  },
  {
   "cell_type": "code",
   "execution_count": 59,
   "metadata": {},
   "outputs": [],
   "source": [
    "# Randomly initialize the coefficients\n",
    "p0 = np.random.exponential(size=3)\n",
    "\n",
    "# Set min bound 0 on all coefficients, and set different max bounds # for each coefficient\n",
    "bounds = (0, [100000., 1000., 1000000000.])\n",
    "\n",
    "# Convert pd.Series to np.Array and use Scipy's curve fit to find   # the best Nonlinear Least Squares coefficients\n",
    "x = np.array(c19_all_us.index.values)+1\n",
    "y = np.array(c19_all_us[::-1]['positive'].values)\n",
    "\n",
    "(a,b,c),cov = curve_fit(func_logistic, \n",
    "                              x, y, bounds=bounds, p0=p0, maxfev=1000000)\n",
    "t_fastest = np.log(a) / b\n",
    "i_fastest = func_logistic(t_fastest, a, b, c)\n",
    "                "
   ]
  },
  {
   "cell_type": "code",
   "execution_count": 60,
   "metadata": {},
   "outputs": [
    {
     "name": "stdout",
     "output_type": "stream",
     "text": [
      "Growth stabilized: US. | Fastest grow day: 81.78254029395104 | Infections: 536649.7265307964\n"
     ]
    }
   ],
   "source": [
    "res_df = c19_all_us[1:]['date'].copy()\n",
    "res_df['fastest_grow_day'] = t_fastest\n",
    "res_df['fastest_grow_value'] = i_fastest\n",
    "res_df['growth_stabilized'] = t_fastest <= x[-1]\n",
    "res_df['timestep'] = x\n",
    "res_df['res_func_logistic'] = func_logistic(x, a, b, c)\n",
    "\n",
    "\n",
    "if t_fastest <= x[-1]:\n",
    "    print('Growth stabilized: US.','| Fastest grow day:', t_fastest, '| Infections:', i_fastest)\n",
    "    res_df['cap'] = func_logistic(x[-1] + 10, a, b, c)\n",
    "else:\n",
    "    print('Growth increasing: US,',  '| Fastest grow day:', t_fastest, '| Infections:', i_fastest)\n",
    "    res_df['cap'] = func_logistic(i_fastest + 10, a, b, c)"
   ]
  },
  {
   "cell_type": "code",
   "execution_count": 61,
   "metadata": {},
   "outputs": [
    {
     "data": {
      "text/plain": [
       "1042042.9923770427"
      ]
     },
     "execution_count": 61,
     "metadata": {},
     "output_type": "execute_result"
    }
   ],
   "source": [
    "res_df['cap']"
   ]
  },
  {
   "cell_type": "code",
   "execution_count": 64,
   "metadata": {
    "scrolled": false
   },
   "outputs": [
    {
     "data": {
      "text/plain": [
       "[<matplotlib.lines.Line2D at 0x12ded6790>,\n",
       " <matplotlib.lines.Line2D at 0x12d5c8e50>]"
      ]
     },
     "execution_count": 64,
     "metadata": {},
     "output_type": "execute_result"
    },
    {
     "data": {
      "image/png": "[encoded data removed]",
      "text/plain": [
       "<Figure size 720x432 with 1 Axes>"
      ]
     },
     "metadata": {},
     "output_type": "display_data"
    }
   ],
   "source": [
    "m = Prophet(growth='logistic',interval_width=0.95,n_changepoints=6,\n",
    "            yearly_seasonality=False,\n",
    "            weekly_seasonality = True,\n",
    "            daily_seasonality = False,\n",
    "           changepoint_prior_scale=1)\n",
    "\n",
    "confirmed_data['cap'] = 2000000\n",
    "m.fit(confirmed_data)\n",
    "future = m.make_future_dataframe(periods=20)\n",
    "future['cap'] = 2000000\n",
    "forecast = m.predict(future)\n",
    "fig5 = m.plot(forecast)\n",
    "\n",
    "add_changepoints_to_plot(fig5.gca(), m, forecast,trend=False)"
   ]
  },
  {
   "cell_type": "code",
   "execution_count": 65,
   "metadata": {},
   "outputs": [
    {
     "name": "stderr",
     "output_type": "stream",
     "text": [
      "INFO:fbprophet:Disabling yearly seasonality. Run prophet with yearly_seasonality=True to override this.\n",
      "INFO:fbprophet:Disabling daily seasonality. Run prophet with daily_seasonality=True to override this.\n"
     ]
    },
    {
     "data": {
      "text/plain": [
       "[]"
      ]
     },
     "execution_count": 65,
     "metadata": {},
     "output_type": "execute_result"
    },
    {
     "data": {
      "image/png": "[encoded data removed]",
      "text/plain": [
       "<Figure size 720x432 with 1 Axes>"
      ]
     },
     "metadata": {},
     "output_type": "display_data"
    }
   ],
   "source": [
    "m2 = Prophet(growth='logistic',interval_width=0.95,n_changepoints=6)\n",
    "confirmed_data['cap'] = 2000000\n",
    "m2.fit(confirmed_data)\n",
    "future = m2.make_future_dataframe(periods=30)\n",
    "future['cap'] = 2000000\n",
    "forecast = m2.predict(future)\n",
    "fig6 = m2.plot(forecast)\n",
    "\n",
    "add_changepoints_to_plot(fig6.gca(), m2, forecast,trend=False)"
   ]
  },
  {
   "cell_type": "code",
   "execution_count": 31,
   "metadata": {},
   "outputs": [],
   "source": [
    "from fbprophet import Prophet, diagnostics\n",
    "from fbprophet.diagnostics import cross_validation, performance_metrics\n",
    "from fbprophet.plot import plot_cross_validation_metric, add_changepoints_to_plot, plot_plotly"
   ]
  },
  {
   "cell_type": "code",
   "execution_count": 32,
   "metadata": {},
   "outputs": [],
   "source": [
    "def rchi2(y, ytrue):\n",
    "    return ((y - ytrue)**2).sum() / len(y)"
   ]
  },
  {
   "cell_type": "code",
   "execution_count": 179,
   "metadata": {},
   "outputs": [
    {
     "name": "stderr",
     "output_type": "stream",
     "text": [
      "INFO:fbprophet:Making 23 forecasts with cutoffs between 2020-03-11 00:00:00 and 2020-04-02 00:00:00\n",
      "INFO:fbprophet:n_changepoints greater than number of observations.Using 5.\n",
      "INFO:fbprophet:n_changepoints greater than number of observations.Using 6.\n",
      "INFO:fbprophet:n_changepoints greater than number of observations.Using 7.\n",
      "INFO:fbprophet:n_changepoints greater than number of observations.Using 7.\n",
      "INFO:fbprophet:n_changepoints greater than number of observations.Using 8.\n",
      "INFO:fbprophet:n_changepoints greater than number of observations.Using 9.\n",
      "INFO:fbprophet:n_changepoints greater than number of observations.Using 10.\n",
      "INFO:fbprophet:n_changepoints greater than number of observations.Using 11.\n",
      "INFO:fbprophet:n_changepoints greater than number of observations.Using 11.\n",
      "INFO:fbprophet:n_changepoints greater than number of observations.Using 12.\n",
      "INFO:fbprophet:n_changepoints greater than number of observations.Using 13.\n",
      "INFO:fbprophet:n_changepoints greater than number of observations.Using 14.\n",
      "INFO:fbprophet:n_changepoints greater than number of observations.Using 15.\n",
      "INFO:fbprophet:n_changepoints greater than number of observations.Using 15.\n",
      "INFO:fbprophet:n_changepoints greater than number of observations.Using 16.\n",
      "INFO:fbprophet:n_changepoints greater than number of observations.Using 17.\n",
      "INFO:fbprophet:n_changepoints greater than number of observations.Using 18.\n",
      "INFO:fbprophet:n_changepoints greater than number of observations.Using 19.\n",
      "INFO:fbprophet:n_changepoints greater than number of observations.Using 19.\n",
      "INFO:fbprophet:n_changepoints greater than number of observations.Using 20.\n",
      "INFO:fbprophet:n_changepoints greater than number of observations.Using 21.\n",
      "INFO:fbprophet:n_changepoints greater than number of observations.Using 22.\n",
      "INFO:fbprophet:n_changepoints greater than number of observations.Using 23.\n"
     ]
    }
   ],
   "source": [
    "cvresult_m = cross_validation(m, horizon = '2 days')"
   ]
  },
  {
   "cell_type": "code",
   "execution_count": 157,
   "metadata": {
    "scrolled": true
   },
   "outputs": [
    {
     "data": {
      "text/html": [
       "<div>\n",
       "<style scoped>\n",
       "    .dataframe tbody tr th:only-of-type {\n",
       "        vertical-align: middle;\n",
       "    }\n",
       "\n",
       "    .dataframe tbody tr th {\n",
       "        vertical-align: top;\n",
       "    }\n",
       "\n",
       "    .dataframe thead th {\n",
       "        text-align: right;\n",
       "    }\n",
       "</style>\n",
       "<table border=\"1\" class=\"dataframe\">\n",
       "  <thead>\n",
       "    <tr style=\"text-align: right;\">\n",
       "      <th></th>\n",
       "      <th>ds</th>\n",
       "      <th>yhat</th>\n",
       "      <th>yhat_lower</th>\n",
       "      <th>yhat_upper</th>\n",
       "      <th>y</th>\n",
       "      <th>cutoff</th>\n",
       "    </tr>\n",
       "  </thead>\n",
       "  <tbody>\n",
       "    <tr>\n",
       "      <th>41</th>\n",
       "      <td>2020-04-02</td>\n",
       "      <td>272390.657317</td>\n",
       "      <td>264014.667745</td>\n",
       "      <td>280006.830059</td>\n",
       "      <td>239099.0</td>\n",
       "      <td>2020-03-31</td>\n",
       "    </tr>\n",
       "    <tr>\n",
       "      <th>42</th>\n",
       "      <td>2020-04-02</td>\n",
       "      <td>260591.295789</td>\n",
       "      <td>251256.134650</td>\n",
       "      <td>270036.836990</td>\n",
       "      <td>239099.0</td>\n",
       "      <td>2020-04-01</td>\n",
       "    </tr>\n",
       "    <tr>\n",
       "      <th>43</th>\n",
       "      <td>2020-04-03</td>\n",
       "      <td>303503.434962</td>\n",
       "      <td>293939.306781</td>\n",
       "      <td>312592.756496</td>\n",
       "      <td>271988.0</td>\n",
       "      <td>2020-04-01</td>\n",
       "    </tr>\n",
       "    <tr>\n",
       "      <th>44</th>\n",
       "      <td>2020-04-03</td>\n",
       "      <td>292087.071525</td>\n",
       "      <td>281149.375740</td>\n",
       "      <td>302081.344909</td>\n",
       "      <td>271988.0</td>\n",
       "      <td>2020-04-02</td>\n",
       "    </tr>\n",
       "    <tr>\n",
       "      <th>45</th>\n",
       "      <td>2020-04-04</td>\n",
       "      <td>335410.627400</td>\n",
       "      <td>325586.162490</td>\n",
       "      <td>345508.924113</td>\n",
       "      <td>305755.0</td>\n",
       "      <td>2020-04-02</td>\n",
       "    </tr>\n",
       "  </tbody>\n",
       "</table>\n",
       "</div>"
      ],
      "text/plain": [
       "           ds           yhat     yhat_lower     yhat_upper         y  \\\n",
       "41 2020-04-02  272390.657317  264014.667745  280006.830059  239099.0   \n",
       "42 2020-04-02  260591.295789  251256.134650  270036.836990  239099.0   \n",
       "43 2020-04-03  303503.434962  293939.306781  312592.756496  271988.0   \n",
       "44 2020-04-03  292087.071525  281149.375740  302081.344909  271988.0   \n",
       "45 2020-04-04  335410.627400  325586.162490  345508.924113  305755.0   \n",
       "\n",
       "       cutoff  \n",
       "41 2020-03-31  \n",
       "42 2020-04-01  \n",
       "43 2020-04-01  \n",
       "44 2020-04-02  \n",
       "45 2020-04-02  "
      ]
     },
     "execution_count": 157,
     "metadata": {},
     "output_type": "execute_result"
    }
   ],
   "source": [
    "cvresult_m.tail()"
   ]
  },
  {
   "cell_type": "code",
   "execution_count": 155,
   "metadata": {},
   "outputs": [
    {
     "name": "stdout",
     "output_type": "stream",
     "text": [
      "Reduced Chi square is 216855992.05798617.\n"
     ]
    }
   ],
   "source": [
    "print('Reduced Chi square is {}.'.format(rchi2(cvresult_m.yhat, \n",
    "                                               cvresult_m.y)))"
   ]
  },
  {
   "cell_type": "code",
   "execution_count": 33,
   "metadata": {},
   "outputs": [
    {
     "data": {
      "text/plain": [
       "<matplotlib.axes._subplots.AxesSubplot at 0x12d7e8710>"
      ]
     },
     "execution_count": 33,
     "metadata": {},
     "output_type": "execute_result"
    },
    {
     "data": {
      "image/png": "[encoded data removed]",
      "text/plain": [
       "<Figure size 432x288 with 1 Axes>"
      ]
     },
     "metadata": {
      "needs_background": "light"
     },
     "output_type": "display_data"
    }
   ],
   "source": [
    "c19_all_us[1:].plot(x='date',y='positiveIncrease',rot = 60)"
   ]
  },
  {
   "cell_type": "code",
   "execution_count": 160,
   "metadata": {},
   "outputs": [
    {
     "name": "stderr",
     "output_type": "stream",
     "text": [
      "INFO:fbprophet:Making 23 forecasts with cutoffs between 2020-03-11 00:00:00 and 2020-04-02 00:00:00\n",
      "INFO:fbprophet:n_changepoints greater than number of observations.Using 5.\n",
      "/Users/jinbiao.ji/anaconda3/lib/python3.7/site-packages/pystan/misc.py:399: FutureWarning:\n",
      "\n",
      "Conversion of the second argument of issubdtype from `float` to `np.floating` is deprecated. In future, it will be treated as `np.float64 == np.dtype(float).type`.\n",
      "\n",
      "INFO:fbprophet:n_changepoints greater than number of observations.Using 6.\n",
      "/Users/jinbiao.ji/anaconda3/lib/python3.7/site-packages/pystan/misc.py:399: FutureWarning:\n",
      "\n",
      "Conversion of the second argument of issubdtype from `float` to `np.floating` is deprecated. In future, it will be treated as `np.float64 == np.dtype(float).type`.\n",
      "\n",
      "INFO:fbprophet:n_changepoints greater than number of observations.Using 7.\n",
      "/Users/jinbiao.ji/anaconda3/lib/python3.7/site-packages/pystan/misc.py:399: FutureWarning:\n",
      "\n",
      "Conversion of the second argument of issubdtype from `float` to `np.floating` is deprecated. In future, it will be treated as `np.float64 == np.dtype(float).type`.\n",
      "\n",
      "INFO:fbprophet:n_changepoints greater than number of observations.Using 7.\n",
      "/Users/jinbiao.ji/anaconda3/lib/python3.7/site-packages/pystan/misc.py:399: FutureWarning:\n",
      "\n",
      "Conversion of the second argument of issubdtype from `float` to `np.floating` is deprecated. In future, it will be treated as `np.float64 == np.dtype(float).type`.\n",
      "\n",
      "INFO:fbprophet:n_changepoints greater than number of observations.Using 8.\n",
      "/Users/jinbiao.ji/anaconda3/lib/python3.7/site-packages/pystan/misc.py:399: FutureWarning:\n",
      "\n",
      "Conversion of the second argument of issubdtype from `float` to `np.floating` is deprecated. In future, it will be treated as `np.float64 == np.dtype(float).type`.\n",
      "\n",
      "INFO:fbprophet:n_changepoints greater than number of observations.Using 9.\n",
      "/Users/jinbiao.ji/anaconda3/lib/python3.7/site-packages/pystan/misc.py:399: FutureWarning:\n",
      "\n",
      "Conversion of the second argument of issubdtype from `float` to `np.floating` is deprecated. In future, it will be treated as `np.float64 == np.dtype(float).type`.\n",
      "\n",
      "INFO:fbprophet:n_changepoints greater than number of observations.Using 10.\n",
      "/Users/jinbiao.ji/anaconda3/lib/python3.7/site-packages/pystan/misc.py:399: FutureWarning:\n",
      "\n",
      "Conversion of the second argument of issubdtype from `float` to `np.floating` is deprecated. In future, it will be treated as `np.float64 == np.dtype(float).type`.\n",
      "\n",
      "INFO:fbprophet:n_changepoints greater than number of observations.Using 11.\n",
      "/Users/jinbiao.ji/anaconda3/lib/python3.7/site-packages/pystan/misc.py:399: FutureWarning:\n",
      "\n",
      "Conversion of the second argument of issubdtype from `float` to `np.floating` is deprecated. In future, it will be treated as `np.float64 == np.dtype(float).type`.\n",
      "\n",
      "INFO:fbprophet:n_changepoints greater than number of observations.Using 11.\n",
      "/Users/jinbiao.ji/anaconda3/lib/python3.7/site-packages/pystan/misc.py:399: FutureWarning:\n",
      "\n",
      "Conversion of the second argument of issubdtype from `float` to `np.floating` is deprecated. In future, it will be treated as `np.float64 == np.dtype(float).type`.\n",
      "\n",
      "INFO:fbprophet:n_changepoints greater than number of observations.Using 12.\n",
      "/Users/jinbiao.ji/anaconda3/lib/python3.7/site-packages/pystan/misc.py:399: FutureWarning:\n",
      "\n",
      "Conversion of the second argument of issubdtype from `float` to `np.floating` is deprecated. In future, it will be treated as `np.float64 == np.dtype(float).type`.\n",
      "\n",
      "INFO:fbprophet:n_changepoints greater than number of observations.Using 13.\n",
      "/Users/jinbiao.ji/anaconda3/lib/python3.7/site-packages/pystan/misc.py:399: FutureWarning:\n",
      "\n",
      "Conversion of the second argument of issubdtype from `float` to `np.floating` is deprecated. In future, it will be treated as `np.float64 == np.dtype(float).type`.\n",
      "\n",
      "INFO:fbprophet:n_changepoints greater than number of observations.Using 14.\n",
      "/Users/jinbiao.ji/anaconda3/lib/python3.7/site-packages/pystan/misc.py:399: FutureWarning:\n",
      "\n",
      "Conversion of the second argument of issubdtype from `float` to `np.floating` is deprecated. In future, it will be treated as `np.float64 == np.dtype(float).type`.\n",
      "\n",
      "INFO:fbprophet:n_changepoints greater than number of observations.Using 15.\n",
      "/Users/jinbiao.ji/anaconda3/lib/python3.7/site-packages/pystan/misc.py:399: FutureWarning:\n",
      "\n",
      "Conversion of the second argument of issubdtype from `float` to `np.floating` is deprecated. In future, it will be treated as `np.float64 == np.dtype(float).type`.\n",
      "\n",
      "INFO:fbprophet:n_changepoints greater than number of observations.Using 15.\n",
      "/Users/jinbiao.ji/anaconda3/lib/python3.7/site-packages/pystan/misc.py:399: FutureWarning:\n",
      "\n",
      "Conversion of the second argument of issubdtype from `float` to `np.floating` is deprecated. In future, it will be treated as `np.float64 == np.dtype(float).type`.\n",
      "\n",
      "INFO:fbprophet:n_changepoints greater than number of observations.Using 16.\n",
      "/Users/jinbiao.ji/anaconda3/lib/python3.7/site-packages/pystan/misc.py:399: FutureWarning:\n",
      "\n",
      "Conversion of the second argument of issubdtype from `float` to `np.floating` is deprecated. In future, it will be treated as `np.float64 == np.dtype(float).type`.\n",
      "\n",
      "INFO:fbprophet:n_changepoints greater than number of observations.Using 17.\n",
      "/Users/jinbiao.ji/anaconda3/lib/python3.7/site-packages/pystan/misc.py:399: FutureWarning:\n",
      "\n",
      "Conversion of the second argument of issubdtype from `float` to `np.floating` is deprecated. In future, it will be treated as `np.float64 == np.dtype(float).type`.\n",
      "\n",
      "INFO:fbprophet:n_changepoints greater than number of observations.Using 18.\n",
      "/Users/jinbiao.ji/anaconda3/lib/python3.7/site-packages/pystan/misc.py:399: FutureWarning:\n",
      "\n",
      "Conversion of the second argument of issubdtype from `float` to `np.floating` is deprecated. In future, it will be treated as `np.float64 == np.dtype(float).type`.\n",
      "\n",
      "INFO:fbprophet:n_changepoints greater than number of observations.Using 19.\n",
      "/Users/jinbiao.ji/anaconda3/lib/python3.7/site-packages/pystan/misc.py:399: FutureWarning:\n",
      "\n",
      "Conversion of the second argument of issubdtype from `float` to `np.floating` is deprecated. In future, it will be treated as `np.float64 == np.dtype(float).type`.\n",
      "\n",
      "INFO:fbprophet:n_changepoints greater than number of observations.Using 19.\n",
      "/Users/jinbiao.ji/anaconda3/lib/python3.7/site-packages/pystan/misc.py:399: FutureWarning:\n",
      "\n",
      "Conversion of the second argument of issubdtype from `float` to `np.floating` is deprecated. In future, it will be treated as `np.float64 == np.dtype(float).type`.\n",
      "\n",
      "INFO:fbprophet:n_changepoints greater than number of observations.Using 20.\n",
      "/Users/jinbiao.ji/anaconda3/lib/python3.7/site-packages/pystan/misc.py:399: FutureWarning:\n",
      "\n",
      "Conversion of the second argument of issubdtype from `float` to `np.floating` is deprecated. In future, it will be treated as `np.float64 == np.dtype(float).type`.\n",
      "\n",
      "INFO:fbprophet:n_changepoints greater than number of observations.Using 21.\n",
      "/Users/jinbiao.ji/anaconda3/lib/python3.7/site-packages/pystan/misc.py:399: FutureWarning:\n",
      "\n",
      "Conversion of the second argument of issubdtype from `float` to `np.floating` is deprecated. In future, it will be treated as `np.float64 == np.dtype(float).type`.\n",
      "\n",
      "INFO:fbprophet:n_changepoints greater than number of observations.Using 22.\n",
      "/Users/jinbiao.ji/anaconda3/lib/python3.7/site-packages/pystan/misc.py:399: FutureWarning:\n",
      "\n",
      "Conversion of the second argument of issubdtype from `float` to `np.floating` is deprecated. In future, it will be treated as `np.float64 == np.dtype(float).type`.\n",
      "\n",
      "INFO:fbprophet:n_changepoints greater than number of observations.Using 23.\n",
      "/Users/jinbiao.ji/anaconda3/lib/python3.7/site-packages/pystan/misc.py:399: FutureWarning:\n",
      "\n",
      "Conversion of the second argument of issubdtype from `float` to `np.floating` is deprecated. In future, it will be treated as `np.float64 == np.dtype(float).type`.\n",
      "\n"
     ]
    }
   ],
   "source": [
    "cvresult_m2 = cross_validation(m2, horizon = '2 days')"
   ]
  },
  {
   "cell_type": "code",
   "execution_count": null,
   "metadata": {},
   "outputs": [],
   "source": []
  }
 ],
 "metadata": {
  "kernelspec": {
   "display_name": "Python 3",
   "language": "python",
   "name": "python3"
  },
  "language_info": {
   "codemirror_mode": {
    "name": "ipython",
    "version": 3
   },
   "file_extension": ".py",
   "mimetype": "text/x-python",
   "name": "python",
   "nbconvert_exporter": "python",
   "pygments_lexer": "ipython3",
   "version": "3.7.7"
  }
 },
 "nbformat": 4,
 "nbformat_minor": 2
}
