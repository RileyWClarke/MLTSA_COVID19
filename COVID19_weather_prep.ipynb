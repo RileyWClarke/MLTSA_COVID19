{
  "nbformat": 4,
  "nbformat_minor": 0,
  "metadata": {
    "colab": {
      "name": "COVID19_weather_prep.ipynb",
      "provenance": [],
      "collapsed_sections": []
    },
    "kernelspec": {
      "name": "python3",
      "display_name": "Python 3"
    }
  },
  "cells": [
    {
      "cell_type": "markdown",
      "metadata": {
        "id": "LEW0ZWfG0vCZ",
        "colab_type": "text"
      },
      "source": [
        "Shaquann S. \n",
        "\n",
        "Just before the presentation I figured out how to get a new WWO api and used this to create new weather filed documenting average temperature and humidity for our five states and south korea.  \n",
        "\n",
        "It spans from december 1st 2019, to make room for time lagged effects from the weather on the spread, until April 30th. \n",
        "\n",
        "***This is only needed to process the data and nothing else.*** \n",
        "\n",
        "***the downloading cells of this notebook won't run unless you have an active api.***\n",
        "This was also done in my personal drive and the new files were moved into the projects shared drive."
      ]
    },
    {
      "cell_type": "code",
      "metadata": {
        "id": "_8ytpxUK62eH",
        "colab_type": "code",
        "colab": {}
      },
      "source": [
        "#CA NY DC FL NE\n",
        "\n",
        "###florida Tallahassee jacksonville orlando \n",
        "###NY Albany, NYC, syracuse\n",
        "####DC \n",
        "\n",
        "###CA  Sacramento  San Diego \n",
        "\n",
        "###NE lincoln  alliance"
      ],
      "execution_count": 0,
      "outputs": []
    },
    {
      "cell_type": "code",
      "metadata": {
        "id": "8uFCcvR1_KNB",
        "colab_type": "code",
        "outputId": "b898b15c-957e-40a1-8344-1f3358c5c395",
        "colab": {
          "base_uri": "https://localhost:8080/",
          "height": 34
        }
      },
      "source": [
        "\n",
        "import pandas as pd\n",
        "import pylab as pl\n",
        "%pylab inline"
      ],
      "execution_count": 0,
      "outputs": [
        {
          "output_type": "stream",
          "text": [
            "Populating the interactive namespace from numpy and matplotlib\n"
          ],
          "name": "stdout"
        }
      ]
    },
    {
      "cell_type": "code",
      "metadata": {
        "id": "Sh3UQeEU_TQh",
        "colab_type": "code",
        "outputId": "a5636445-b353-4379-c397-71dd2473ca9b",
        "colab": {
          "base_uri": "https://localhost:8080/",
          "height": 189
        }
      },
      "source": [
        "from google.colab import drive\n",
        "drive.mount(\"/content/gdrive\")"
      ],
      "execution_count": 0,
      "outputs": [
        {
          "output_type": "stream",
          "text": [
            "Go to this URL in a browser: https://accounts.google.com/o/oauth2/auth?client_id=947318989803-6bn6qk8qdgf4n4g3pfee6491hc0brc4i.apps.googleusercontent.com&redirect_uri=urn%3aietf%3awg%3aoauth%3a2.0%3aoob&response_type=code&scope=email%20https%3a%2f%2fwww.googleapis.com%2fauth%2fdocs.test%20https%3a%2f%2fwww.googleapis.com%2fauth%2fdrive%20https%3a%2f%2fwww.googleapis.com%2fauth%2fdrive.photos.readonly%20https%3a%2f%2fwww.googleapis.com%2fauth%2fpeopleapi.readonly\n",
            "\n",
            "Enter your authorization code:\n",
            "··········\n",
            "Mounted at /content/gdrive\n"
          ],
          "name": "stdout"
        }
      ]
    },
    {
      "cell_type": "code",
      "metadata": {
        "id": "97P7YMNO_VeS",
        "colab_type": "code",
        "outputId": "fea2f983-c778-4581-a9d7-088766e0d235",
        "colab": {
          "base_uri": "https://localhost:8080/",
          "height": 63
        }
      },
      "source": [
        "!pwd "
      ],
      "execution_count": 0,
      "outputs": [
        {
          "output_type": "stream",
          "text": [
            "/content\n"
          ],
          "name": "stdout"
        }
      ]
    },
    {
      "cell_type": "code",
      "metadata": {
        "id": "BP2XahZT_XYU",
        "colab_type": "code",
        "outputId": "477fd6d7-7022-4f40-c97f-089985e110df",
        "colab": {
          "base_uri": "https://localhost:8080/",
          "height": 34
        }
      },
      "source": [
        "cd gdrive/My\\ Drive/"
      ],
      "execution_count": 0,
      "outputs": [
        {
          "output_type": "stream",
          "text": [
            "/content/gdrive/My Drive\n"
          ],
          "name": "stdout"
        }
      ]
    },
    {
      "cell_type": "code",
      "metadata": {
        "id": "lWK07Uqw_YCm",
        "colab_type": "code",
        "colab": {}
      },
      "source": [
        "mkdir covid19_weather"
      ],
      "execution_count": 0,
      "outputs": []
    },
    {
      "cell_type": "code",
      "metadata": {
        "id": "eMoBWmVl_zOc",
        "colab_type": "code",
        "outputId": "1b59a9ca-f61b-42af-a439-388d9bfc7625",
        "colab": {
          "base_uri": "https://localhost:8080/",
          "height": 34
        }
      },
      "source": [
        "cd covid19_weather"
      ],
      "execution_count": 0,
      "outputs": [
        {
          "output_type": "stream",
          "text": [
            "/content/gdrive/My Drive/covid19_weather\n"
          ],
          "name": "stdout"
        }
      ]
    },
    {
      "cell_type": "code",
      "metadata": {
        "id": "S4SgPUrJDt3X",
        "colab_type": "code",
        "outputId": "1d149bb6-0972-4a6e-db66-a7913349ff68",
        "colab": {
          "base_uri": "https://localhost:8080/",
          "height": 259
        }
      },
      "source": [
        "!pip install wwo_hist"
      ],
      "execution_count": 0,
      "outputs": [
        {
          "output_type": "stream",
          "text": [
            "Collecting wwo_hist\n",
            "  Downloading https://files.pythonhosted.org/packages/9e/4b/e4f82813f1bd33195ca5eca204c7c312850592aba45dd819de0f2250d7fd/wwo_hist-0.0.4.tar.gz\n",
            "Building wheels for collected packages: wwo-hist\n",
            "  Building wheel for wwo-hist (setup.py) ... \u001b[?25l\u001b[?25hdone\n",
            "  Created wheel for wwo-hist: filename=wwo_hist-0.0.4-cp36-none-any.whl size=4216 sha256=8ccdc7d849460efed0c8f5f471a2dcd6ba3cf6ce48cb66093eaa0c703269f442\n",
            "  Stored in directory: /root/.cache/pip/wheels/c5/0e/16/329d9233f3b0b7e5fe81b09c5519a193727999c6ae77577ca9\n",
            "Successfully built wwo-hist\n",
            "Installing collected packages: wwo-hist\n",
            "Successfully installed wwo-hist-0.0.4\n"
          ],
          "name": "stdout"
        }
      ]
    },
    {
      "cell_type": "code",
      "metadata": {
        "id": "DrT7MQF__53v",
        "colab_type": "code",
        "colab": {}
      },
      "source": [
        "from wwo_hist import retrieve_hist_data"
      ],
      "execution_count": 0,
      "outputs": []
    },
    {
      "cell_type": "code",
      "metadata": {
        "id": "nMwrI7MOAJbf",
        "colab_type": "code",
        "colab": {}
      },
      "source": [
        "api_key = pd.read_csv(\"../my_apis.csv\", header=None, index_col=0).loc[\"wwo\"].values[0]"
      ],
      "execution_count": 0,
      "outputs": []
    },
    {
      "cell_type": "code",
      "metadata": {
        "id": "zBoZILXyAKoY",
        "colab_type": "code",
        "outputId": "81680945-2063-4604-8b80-98fbab72edf9",
        "colab": {
          "base_uri": "https://localhost:8080/",
          "height": 391
        }
      },
      "source": [
        "\"\"\"frequency = 24\n",
        "start_date = '12-01-2019'\n",
        "end_date = '04-30-2020'\n",
        "api_key = pd.read_csv(\"../my_apis.csv\", header=None, index_col=0).loc[\"wwo\"].values[0]\n",
        "location_list = ['New+york,ny']\n",
        "hist_weather_data = retrieve_hist_data(api_key,\n",
        "                                location_list,\n",
        "                                start_date,\n",
        "                                end_date,\n",
        "                                frequency,\n",
        "                                location_label = False,\n",
        "                                export_csv = True)\"\"\""
      ],
      "execution_count": 0,
      "outputs": [
        {
          "output_type": "stream",
          "text": [
            "\n",
            "\n",
            "Retrieving weather data for New+york,ny\n",
            "\n",
            "\n",
            "Currently retrieving data for New+york,ny: from 2019-12-01 to 2019-12-31\n",
            "Time elapsed (hh:mm:ss.ms) 0:00:01.616783\n",
            "Currently retrieving data for New+york,ny: from 2020-01-01 to 2020-01-31\n",
            "Time elapsed (hh:mm:ss.ms) 0:00:03.198715\n",
            "Currently retrieving data for New+york,ny: from 2020-02-01 to 2020-02-29\n",
            "Time elapsed (hh:mm:ss.ms) 0:00:04.666380\n",
            "Currently retrieving data for New+york,ny: from 2020-03-01 to 2020-03-31\n",
            "Time elapsed (hh:mm:ss.ms) 0:00:06.180101\n",
            "Currently retrieving data for New+york,ny: from 2020-04-01 to 2020-04-30\n",
            "Time elapsed (hh:mm:ss.ms) 0:00:07.611066\n",
            "Currently retrieving data for New+york,ny: from 2020-04-01 to 2020-04-30\n",
            "Time elapsed (hh:mm:ss.ms) 0:00:10.052738\n",
            "\n",
            "\n",
            "export New+york,ny completed!\n",
            "\n",
            "\n"
          ],
          "name": "stdout"
        }
      ]
    },
    {
      "cell_type": "code",
      "metadata": {
        "id": "sSR8A2FzEC94",
        "colab_type": "code",
        "outputId": "99983029-f960-47b9-9e82-99a18b6d00fe",
        "colab": {
          "base_uri": "https://localhost:8080/",
          "height": 391
        }
      },
      "source": [
        "###florida Tallahassee jacksonville orlando \n",
        "###NY Albany, NYC, syracuse\n",
        "####DC \n",
        "\n",
        "###CA  Sacramento  San Diego \n",
        "\n",
        "###NE lincoln  alliance\n",
        "###south korea  seoul deagu \n",
        "\"\"\"frequency = 24\n",
        "start_date = '12-01-2019'\n",
        "end_date = '04-30-2020'\n",
        "api_key = pd.read_csv(\"../my_apis.csv\", header=None, index_col=0).loc[\"wwo\"].values[0]\n",
        "location_list = ['Daegu,south+korea']\n",
        "hist_weather_data = retrieve_hist_data(api_key,\n",
        "                                location_list,\n",
        "                                start_date,\n",
        "                                end_date,\n",
        "                                frequency,\n",
        "                                location_label = False,\n",
        "                                export_csv = True)\"\"\""
      ],
      "execution_count": 0,
      "outputs": [
        {
          "output_type": "stream",
          "text": [
            "\n",
            "\n",
            "Retrieving weather data for Daegu,south+korea\n",
            "\n",
            "\n",
            "Currently retrieving data for Daegu,south+korea: from 2019-12-01 to 2019-12-31\n",
            "Time elapsed (hh:mm:ss.ms) 0:00:01.483319\n",
            "Currently retrieving data for Daegu,south+korea: from 2020-01-01 to 2020-01-31\n",
            "Time elapsed (hh:mm:ss.ms) 0:00:02.874961\n",
            "Currently retrieving data for Daegu,south+korea: from 2020-02-01 to 2020-02-29\n",
            "Time elapsed (hh:mm:ss.ms) 0:00:04.170580\n",
            "Currently retrieving data for Daegu,south+korea: from 2020-03-01 to 2020-03-31\n",
            "Time elapsed (hh:mm:ss.ms) 0:00:05.543687\n",
            "Currently retrieving data for Daegu,south+korea: from 2020-04-01 to 2020-04-30\n",
            "Time elapsed (hh:mm:ss.ms) 0:00:06.826455\n",
            "Currently retrieving data for Daegu,south+korea: from 2020-04-01 to 2020-04-30\n",
            "Time elapsed (hh:mm:ss.ms) 0:00:08.100299\n",
            "\n",
            "\n",
            "export Daegu,south+korea completed!\n",
            "\n",
            "\n"
          ],
          "name": "stdout"
        }
      ]
    },
    {
      "cell_type": "code",
      "metadata": {
        "id": "pOjs1e1rAO3R",
        "colab_type": "code",
        "outputId": "dc7addb5-e699-4946-8b6b-eabc472e1c47",
        "colab": {
          "base_uri": "https://localhost:8080/",
          "height": 119
        }
      },
      "source": [
        "pd.read_csv(\"New+york,ny.csv\").columns"
      ],
      "execution_count": 0,
      "outputs": [
        {
          "output_type": "execute_result",
          "data": {
            "text/plain": [
              "Index(['date_time', 'maxtempC', 'mintempC', 'totalSnow_cm', 'sunHour',\n",
              "       'uvIndex', 'uvIndex.1', 'moon_illumination', 'moonrise', 'moonset',\n",
              "       'sunrise', 'sunset', 'DewPointC', 'FeelsLikeC', 'HeatIndexC',\n",
              "       'WindChillC', 'WindGustKmph', 'cloudcover', 'humidity', 'precipMM',\n",
              "       'pressure', 'tempC', 'visibility', 'winddirDegree', 'windspeedKmph'],\n",
              "      dtype='object')"
            ]
          },
          "metadata": {
            "tags": []
          },
          "execution_count": 30
        }
      ]
    },
    {
      "cell_type": "code",
      "metadata": {
        "id": "rH3l29fqAcSx",
        "colab_type": "code",
        "colab": {}
      },
      "source": [
        "ny = pd.read_csv(\"New+york,ny.csv\")[[\"date_time\", \"tempC\", \"humidity\"]] \n",
        "ny2 = pd.read_csv(\"Albany,ny.csv\")[[\"date_time\", \"tempC\", \"humidity\"]] \n",
        "ny3 = pd.read_csv(\"Syracuse,ny.csv\")[[\"date_time\", \"tempC\", \"humidity\"]] \n",
        "\n",
        "\n",
        "fl = pd.read_csv(\"jacksonville,fl.csv\")[[\"date_time\", \"tempC\", \"humidity\"]]\n",
        "fl2 = pd.read_csv(\"orlando,fl.csv\")[[\"date_time\", \"tempC\", \"humidity\"]]\n",
        "fl3 = pd.read_csv(\"Tallahassee,fl.csv\")[[\"date_time\", \"tempC\", \"humidity\"]]\n",
        "\n",
        "ne = pd.read_csv(\"alliance,ne.csv\")[[\"date_time\", \"tempC\", \"humidity\"]]\n",
        "ne2 = pd.read_csv(\"lincoln,ne.csv\")[[\"date_time\", \"tempC\", \"humidity\"]]\n",
        "\n",
        "dc = pd.read_csv(\"district+of+columbia.csv\")[[\"date_time\", \"tempC\", \"humidity\"]]\n",
        "\n",
        "ca = pd.read_csv(\"Sacramento,ca.csv\")[[\"date_time\", \"tempC\", \"humidity\"]]\n",
        "ca2 = pd.read_csv(\"San+Diego,ca.csv\")[[\"date_time\", \"tempC\", \"humidity\"]]\n",
        "\n",
        "sk = pd.read_csv(\"Daegu,south+korea.csv\")[[\"date_time\", \"tempC\", \"humidity\"]]\n",
        "sk2 = pd.read_csv(\"Seoul,south+korea.csv\")[[\"date_time\", \"tempC\", \"humidity\"]]\n",
        "\n"
      ],
      "execution_count": 0,
      "outputs": []
    },
    {
      "cell_type": "code",
      "metadata": {
        "id": "zE1nBNqfJqJL",
        "colab_type": "code",
        "outputId": "a8f9d6e9-72c4-48a0-81e7-a5d663a4196c",
        "colab": {
          "base_uri": "https://localhost:8080/",
          "height": 119
        }
      },
      "source": [
        "ny.head()"
      ],
      "execution_count": 0,
      "outputs": [
        {
          "output_type": "execute_result",
          "data": {
            "text/plain": [
              "0   2019-12-01\n",
              "1   2019-12-02\n",
              "2   2019-12-03\n",
              "3   2019-12-04\n",
              "4   2019-12-05\n",
              "Name: date_time, dtype: datetime64[ns]"
            ]
          },
          "metadata": {
            "tags": []
          },
          "execution_count": 43
        }
      ]
    },
    {
      "cell_type": "code",
      "metadata": {
        "id": "YgcEX08qGwGi",
        "colab_type": "code",
        "colab": {}
      },
      "source": [
        "ny['date_time'] = pd.to_datetime(ny.date_time)\n",
        "ny2['date_time'] = pd.to_datetime(ny2.date_time)\n",
        "ny3['date_time'] = pd.to_datetime(ny3.date_time)\n",
        "\n",
        "fl['date_time'] = pd.to_datetime(fl.date_time)\n",
        "fl2['date_time'] = pd.to_datetime(fl2.date_time)\n",
        "fl3['date_time'] = pd.to_datetime(fl3.date_time)\n",
        "\n",
        "ne['date_time'] = pd.to_datetime(ne.date_time)\n",
        "ne2['date_time'] = pd.to_datetime(ne2.date_time)\n",
        "\n",
        "dc['date_time'] = pd.to_datetime(dc.date_time) \n",
        "\n",
        "ca['date_time'] = pd.to_datetime(ca.date_time)\n",
        "ca2['date_time'] = pd.to_datetime(ca2.date_time)\n",
        "\n",
        "sk['date_time'] = pd.to_datetime(sk.date_time)\n",
        "sk2['date_time'] = pd.to_datetime(sk2.date_time)"
      ],
      "execution_count": 0,
      "outputs": []
    },
    {
      "cell_type": "code",
      "metadata": {
        "id": "mh1F2NRHGT4E",
        "colab_type": "code",
        "colab": {}
      },
      "source": [
        "ny['avg_tempC'] = (ny['tempC'] + ny2['tempC'] + ny3['tempC'])/3.0\n",
        "ny['avg_humidity'] = (ny['humidity'] + ny2['humidity'] + ny3['humidity'])/3.0 \n",
        "\n",
        "\n",
        "fl['avg_tempC'] = (fl['tempC'] + fl2['tempC'] + fl3['tempC'])/3.0\n",
        "fl['avg_humidity'] = (fl['humidity'] + fl2['humidity'] + fl3['humidity'])/3.0 \n",
        "\n",
        "ca['avg_tempC'] = (ca['tempC'] + ca2['tempC'] )/2.0\n",
        "ca['avg_humidity'] = (ca['humidity'] + ca2['humidity'])/2.0 \n",
        "\n",
        "ne['avg_tempC'] = (ne['tempC'] + ne2['tempC'] )/2.0\n",
        "ne['avg_humidity'] = (ne['humidity'] + ne2['humidity'])/2.0\n",
        "\n",
        "sk['avg_tempC'] = (sk['tempC'] + sk2['tempC'] )/2.0\n",
        "sk['avg_humidity'] = (sk['humidity'] + sk2['humidity'])/2.0\n",
        "\n",
        "dc['avg_tempC'] = (dc['tempC'] )/1.0\n",
        "dc['avg_humidity'] = (dc['humidity'] )/1.0\n"
      ],
      "execution_count": 0,
      "outputs": []
    },
    {
      "cell_type": "code",
      "metadata": {
        "id": "Ap6ZXCCxGUZP",
        "colab_type": "code",
        "colab": {}
      },
      "source": [
        "ny = ny.drop(['tempC', 'humidity'], axis=1)\n",
        "fl = fl.drop(['tempC', 'humidity'], axis=1)\n",
        "ca = ca.drop(['tempC', 'humidity'], axis=1)\n",
        "sk = sk.drop(['tempC', 'humidity'], axis=1)\n",
        "dc = dc.drop(['tempC', 'humidity'], axis=1)\n",
        "ne = ne.drop(['tempC', 'humidity'], axis=1)\n"
      ],
      "execution_count": 0,
      "outputs": []
    },
    {
      "cell_type": "code",
      "metadata": {
        "id": "V-lM4owjKHr0",
        "colab_type": "code",
        "colab": {}
      },
      "source": [
        "ny.to_csv('avg_temp_humid_ny.csv', index=False )\n",
        "ne.to_csv('avg_temp_humid_ne.csv', index=False )\n",
        "ca.to_csv('avg_temp_humid_ca.csv', index=False )\n",
        "dc.to_csv('avg_temp_humid_dc.csv', index=False )\n",
        "fl.to_csv('avg_temp_humid_fl.csv', index=False )\n",
        "sk.to_csv('avg_temp_humid_sk.csv', index=False )\n"
      ],
      "execution_count": 0,
      "outputs": []
    },
    {
      "cell_type": "code",
      "metadata": {
        "id": "rrg0_jnvKND8",
        "colab_type": "code",
        "outputId": "5079d453-fbc2-4d4a-930f-97cc32356e18",
        "colab": {
          "base_uri": "https://localhost:8080/",
          "height": 221
        }
      },
      "source": [
        ""
      ],
      "execution_count": 0,
      "outputs": [
        {
          "output_type": "execute_result",
          "data": {
            "text/plain": [
              "0      -1\n",
              "1       2\n",
              "2      -1\n",
              "3       0\n",
              "4       1\n",
              "       ..\n",
              "177     8\n",
              "178     6\n",
              "179    14\n",
              "180    18\n",
              "181    15\n",
              "Name: tempC, Length: 182, dtype: int64"
            ]
          },
          "metadata": {
            "tags": []
          },
          "execution_count": 49
        }
      ]
    },
    {
      "cell_type": "code",
      "metadata": {
        "id": "-qjkP6qUKPKs",
        "colab_type": "code",
        "outputId": "9cbd8f38-0ad9-4ae7-cf28-2323493190fc",
        "colab": {
          "base_uri": "https://localhost:8080/",
          "height": 221
        }
      },
      "source": [
        ""
      ],
      "execution_count": 0,
      "outputs": [
        {
          "output_type": "execute_result",
          "data": {
            "text/plain": [
              "0      -1\n",
              "1       0\n",
              "2      -1\n",
              "3       1\n",
              "4      -1\n",
              "       ..\n",
              "177     8\n",
              "178     5\n",
              "179    15\n",
              "180    15\n",
              "181    16\n",
              "Name: tempC, Length: 182, dtype: int64"
            ]
          },
          "metadata": {
            "tags": []
          },
          "execution_count": 50
        }
      ]
    },
    {
      "cell_type": "code",
      "metadata": {
        "id": "Ojm5QCBoKRhL",
        "colab_type": "code",
        "colab": {}
      },
      "source": [
        ""
      ],
      "execution_count": 0,
      "outputs": []
    }
  ]
}