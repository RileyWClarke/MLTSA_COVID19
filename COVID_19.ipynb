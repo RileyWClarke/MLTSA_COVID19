{
  "nbformat": 4,
  "nbformat_minor": 0,
  "metadata": {
    "colab": {
      "name": "COVID_19.ipynb",
      "provenance": [],
      "collapsed_sections": [],
      "include_colab_link": true
    },
    "kernelspec": {
      "name": "python3",
      "display_name": "Python 3"
    }
  },
  "cells": [
    {
      "cell_type": "markdown",
      "metadata": {
        "id": "view-in-github",
        "colab_type": "text"
      },
      "source": [
        "<a href=\"https://colab.research.google.com/github/RileyWClarke/MLTSA_COVID19/blob/master/COVID_19.ipynb\" target=\"_parent\"><img src=\"https://colab.research.google.com/assets/colab-badge.svg\" alt=\"Open In Colab\"/></a>"
      ]
    },
    {
      "cell_type": "markdown",
      "metadata": {
        "id": "JKY1Yu4r7iWx",
        "colab_type": "text"
      },
      "source": [
        "# MLTSA COVID-19 Project"
      ]
    },
    {
      "cell_type": "code",
      "metadata": {
        "id": "jVJvblHK0Gy7",
        "colab_type": "code",
        "colab": {}
      },
      "source": [
        "from matplotlib import pyplot as plt\n",
        "import numpy as np\n",
        "import pandas as pd\n",
        "% matplotlib inline"
      ],
      "execution_count": 0,
      "outputs": []
    },
    {
      "cell_type": "code",
      "metadata": {
        "id": "zjmQGEVQ6E4a",
        "colab_type": "code",
        "colab": {}
      },
      "source": [
        "plt.style.use(\"https://raw.githubusercontent.com/fedhere/MLTSA_FBianco/master/fbb.mplstyle\")"
      ],
      "execution_count": 0,
      "outputs": []
    },
    {
      "cell_type": "code",
      "metadata": {
        "id": "-gMB62Oc1NoH",
        "colab_type": "code",
        "outputId": "bbded93e-e136-42f9-c03e-12a629101724",
        "colab": {
          "base_uri": "https://localhost:8080/",
          "height": 224
        }
      },
      "source": [
        "!pip install kaggle"
      ],
      "execution_count": 0,
      "outputs": [
        {
          "output_type": "stream",
          "text": [
            "Requirement already satisfied: kaggle in /usr/local/lib/python3.6/dist-packages (1.5.6)\n",
            "Requirement already satisfied: urllib3<1.25,>=1.21.1 in /usr/local/lib/python3.6/dist-packages (from kaggle) (1.24.3)\n",
            "Requirement already satisfied: requests in /usr/local/lib/python3.6/dist-packages (from kaggle) (2.21.0)\n",
            "Requirement already satisfied: tqdm in /usr/local/lib/python3.6/dist-packages (from kaggle) (4.38.0)\n",
            "Requirement already satisfied: certifi in /usr/local/lib/python3.6/dist-packages (from kaggle) (2019.11.28)\n",
            "Requirement already satisfied: python-slugify in /usr/local/lib/python3.6/dist-packages (from kaggle) (4.0.0)\n",
            "Requirement already satisfied: six>=1.10 in /usr/local/lib/python3.6/dist-packages (from kaggle) (1.12.0)\n",
            "Requirement already satisfied: python-dateutil in /usr/local/lib/python3.6/dist-packages (from kaggle) (2.8.1)\n",
            "Requirement already satisfied: idna<2.9,>=2.5 in /usr/local/lib/python3.6/dist-packages (from requests->kaggle) (2.8)\n",
            "Requirement already satisfied: chardet<3.1.0,>=3.0.2 in /usr/local/lib/python3.6/dist-packages (from requests->kaggle) (3.0.4)\n",
            "Requirement already satisfied: text-unidecode>=1.3 in /usr/local/lib/python3.6/dist-packages (from python-slugify->kaggle) (1.3)\n"
          ],
          "name": "stdout"
        }
      ]
    },
    {
      "cell_type": "code",
      "metadata": {
        "id": "wyu1ovh82kj9",
        "colab_type": "code",
        "outputId": "965da388-0c7d-481e-ebc5-f1249435ec21",
        "colab": {
          "base_uri": "https://localhost:8080/",
          "height": 122
        }
      },
      "source": [
        "from google.colab import drive\n",
        "\n",
        "drive.mount(\"/content/gdrive\")"
      ],
      "execution_count": 0,
      "outputs": [
        {
          "output_type": "stream",
          "text": [
            "Go to this URL in a browser: https://accounts.google.com/o/oauth2/auth?client_id=947318989803-6bn6qk8qdgf4n4g3pfee6491hc0brc4i.apps.googleusercontent.com&redirect_uri=urn%3aietf%3awg%3aoauth%3a2.0%3aoob&response_type=code&scope=email%20https%3a%2f%2fwww.googleapis.com%2fauth%2fdocs.test%20https%3a%2f%2fwww.googleapis.com%2fauth%2fdrive%20https%3a%2f%2fwww.googleapis.com%2fauth%2fdrive.photos.readonly%20https%3a%2f%2fwww.googleapis.com%2fauth%2fpeopleapi.readonly\n",
            "\n",
            "Enter your authorization code:\n",
            "··········\n",
            "Mounted at /content/gdrive\n"
          ],
          "name": "stdout"
        }
      ]
    },
    {
      "cell_type": "code",
      "metadata": {
        "id": "5gdV_hsb2xeP",
        "colab_type": "code",
        "outputId": "b20cf078-b62b-4247-a99a-06dcc90b293c",
        "colab": {
          "base_uri": "https://localhost:8080/",
          "height": 34
        }
      },
      "source": [
        "!pwd"
      ],
      "execution_count": 0,
      "outputs": [
        {
          "output_type": "stream",
          "text": [
            "/content\n"
          ],
          "name": "stdout"
        }
      ]
    },
    {
      "cell_type": "code",
      "metadata": {
        "id": "znqcNuAq3EOu",
        "colab_type": "code",
        "outputId": "e59192ab-0954-4472-f814-6cf127b8a16a",
        "colab": {
          "base_uri": "https://localhost:8080/",
          "height": 34
        }
      },
      "source": [
        "cd gdrive/My\\ Drive/"
      ],
      "execution_count": 0,
      "outputs": [
        {
          "output_type": "stream",
          "text": [
            "/content/gdrive/My Drive\n"
          ],
          "name": "stdout"
        }
      ]
    },
    {
      "cell_type": "code",
      "metadata": {
        "id": "j7C0gqbf3G_y",
        "colab_type": "code",
        "outputId": "27de647e-4104-4b77-951b-cb68f9918ed3",
        "colab": {
          "base_uri": "https://localhost:8080/",
          "height": 34
        }
      },
      "source": [
        "ls kaggle.json"
      ],
      "execution_count": 0,
      "outputs": [
        {
          "output_type": "stream",
          "text": [
            "kaggle.json\n"
          ],
          "name": "stdout"
        }
      ]
    },
    {
      "cell_type": "code",
      "metadata": {
        "id": "d5-dQtjq3JGk",
        "colab_type": "code",
        "colab": {}
      },
      "source": [
        "!chmod 600 kaggle.json"
      ],
      "execution_count": 0,
      "outputs": []
    },
    {
      "cell_type": "code",
      "metadata": {
        "id": "qWtyjLsI3Lf8",
        "colab_type": "code",
        "colab": {}
      },
      "source": [
        "import json\n",
        "import os\n",
        "envs = json.load(open(\"kaggle.json\", \"r\"))\n",
        "os.environ[\"KAGGLE_USERNAME\"] = envs['username']\n",
        "os.environ[\"KAGGLE_KEY\"] = envs['key']"
      ],
      "execution_count": 0,
      "outputs": []
    },
    {
      "cell_type": "code",
      "metadata": {
        "id": "pWeLwHBD3T2v",
        "colab_type": "code",
        "outputId": "0bdeee34-3eac-4b2b-f2c1-f31769c333eb",
        "colab": {
          "base_uri": "https://localhost:8080/",
          "height": 428
        }
      },
      "source": [
        "!kaggle datasets list -s coronavirus"
      ],
      "execution_count": 0,
      "outputs": [
        {
          "output_type": "stream",
          "text": [
            "Warning: Looks like you're using an outdated API Version, please consider updating (server 1.5.6 / client 1.5.4)\n",
            "ref                                                             title                                                size  lastUpdated          downloadCount  \n",
            "--------------------------------------------------------------  --------------------------------------------------  -----  -------------------  -------------  \n",
            "unanimad/corona-virus-brazil                                    Coronavirus - Brazil                                  4KB  2020-03-18 23:06:05            803  \n",
            "jamzing/sars-coronavirus-accession                              SARS CORONAVIRUS ACCESSION                            2MB  2020-02-18 15:49:34           2377  \n",
            "brendaso/2019-coronavirus-dataset-01212020-01262020             2019 Coronavirus dataset (January - February 2020)   53KB  2020-02-06 18:09:28           9029  \n",
            "paultimothymooney/coronavirus-genome-sequence                   Coronavirus Genome Sequence                           9MB  2020-02-29 00:25:13            397  \n",
            "gpreda/coronavirus-2019ncov                                     Coronavirus 2019-nCoV                                46KB  2020-03-19 07:13:59            308  \n",
            "sudalairajkumar/novel-corona-virus-2019-dataset                 Novel Corona Virus 2019 Dataset                     370KB  2020-03-19 03:56:27          60365  \n",
            "grebublin/coronavirus-latlon-dataset                            Coronavirus Lat/Lon Dataset                         163KB  2020-03-13 16:34:49            476  \n",
            "vignesh1694/covid19-coronavirus                                 COVID-19 Coronavirus Dataset                        240KB  2020-03-13 15:03:18            636  \n",
            "ardisragen/indonesia-coronavirus-cases                          Indonesia-Coronavirus                                 4KB  2020-03-19 04:29:52             54  \n",
            "sudalairajkumar/covid19-in-italy                                COVID-19 in Italy                                    34KB  2020-03-19 06:06:06           1154  \n",
            "paultimothymooney/repository-of-coronavirus-genomes             Repository of Coronavirus Genomes                    37MB  2020-03-03 02:01:34            184  \n",
            "smid80/coronavirus-covid19-tweets                               Coronavirus (covid19) Tweets                        491MB  2020-03-17 13:19:05            155  \n",
            "kimjihoo/coronavirusdataset                                     Data Science for COVID-19 (DS4C)                    356KB  2020-03-18 16:56:46          17245  \n",
            "parulpandey/coronavirus-cases-in-india                          Coronavirus Cases in India                           13KB  2020-03-19 03:09:54            192  \n",
            "lperez/coronavirus-france-dataset                               Coronavirus France dataset                           10KB  2020-03-15 06:04:39            113  \n",
            "tunguz/coronavirus-2019ncov-parameters-and-predictions          Coronavirus 2019-nCoV: Parameters and Predictions     1MB  2020-02-05 16:47:18            148  \n",
            "imdevskp/corona-virus-report                                    COVID-19 Complete Dataset (Updated every 24hrs)      81KB  2020-03-19 04:16:16           8177  \n",
            "parulpandey/2020-conferences-cancelled-due-to-coronavirus       2020 Conferences Cancelled due to Coronavirus         1KB  2020-03-11 16:26:19             12  \n",
            "yassinehamdaoui1/coronavirus-source-data-covid19-daily-reports  Coronavirus Source Data (COVID-19) Daily reports     22KB  2020-03-12 23:15:37             91  \n",
            "balaaje/coronavirus-covid19-dataset                             Coronavirus (COVID-19) dataset                        2KB  2020-03-12 05:57:36             18  \n"
          ],
          "name": "stdout"
        }
      ]
    },
    {
      "cell_type": "code",
      "metadata": {
        "id": "uChHZki_3YYV",
        "colab_type": "code",
        "colab": {}
      },
      "source": [
        "!mkdir COVID19"
      ],
      "execution_count": 0,
      "outputs": []
    },
    {
      "cell_type": "code",
      "metadata": {
        "id": "JwAa8oge3ufD",
        "colab_type": "code",
        "outputId": "f9f2e0ae-ac51-4e9a-e626-dcbd67fd61cf",
        "colab": {
          "base_uri": "https://localhost:8080/",
          "height": 34
        }
      },
      "source": [
        "cd COVID19"
      ],
      "execution_count": 0,
      "outputs": [
        {
          "output_type": "stream",
          "text": [
            "/content/gdrive/My Drive/COVID19\n"
          ],
          "name": "stdout"
        }
      ]
    },
    {
      "cell_type": "code",
      "metadata": {
        "id": "9ixzsNPT3yAb",
        "colab_type": "code",
        "colab": {}
      },
      "source": [
        "!mkdir data"
      ],
      "execution_count": 0,
      "outputs": []
    },
    {
      "cell_type": "code",
      "metadata": {
        "id": "jRMwGxrI30H6",
        "colab_type": "code",
        "outputId": "027c1bc5-6288-490a-b3f6-c874ded97702",
        "colab": {
          "base_uri": "https://localhost:8080/",
          "height": 34
        }
      },
      "source": [
        "cd data"
      ],
      "execution_count": 0,
      "outputs": [
        {
          "output_type": "stream",
          "text": [
            "/content/gdrive/My Drive/COVID19/data\n"
          ],
          "name": "stdout"
        }
      ]
    },
    {
      "cell_type": "code",
      "metadata": {
        "id": "DwEJLONq300V",
        "colab_type": "code",
        "outputId": "55dcf83b-d28e-4178-a22b-a74e8990e3d8",
        "colab": {
          "base_uri": "https://localhost:8080/",
          "height": 68
        }
      },
      "source": [
        "!kaggle datasets download kimjihoo/coronavirusdataset"
      ],
      "execution_count": 0,
      "outputs": [
        {
          "output_type": "stream",
          "text": [
            "Downloading coronavirusdataset.zip to /content/gdrive/My Drive/COVID19/data\n",
            "\r  0% 0.00/356k [00:00<?, ?B/s]\n",
            "\r100% 356k/356k [00:00<00:00, 24.6MB/s]\n"
          ],
          "name": "stdout"
        }
      ]
    },
    {
      "cell_type": "code",
      "metadata": {
        "id": "uMkMeyOx396u",
        "colab_type": "code",
        "outputId": "ea26d850-443e-47fd-9b7b-06eb4de3d320",
        "colab": {
          "base_uri": "https://localhost:8080/",
          "height": 34
        }
      },
      "source": [
        "ls"
      ],
      "execution_count": 0,
      "outputs": [
        {
          "output_type": "stream",
          "text": [
            "coronavirusdataset.zip\n"
          ],
          "name": "stdout"
        }
      ]
    },
    {
      "cell_type": "code",
      "metadata": {
        "id": "jxVxueoN3-97",
        "colab_type": "code",
        "outputId": "6ef817da-bcfa-4c53-9b0e-c521451469d9",
        "colab": {
          "base_uri": "https://localhost:8080/",
          "height": 204
        }
      },
      "source": [
        "!unzip coronavirusdataset.zip"
      ],
      "execution_count": 0,
      "outputs": [
        {
          "output_type": "stream",
          "text": [
            "Archive:  coronavirusdataset.zip\n",
            "  inflating: Case.csv                \n",
            "  inflating: PatientInfo.csv         \n",
            "  inflating: PatientRoute.csv        \n",
            "  inflating: Region.csv              \n",
            "  inflating: SearchTrend.csv         \n",
            "  inflating: Time.csv                \n",
            "  inflating: TimeAge.csv             \n",
            "  inflating: TimeGender.csv          \n",
            "  inflating: TimeProvince.csv        \n",
            "  inflating: Weather.csv             \n"
          ],
          "name": "stdout"
        }
      ]
    },
    {
      "cell_type": "code",
      "metadata": {
        "id": "qAuop5zJ4Ddi",
        "colab_type": "code",
        "outputId": "74f1a735-5fbf-42ef-bfcc-1a2870b5622f",
        "colab": {
          "base_uri": "https://localhost:8080/",
          "height": 204
        }
      },
      "source": [
        "ts = pd.read_csv('Time.csv')\n",
        "ts.head()"
      ],
      "execution_count": 0,
      "outputs": [
        {
          "output_type": "execute_result",
          "data": {
            "text/html": [
              "<div>\n",
              "<style scoped>\n",
              "    .dataframe tbody tr th:only-of-type {\n",
              "        vertical-align: middle;\n",
              "    }\n",
              "\n",
              "    .dataframe tbody tr th {\n",
              "        vertical-align: top;\n",
              "    }\n",
              "\n",
              "    .dataframe thead th {\n",
              "        text-align: right;\n",
              "    }\n",
              "</style>\n",
              "<table border=\"1\" class=\"dataframe\">\n",
              "  <thead>\n",
              "    <tr style=\"text-align: right;\">\n",
              "      <th></th>\n",
              "      <th>date</th>\n",
              "      <th>time</th>\n",
              "      <th>test</th>\n",
              "      <th>negative</th>\n",
              "      <th>confirmed</th>\n",
              "      <th>released</th>\n",
              "      <th>deceased</th>\n",
              "    </tr>\n",
              "  </thead>\n",
              "  <tbody>\n",
              "    <tr>\n",
              "      <th>0</th>\n",
              "      <td>2020-01-20</td>\n",
              "      <td>16</td>\n",
              "      <td>1</td>\n",
              "      <td>0</td>\n",
              "      <td>1</td>\n",
              "      <td>0</td>\n",
              "      <td>0</td>\n",
              "    </tr>\n",
              "    <tr>\n",
              "      <th>1</th>\n",
              "      <td>2020-01-21</td>\n",
              "      <td>16</td>\n",
              "      <td>1</td>\n",
              "      <td>0</td>\n",
              "      <td>1</td>\n",
              "      <td>0</td>\n",
              "      <td>0</td>\n",
              "    </tr>\n",
              "    <tr>\n",
              "      <th>2</th>\n",
              "      <td>2020-01-22</td>\n",
              "      <td>16</td>\n",
              "      <td>4</td>\n",
              "      <td>3</td>\n",
              "      <td>1</td>\n",
              "      <td>0</td>\n",
              "      <td>0</td>\n",
              "    </tr>\n",
              "    <tr>\n",
              "      <th>3</th>\n",
              "      <td>2020-01-23</td>\n",
              "      <td>16</td>\n",
              "      <td>22</td>\n",
              "      <td>21</td>\n",
              "      <td>1</td>\n",
              "      <td>0</td>\n",
              "      <td>0</td>\n",
              "    </tr>\n",
              "    <tr>\n",
              "      <th>4</th>\n",
              "      <td>2020-01-24</td>\n",
              "      <td>16</td>\n",
              "      <td>27</td>\n",
              "      <td>25</td>\n",
              "      <td>2</td>\n",
              "      <td>0</td>\n",
              "      <td>0</td>\n",
              "    </tr>\n",
              "  </tbody>\n",
              "</table>\n",
              "</div>"
            ],
            "text/plain": [
              "         date  time  test  negative  confirmed  released  deceased\n",
              "0  2020-01-20    16     1         0          1         0         0\n",
              "1  2020-01-21    16     1         0          1         0         0\n",
              "2  2020-01-22    16     4         3          1         0         0\n",
              "3  2020-01-23    16    22        21          1         0         0\n",
              "4  2020-01-24    16    27        25          2         0         0"
            ]
          },
          "metadata": {
            "tags": []
          },
          "execution_count": 36
        }
      ]
    },
    {
      "cell_type": "code",
      "metadata": {
        "id": "I6HBi7ce4afq",
        "colab_type": "code",
        "outputId": "2fcc566c-d5e0-4fbe-81cf-14c35daa79ec",
        "colab": {
          "base_uri": "https://localhost:8080/",
          "height": 34
        }
      },
      "source": [
        "ts.shape"
      ],
      "execution_count": 0,
      "outputs": [
        {
          "output_type": "execute_result",
          "data": {
            "text/plain": [
              "(57, 7)"
            ]
          },
          "metadata": {
            "tags": []
          },
          "execution_count": 37
        }
      ]
    },
    {
      "cell_type": "code",
      "metadata": {
        "id": "kebZXOY34mOE",
        "colab_type": "code",
        "outputId": "12bf0682-a812-4bd0-fae6-e61b2164b5b8",
        "colab": {
          "base_uri": "https://localhost:8080/",
          "height": 1000
        }
      },
      "source": [
        "ts['date'] = pd.to_datetime(ts['date'])\n",
        "ts"
      ],
      "execution_count": 0,
      "outputs": [
        {
          "output_type": "execute_result",
          "data": {
            "text/html": [
              "<div>\n",
              "<style scoped>\n",
              "    .dataframe tbody tr th:only-of-type {\n",
              "        vertical-align: middle;\n",
              "    }\n",
              "\n",
              "    .dataframe tbody tr th {\n",
              "        vertical-align: top;\n",
              "    }\n",
              "\n",
              "    .dataframe thead th {\n",
              "        text-align: right;\n",
              "    }\n",
              "</style>\n",
              "<table border=\"1\" class=\"dataframe\">\n",
              "  <thead>\n",
              "    <tr style=\"text-align: right;\">\n",
              "      <th></th>\n",
              "      <th>date</th>\n",
              "      <th>time</th>\n",
              "      <th>test</th>\n",
              "      <th>negative</th>\n",
              "      <th>confirmed</th>\n",
              "      <th>released</th>\n",
              "      <th>deceased</th>\n",
              "    </tr>\n",
              "  </thead>\n",
              "  <tbody>\n",
              "    <tr>\n",
              "      <th>0</th>\n",
              "      <td>2020-01-20</td>\n",
              "      <td>16</td>\n",
              "      <td>1</td>\n",
              "      <td>0</td>\n",
              "      <td>1</td>\n",
              "      <td>0</td>\n",
              "      <td>0</td>\n",
              "    </tr>\n",
              "    <tr>\n",
              "      <th>1</th>\n",
              "      <td>2020-01-21</td>\n",
              "      <td>16</td>\n",
              "      <td>1</td>\n",
              "      <td>0</td>\n",
              "      <td>1</td>\n",
              "      <td>0</td>\n",
              "      <td>0</td>\n",
              "    </tr>\n",
              "    <tr>\n",
              "      <th>2</th>\n",
              "      <td>2020-01-22</td>\n",
              "      <td>16</td>\n",
              "      <td>4</td>\n",
              "      <td>3</td>\n",
              "      <td>1</td>\n",
              "      <td>0</td>\n",
              "      <td>0</td>\n",
              "    </tr>\n",
              "    <tr>\n",
              "      <th>3</th>\n",
              "      <td>2020-01-23</td>\n",
              "      <td>16</td>\n",
              "      <td>22</td>\n",
              "      <td>21</td>\n",
              "      <td>1</td>\n",
              "      <td>0</td>\n",
              "      <td>0</td>\n",
              "    </tr>\n",
              "    <tr>\n",
              "      <th>4</th>\n",
              "      <td>2020-01-24</td>\n",
              "      <td>16</td>\n",
              "      <td>27</td>\n",
              "      <td>25</td>\n",
              "      <td>2</td>\n",
              "      <td>0</td>\n",
              "      <td>0</td>\n",
              "    </tr>\n",
              "    <tr>\n",
              "      <th>5</th>\n",
              "      <td>2020-01-25</td>\n",
              "      <td>16</td>\n",
              "      <td>27</td>\n",
              "      <td>25</td>\n",
              "      <td>2</td>\n",
              "      <td>0</td>\n",
              "      <td>0</td>\n",
              "    </tr>\n",
              "    <tr>\n",
              "      <th>6</th>\n",
              "      <td>2020-01-26</td>\n",
              "      <td>16</td>\n",
              "      <td>51</td>\n",
              "      <td>47</td>\n",
              "      <td>3</td>\n",
              "      <td>0</td>\n",
              "      <td>0</td>\n",
              "    </tr>\n",
              "    <tr>\n",
              "      <th>7</th>\n",
              "      <td>2020-01-27</td>\n",
              "      <td>16</td>\n",
              "      <td>61</td>\n",
              "      <td>56</td>\n",
              "      <td>4</td>\n",
              "      <td>0</td>\n",
              "      <td>0</td>\n",
              "    </tr>\n",
              "    <tr>\n",
              "      <th>8</th>\n",
              "      <td>2020-01-28</td>\n",
              "      <td>16</td>\n",
              "      <td>116</td>\n",
              "      <td>97</td>\n",
              "      <td>4</td>\n",
              "      <td>0</td>\n",
              "      <td>0</td>\n",
              "    </tr>\n",
              "    <tr>\n",
              "      <th>9</th>\n",
              "      <td>2020-01-29</td>\n",
              "      <td>16</td>\n",
              "      <td>187</td>\n",
              "      <td>155</td>\n",
              "      <td>4</td>\n",
              "      <td>0</td>\n",
              "      <td>0</td>\n",
              "    </tr>\n",
              "    <tr>\n",
              "      <th>10</th>\n",
              "      <td>2020-01-30</td>\n",
              "      <td>16</td>\n",
              "      <td>246</td>\n",
              "      <td>199</td>\n",
              "      <td>6</td>\n",
              "      <td>0</td>\n",
              "      <td>0</td>\n",
              "    </tr>\n",
              "    <tr>\n",
              "      <th>11</th>\n",
              "      <td>2020-01-31</td>\n",
              "      <td>16</td>\n",
              "      <td>312</td>\n",
              "      <td>245</td>\n",
              "      <td>11</td>\n",
              "      <td>0</td>\n",
              "      <td>0</td>\n",
              "    </tr>\n",
              "    <tr>\n",
              "      <th>12</th>\n",
              "      <td>2020-02-01</td>\n",
              "      <td>16</td>\n",
              "      <td>371</td>\n",
              "      <td>289</td>\n",
              "      <td>12</td>\n",
              "      <td>0</td>\n",
              "      <td>0</td>\n",
              "    </tr>\n",
              "    <tr>\n",
              "      <th>13</th>\n",
              "      <td>2020-02-02</td>\n",
              "      <td>16</td>\n",
              "      <td>429</td>\n",
              "      <td>327</td>\n",
              "      <td>15</td>\n",
              "      <td>0</td>\n",
              "      <td>0</td>\n",
              "    </tr>\n",
              "    <tr>\n",
              "      <th>14</th>\n",
              "      <td>2020-02-03</td>\n",
              "      <td>16</td>\n",
              "      <td>490</td>\n",
              "      <td>414</td>\n",
              "      <td>15</td>\n",
              "      <td>0</td>\n",
              "      <td>0</td>\n",
              "    </tr>\n",
              "    <tr>\n",
              "      <th>15</th>\n",
              "      <td>2020-02-04</td>\n",
              "      <td>16</td>\n",
              "      <td>607</td>\n",
              "      <td>462</td>\n",
              "      <td>16</td>\n",
              "      <td>0</td>\n",
              "      <td>0</td>\n",
              "    </tr>\n",
              "    <tr>\n",
              "      <th>16</th>\n",
              "      <td>2020-02-05</td>\n",
              "      <td>16</td>\n",
              "      <td>714</td>\n",
              "      <td>522</td>\n",
              "      <td>18</td>\n",
              "      <td>1</td>\n",
              "      <td>0</td>\n",
              "    </tr>\n",
              "    <tr>\n",
              "      <th>17</th>\n",
              "      <td>2020-02-06</td>\n",
              "      <td>16</td>\n",
              "      <td>885</td>\n",
              "      <td>693</td>\n",
              "      <td>23</td>\n",
              "      <td>2</td>\n",
              "      <td>0</td>\n",
              "    </tr>\n",
              "    <tr>\n",
              "      <th>18</th>\n",
              "      <td>2020-02-07</td>\n",
              "      <td>16</td>\n",
              "      <td>1352</td>\n",
              "      <td>1001</td>\n",
              "      <td>24</td>\n",
              "      <td>2</td>\n",
              "      <td>0</td>\n",
              "    </tr>\n",
              "    <tr>\n",
              "      <th>19</th>\n",
              "      <td>2020-02-08</td>\n",
              "      <td>16</td>\n",
              "      <td>2097</td>\n",
              "      <td>1134</td>\n",
              "      <td>24</td>\n",
              "      <td>2</td>\n",
              "      <td>0</td>\n",
              "    </tr>\n",
              "    <tr>\n",
              "      <th>20</th>\n",
              "      <td>2020-02-09</td>\n",
              "      <td>16</td>\n",
              "      <td>2598</td>\n",
              "      <td>1683</td>\n",
              "      <td>27</td>\n",
              "      <td>3</td>\n",
              "      <td>0</td>\n",
              "    </tr>\n",
              "    <tr>\n",
              "      <th>21</th>\n",
              "      <td>2020-02-10</td>\n",
              "      <td>16</td>\n",
              "      <td>3110</td>\n",
              "      <td>2552</td>\n",
              "      <td>27</td>\n",
              "      <td>4</td>\n",
              "      <td>0</td>\n",
              "    </tr>\n",
              "    <tr>\n",
              "      <th>22</th>\n",
              "      <td>2020-02-11</td>\n",
              "      <td>16</td>\n",
              "      <td>4325</td>\n",
              "      <td>3535</td>\n",
              "      <td>28</td>\n",
              "      <td>4</td>\n",
              "      <td>0</td>\n",
              "    </tr>\n",
              "    <tr>\n",
              "      <th>23</th>\n",
              "      <td>2020-02-12</td>\n",
              "      <td>16</td>\n",
              "      <td>5624</td>\n",
              "      <td>4811</td>\n",
              "      <td>28</td>\n",
              "      <td>7</td>\n",
              "      <td>0</td>\n",
              "    </tr>\n",
              "    <tr>\n",
              "      <th>24</th>\n",
              "      <td>2020-02-13</td>\n",
              "      <td>16</td>\n",
              "      <td>6511</td>\n",
              "      <td>5921</td>\n",
              "      <td>28</td>\n",
              "      <td>7</td>\n",
              "      <td>0</td>\n",
              "    </tr>\n",
              "    <tr>\n",
              "      <th>25</th>\n",
              "      <td>2020-02-14</td>\n",
              "      <td>16</td>\n",
              "      <td>7242</td>\n",
              "      <td>6679</td>\n",
              "      <td>28</td>\n",
              "      <td>7</td>\n",
              "      <td>0</td>\n",
              "    </tr>\n",
              "    <tr>\n",
              "      <th>26</th>\n",
              "      <td>2020-02-15</td>\n",
              "      <td>16</td>\n",
              "      <td>7734</td>\n",
              "      <td>7148</td>\n",
              "      <td>28</td>\n",
              "      <td>9</td>\n",
              "      <td>0</td>\n",
              "    </tr>\n",
              "    <tr>\n",
              "      <th>27</th>\n",
              "      <td>2020-02-16</td>\n",
              "      <td>16</td>\n",
              "      <td>8161</td>\n",
              "      <td>7647</td>\n",
              "      <td>29</td>\n",
              "      <td>9</td>\n",
              "      <td>0</td>\n",
              "    </tr>\n",
              "    <tr>\n",
              "      <th>28</th>\n",
              "      <td>2020-02-17</td>\n",
              "      <td>16</td>\n",
              "      <td>8718</td>\n",
              "      <td>7980</td>\n",
              "      <td>30</td>\n",
              "      <td>10</td>\n",
              "      <td>0</td>\n",
              "    </tr>\n",
              "    <tr>\n",
              "      <th>29</th>\n",
              "      <td>2020-02-18</td>\n",
              "      <td>16</td>\n",
              "      <td>9772</td>\n",
              "      <td>8923</td>\n",
              "      <td>31</td>\n",
              "      <td>12</td>\n",
              "      <td>0</td>\n",
              "    </tr>\n",
              "    <tr>\n",
              "      <th>30</th>\n",
              "      <td>2020-02-19</td>\n",
              "      <td>16</td>\n",
              "      <td>11173</td>\n",
              "      <td>9973</td>\n",
              "      <td>51</td>\n",
              "      <td>16</td>\n",
              "      <td>0</td>\n",
              "    </tr>\n",
              "    <tr>\n",
              "      <th>31</th>\n",
              "      <td>2020-02-20</td>\n",
              "      <td>16</td>\n",
              "      <td>13202</td>\n",
              "      <td>11238</td>\n",
              "      <td>104</td>\n",
              "      <td>16</td>\n",
              "      <td>1</td>\n",
              "    </tr>\n",
              "    <tr>\n",
              "      <th>32</th>\n",
              "      <td>2020-02-21</td>\n",
              "      <td>16</td>\n",
              "      <td>16400</td>\n",
              "      <td>13016</td>\n",
              "      <td>204</td>\n",
              "      <td>17</td>\n",
              "      <td>2</td>\n",
              "    </tr>\n",
              "    <tr>\n",
              "      <th>33</th>\n",
              "      <td>2020-02-22</td>\n",
              "      <td>16</td>\n",
              "      <td>21586</td>\n",
              "      <td>15116</td>\n",
              "      <td>433</td>\n",
              "      <td>18</td>\n",
              "      <td>2</td>\n",
              "    </tr>\n",
              "    <tr>\n",
              "      <th>34</th>\n",
              "      <td>2020-02-23</td>\n",
              "      <td>16</td>\n",
              "      <td>26179</td>\n",
              "      <td>17520</td>\n",
              "      <td>602</td>\n",
              "      <td>18</td>\n",
              "      <td>6</td>\n",
              "    </tr>\n",
              "    <tr>\n",
              "      <th>35</th>\n",
              "      <td>2020-02-24</td>\n",
              "      <td>16</td>\n",
              "      <td>32756</td>\n",
              "      <td>20292</td>\n",
              "      <td>833</td>\n",
              "      <td>24</td>\n",
              "      <td>8</td>\n",
              "    </tr>\n",
              "    <tr>\n",
              "      <th>36</th>\n",
              "      <td>2020-02-25</td>\n",
              "      <td>16</td>\n",
              "      <td>40304</td>\n",
              "      <td>25447</td>\n",
              "      <td>977</td>\n",
              "      <td>24</td>\n",
              "      <td>12</td>\n",
              "    </tr>\n",
              "    <tr>\n",
              "      <th>37</th>\n",
              "      <td>2020-02-26</td>\n",
              "      <td>16</td>\n",
              "      <td>53553</td>\n",
              "      <td>31576</td>\n",
              "      <td>1261</td>\n",
              "      <td>24</td>\n",
              "      <td>12</td>\n",
              "    </tr>\n",
              "    <tr>\n",
              "      <th>38</th>\n",
              "      <td>2020-02-27</td>\n",
              "      <td>16</td>\n",
              "      <td>66652</td>\n",
              "      <td>39318</td>\n",
              "      <td>1766</td>\n",
              "      <td>26</td>\n",
              "      <td>13</td>\n",
              "    </tr>\n",
              "    <tr>\n",
              "      <th>39</th>\n",
              "      <td>2020-02-28</td>\n",
              "      <td>16</td>\n",
              "      <td>81167</td>\n",
              "      <td>48593</td>\n",
              "      <td>2337</td>\n",
              "      <td>27</td>\n",
              "      <td>13</td>\n",
              "    </tr>\n",
              "    <tr>\n",
              "      <th>40</th>\n",
              "      <td>2020-02-29</td>\n",
              "      <td>16</td>\n",
              "      <td>94055</td>\n",
              "      <td>55723</td>\n",
              "      <td>3150</td>\n",
              "      <td>28</td>\n",
              "      <td>17</td>\n",
              "    </tr>\n",
              "    <tr>\n",
              "      <th>41</th>\n",
              "      <td>2020-03-01</td>\n",
              "      <td>16</td>\n",
              "      <td>98921</td>\n",
              "      <td>61825</td>\n",
              "      <td>3736</td>\n",
              "      <td>30</td>\n",
              "      <td>18</td>\n",
              "    </tr>\n",
              "    <tr>\n",
              "      <th>42</th>\n",
              "      <td>2020-03-02</td>\n",
              "      <td>0</td>\n",
              "      <td>109591</td>\n",
              "      <td>71580</td>\n",
              "      <td>4212</td>\n",
              "      <td>31</td>\n",
              "      <td>22</td>\n",
              "    </tr>\n",
              "    <tr>\n",
              "      <th>43</th>\n",
              "      <td>2020-03-03</td>\n",
              "      <td>0</td>\n",
              "      <td>125851</td>\n",
              "      <td>85484</td>\n",
              "      <td>4812</td>\n",
              "      <td>34</td>\n",
              "      <td>28</td>\n",
              "    </tr>\n",
              "    <tr>\n",
              "      <th>44</th>\n",
              "      <td>2020-03-04</td>\n",
              "      <td>0</td>\n",
              "      <td>136707</td>\n",
              "      <td>102965</td>\n",
              "      <td>5328</td>\n",
              "      <td>41</td>\n",
              "      <td>32</td>\n",
              "    </tr>\n",
              "    <tr>\n",
              "      <th>45</th>\n",
              "      <td>2020-03-05</td>\n",
              "      <td>0</td>\n",
              "      <td>146541</td>\n",
              "      <td>118965</td>\n",
              "      <td>5766</td>\n",
              "      <td>88</td>\n",
              "      <td>35</td>\n",
              "    </tr>\n",
              "    <tr>\n",
              "      <th>46</th>\n",
              "      <td>2020-03-06</td>\n",
              "      <td>0</td>\n",
              "      <td>164740</td>\n",
              "      <td>136624</td>\n",
              "      <td>6284</td>\n",
              "      <td>108</td>\n",
              "      <td>42</td>\n",
              "    </tr>\n",
              "    <tr>\n",
              "      <th>47</th>\n",
              "      <td>2020-03-07</td>\n",
              "      <td>0</td>\n",
              "      <td>178189</td>\n",
              "      <td>151802</td>\n",
              "      <td>6767</td>\n",
              "      <td>118</td>\n",
              "      <td>44</td>\n",
              "    </tr>\n",
              "    <tr>\n",
              "      <th>48</th>\n",
              "      <td>2020-03-08</td>\n",
              "      <td>0</td>\n",
              "      <td>188518</td>\n",
              "      <td>162008</td>\n",
              "      <td>7134</td>\n",
              "      <td>130</td>\n",
              "      <td>50</td>\n",
              "    </tr>\n",
              "    <tr>\n",
              "      <th>49</th>\n",
              "      <td>2020-03-09</td>\n",
              "      <td>0</td>\n",
              "      <td>196618</td>\n",
              "      <td>171778</td>\n",
              "      <td>7382</td>\n",
              "      <td>166</td>\n",
              "      <td>51</td>\n",
              "    </tr>\n",
              "    <tr>\n",
              "      <th>50</th>\n",
              "      <td>2020-03-10</td>\n",
              "      <td>0</td>\n",
              "      <td>210144</td>\n",
              "      <td>184179</td>\n",
              "      <td>7513</td>\n",
              "      <td>247</td>\n",
              "      <td>54</td>\n",
              "    </tr>\n",
              "    <tr>\n",
              "      <th>51</th>\n",
              "      <td>2020-03-11</td>\n",
              "      <td>0</td>\n",
              "      <td>222395</td>\n",
              "      <td>196100</td>\n",
              "      <td>7755</td>\n",
              "      <td>288</td>\n",
              "      <td>60</td>\n",
              "    </tr>\n",
              "    <tr>\n",
              "      <th>52</th>\n",
              "      <td>2020-03-12</td>\n",
              "      <td>0</td>\n",
              "      <td>234998</td>\n",
              "      <td>209402</td>\n",
              "      <td>7869</td>\n",
              "      <td>333</td>\n",
              "      <td>66</td>\n",
              "    </tr>\n",
              "    <tr>\n",
              "      <th>53</th>\n",
              "      <td>2020-03-13</td>\n",
              "      <td>0</td>\n",
              "      <td>248647</td>\n",
              "      <td>222728</td>\n",
              "      <td>7979</td>\n",
              "      <td>510</td>\n",
              "      <td>67</td>\n",
              "    </tr>\n",
              "    <tr>\n",
              "      <th>54</th>\n",
              "      <td>2020-03-14</td>\n",
              "      <td>0</td>\n",
              "      <td>261335</td>\n",
              "      <td>235615</td>\n",
              "      <td>8086</td>\n",
              "      <td>714</td>\n",
              "      <td>72</td>\n",
              "    </tr>\n",
              "    <tr>\n",
              "      <th>55</th>\n",
              "      <td>2020-03-15</td>\n",
              "      <td>0</td>\n",
              "      <td>268212</td>\n",
              "      <td>243778</td>\n",
              "      <td>8126</td>\n",
              "      <td>834</td>\n",
              "      <td>75</td>\n",
              "    </tr>\n",
              "    <tr>\n",
              "      <th>56</th>\n",
              "      <td>2020-03-16</td>\n",
              "      <td>0</td>\n",
              "      <td>274504</td>\n",
              "      <td>251297</td>\n",
              "      <td>8236</td>\n",
              "      <td>1137</td>\n",
              "      <td>75</td>\n",
              "    </tr>\n",
              "  </tbody>\n",
              "</table>\n",
              "</div>"
            ],
            "text/plain": [
              "         date  time    test  negative  confirmed  released  deceased\n",
              "0  2020-01-20    16       1         0          1         0         0\n",
              "1  2020-01-21    16       1         0          1         0         0\n",
              "2  2020-01-22    16       4         3          1         0         0\n",
              "3  2020-01-23    16      22        21          1         0         0\n",
              "4  2020-01-24    16      27        25          2         0         0\n",
              "5  2020-01-25    16      27        25          2         0         0\n",
              "6  2020-01-26    16      51        47          3         0         0\n",
              "7  2020-01-27    16      61        56          4         0         0\n",
              "8  2020-01-28    16     116        97          4         0         0\n",
              "9  2020-01-29    16     187       155          4         0         0\n",
              "10 2020-01-30    16     246       199          6         0         0\n",
              "11 2020-01-31    16     312       245         11         0         0\n",
              "12 2020-02-01    16     371       289         12         0         0\n",
              "13 2020-02-02    16     429       327         15         0         0\n",
              "14 2020-02-03    16     490       414         15         0         0\n",
              "15 2020-02-04    16     607       462         16         0         0\n",
              "16 2020-02-05    16     714       522         18         1         0\n",
              "17 2020-02-06    16     885       693         23         2         0\n",
              "18 2020-02-07    16    1352      1001         24         2         0\n",
              "19 2020-02-08    16    2097      1134         24         2         0\n",
              "20 2020-02-09    16    2598      1683         27         3         0\n",
              "21 2020-02-10    16    3110      2552         27         4         0\n",
              "22 2020-02-11    16    4325      3535         28         4         0\n",
              "23 2020-02-12    16    5624      4811         28         7         0\n",
              "24 2020-02-13    16    6511      5921         28         7         0\n",
              "25 2020-02-14    16    7242      6679         28         7         0\n",
              "26 2020-02-15    16    7734      7148         28         9         0\n",
              "27 2020-02-16    16    8161      7647         29         9         0\n",
              "28 2020-02-17    16    8718      7980         30        10         0\n",
              "29 2020-02-18    16    9772      8923         31        12         0\n",
              "30 2020-02-19    16   11173      9973         51        16         0\n",
              "31 2020-02-20    16   13202     11238        104        16         1\n",
              "32 2020-02-21    16   16400     13016        204        17         2\n",
              "33 2020-02-22    16   21586     15116        433        18         2\n",
              "34 2020-02-23    16   26179     17520        602        18         6\n",
              "35 2020-02-24    16   32756     20292        833        24         8\n",
              "36 2020-02-25    16   40304     25447        977        24        12\n",
              "37 2020-02-26    16   53553     31576       1261        24        12\n",
              "38 2020-02-27    16   66652     39318       1766        26        13\n",
              "39 2020-02-28    16   81167     48593       2337        27        13\n",
              "40 2020-02-29    16   94055     55723       3150        28        17\n",
              "41 2020-03-01    16   98921     61825       3736        30        18\n",
              "42 2020-03-02     0  109591     71580       4212        31        22\n",
              "43 2020-03-03     0  125851     85484       4812        34        28\n",
              "44 2020-03-04     0  136707    102965       5328        41        32\n",
              "45 2020-03-05     0  146541    118965       5766        88        35\n",
              "46 2020-03-06     0  164740    136624       6284       108        42\n",
              "47 2020-03-07     0  178189    151802       6767       118        44\n",
              "48 2020-03-08     0  188518    162008       7134       130        50\n",
              "49 2020-03-09     0  196618    171778       7382       166        51\n",
              "50 2020-03-10     0  210144    184179       7513       247        54\n",
              "51 2020-03-11     0  222395    196100       7755       288        60\n",
              "52 2020-03-12     0  234998    209402       7869       333        66\n",
              "53 2020-03-13     0  248647    222728       7979       510        67\n",
              "54 2020-03-14     0  261335    235615       8086       714        72\n",
              "55 2020-03-15     0  268212    243778       8126       834        75\n",
              "56 2020-03-16     0  274504    251297       8236      1137        75"
            ]
          },
          "metadata": {
            "tags": []
          },
          "execution_count": 38
        }
      ]
    },
    {
      "cell_type": "code",
      "metadata": {
        "id": "M3tPyKou551C",
        "colab_type": "code",
        "outputId": "2452668f-1a79-45a9-bd62-d5df044dd819",
        "colab": {
          "base_uri": "https://localhost:8080/",
          "height": 68
        }
      },
      "source": [
        "ts.columns"
      ],
      "execution_count": 0,
      "outputs": [
        {
          "output_type": "execute_result",
          "data": {
            "text/plain": [
              "Index(['date', 'time', 'test', 'negative', 'confirmed', 'released',\n",
              "       'deceased'],\n",
              "      dtype='object')"
            ]
          },
          "metadata": {
            "tags": []
          },
          "execution_count": 39
        }
      ]
    },
    {
      "cell_type": "code",
      "metadata": {
        "id": "ETx6vF1565No",
        "colab_type": "code",
        "colab": {}
      },
      "source": [
        "ts.set_index(\"date\", inplace=True)"
      ],
      "execution_count": 0,
      "outputs": []
    },
    {
      "cell_type": "code",
      "metadata": {
        "id": "xDQXAkMT5aZ-",
        "colab_type": "code",
        "outputId": "a2d79a51-88b6-4e64-ed0b-a6085fab0d3a",
        "colab": {
          "base_uri": "https://localhost:8080/",
          "height": 1000
        }
      },
      "source": [
        "for c in ts.columns[2:]:\n",
        "    fig, ax = plt.subplots(figsize=(10,4))\n",
        "    ts.plot(y=c, ax=ax, rot=75)"
      ],
      "execution_count": 0,
      "outputs": [
        {
          "output_type": "display_data",
          "data": {
            "image/png": "[encoded data removed]",
            "text/plain": [
              "<Figure size 720x288 with 1 Axes>"
            ]
          },
          "metadata": {
            "tags": []
          }
        },
        {
          "output_type": "display_data",
          "data": {
            "image/png": "[encoded data removed]",
            "text/plain": [
              "<Figure size 720x288 with 1 Axes>"
            ]
          },
          "metadata": {
            "tags": []
          }
        },
        {
          "output_type": "display_data",
          "data": {
            "image/png": "[encoded data removed]",
            "text/plain": [
              "<Figure size 720x288 with 1 Axes>"
            ]
          },
          "metadata": {
            "tags": []
          }
        },
        {
          "output_type": "display_data",
          "data": {
            "image/png": "[encoded data removed]",
            "text/plain": [
              "<Figure size 720x288 with 1 Axes>"
            ]
          },
          "metadata": {
            "tags": []
          }
        }
      ]
    }
  ]
}