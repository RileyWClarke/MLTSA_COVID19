{
  "nbformat": 4,
  "nbformat_minor": 0,
  "metadata": {
    "colab": {
      "name": "covid19_dist.ipynb",
      "provenance": [],
      "authorship_tag": "ABX9TyOjTkYr/mb+U14mHAjX0D+i",
      "include_colab_link": true
    },
    "kernelspec": {
      "name": "python3",
      "display_name": "Python 3"
    }
  },
  "cells": [
    {
      "cell_type": "markdown",
      "metadata": {
        "id": "view-in-github",
        "colab_type": "text"
      },
      "source": [
        "<a href=\"https://colab.research.google.com/github/RileyWClarke/MLTSA_COVID19/blob/master/covid19_dist.ipynb\" target=\"_parent\"><img src=\"https://colab.research.google.com/assets/colab-badge.svg\" alt=\"Open In Colab\"/></a>"
      ]
    },
    {
      "cell_type": "code",
      "metadata": {
        "id": "J8fcBXu--82i",
        "colab_type": "code",
        "colab": {}
      },
      "source": [
        "from matplotlib import pyplot as plt\n",
        "import numpy as np\n",
        "import pandas as pd\n",
        "%matplotlib inline\n",
        "\n",
        "from fbprophet import Prophet\n",
        "import warnings\n",
        "warnings.filterwarnings(\"ignore\")\n",
        "\n",
        "from fbprophet import Prophet, diagnostics\n",
        "from fbprophet.diagnostics import cross_validation, performance_metrics\n",
        "from fbprophet.plot import plot_cross_validation_metric, add_changepoints_to_plot, plot_plotly"
      ],
      "execution_count": 0,
      "outputs": []
    },
    {
      "cell_type": "code",
      "metadata": {
        "id": "5zaMUa4B_Kq_",
        "colab_type": "code",
        "colab": {
          "base_uri": "https://localhost:8080/",
          "height": 122
        },
        "outputId": "142789a5-7e28-40f9-fd9e-67c3dcfdfbeb"
      },
      "source": [
        "from google.colab import drive\n",
        "\n",
        "drive.mount(\"/content/gdrive\")"
      ],
      "execution_count": 2,
      "outputs": [
        {
          "output_type": "stream",
          "text": [
            "Go to this URL in a browser: https://accounts.google.com/o/oauth2/auth?client_id=947318989803-6bn6qk8qdgf4n4g3pfee6491hc0brc4i.apps.googleusercontent.com&redirect_uri=urn%3aietf%3awg%3aoauth%3a2.0%3aoob&response_type=code&scope=email%20https%3a%2f%2fwww.googleapis.com%2fauth%2fdocs.test%20https%3a%2f%2fwww.googleapis.com%2fauth%2fdrive%20https%3a%2f%2fwww.googleapis.com%2fauth%2fdrive.photos.readonly%20https%3a%2f%2fwww.googleapis.com%2fauth%2fpeopleapi.readonly\n",
            "\n",
            "Enter your authorization code:\n",
            "··········\n",
            "Mounted at /content/gdrive\n"
          ],
          "name": "stdout"
        }
      ]
    },
    {
      "cell_type": "code",
      "metadata": {
        "id": "4UMbJkv1_dOR",
        "colab_type": "code",
        "colab": {
          "base_uri": "https://localhost:8080/",
          "height": 34
        },
        "outputId": "2c4edaef-3a27-4781-97a7-3c6d57cbf495"
      },
      "source": [
        "cd gdrive/Shared\\ drives/"
      ],
      "execution_count": 3,
      "outputs": [
        {
          "output_type": "stream",
          "text": [
            "/content/gdrive/Shared drives\n"
          ],
          "name": "stdout"
        }
      ]
    },
    {
      "cell_type": "code",
      "metadata": {
        "id": "WcSN20Pl_pL-",
        "colab_type": "code",
        "colab": {
          "base_uri": "https://localhost:8080/",
          "height": 34
        },
        "outputId": "3e68ab6c-7e83-442f-8d4b-357b632b0f2a"
      },
      "source": [
        "cd Covid19_project/"
      ],
      "execution_count": 4,
      "outputs": [
        {
          "output_type": "stream",
          "text": [
            "/content/gdrive/Shared drives/Covid19_project\n"
          ],
          "name": "stdout"
        }
      ]
    },
    {
      "cell_type": "code",
      "metadata": {
        "id": "-rXZi63T_r85",
        "colab_type": "code",
        "colab": {
          "base_uri": "https://localhost:8080/",
          "height": 34
        },
        "outputId": "eaa789e3-c983-4219-aace-069464a000f1"
      },
      "source": [
        "cd data_sets/"
      ],
      "execution_count": 6,
      "outputs": [
        {
          "output_type": "stream",
          "text": [
            "/content/gdrive/Shared drives/Covid19_project/data_sets\n"
          ],
          "name": "stdout"
        }
      ]
    },
    {
      "cell_type": "code",
      "metadata": {
        "id": "DvKo19FuACuP",
        "colab_type": "code",
        "colab": {
          "base_uri": "https://localhost:8080/",
          "height": 34
        },
        "outputId": "96f7af95-bb71-484e-a99b-00cb96c9e113"
      },
      "source": [
        "ls"
      ],
      "execution_count": 9,
      "outputs": [
        {
          "output_type": "stream",
          "text": [
            "\u001b[0m\u001b[01;34mglobal1\u001b[0m/  \u001b[01;34mskcv19_data\u001b[0m/  \u001b[01;34musa_1\u001b[0m/  \u001b[01;34mweather_sk\u001b[0m/\n"
          ],
          "name": "stdout"
        }
      ]
    },
    {
      "cell_type": "code",
      "metadata": {
        "id": "QXF_GxZx_x59",
        "colab_type": "code",
        "colab": {}
      },
      "source": [
        "us_state = pd.read_csv('usa_1/us_states_covid19_daily.csv') \n",
        "skorea = pd.read_csv('skcv19_data/Time.csv') "
      ],
      "execution_count": 0,
      "outputs": []
    },
    {
      "cell_type": "code",
      "metadata": {
        "id": "tYuiqVx0_8Z9",
        "colab_type": "code",
        "colab": {
          "base_uri": "https://localhost:8080/",
          "height": 309
        },
        "outputId": "96487d49-5060-43a0-9d5a-6f5dde3e84a8"
      },
      "source": [
        "us_state.head()"
      ],
      "execution_count": 11,
      "outputs": [
        {
          "output_type": "execute_result",
          "data": {
            "text/html": [
              "<div>\n",
              "<style scoped>\n",
              "    .dataframe tbody tr th:only-of-type {\n",
              "        vertical-align: middle;\n",
              "    }\n",
              "\n",
              "    .dataframe tbody tr th {\n",
              "        vertical-align: top;\n",
              "    }\n",
              "\n",
              "    .dataframe thead th {\n",
              "        text-align: right;\n",
              "    }\n",
              "</style>\n",
              "<table border=\"1\" class=\"dataframe\">\n",
              "  <thead>\n",
              "    <tr style=\"text-align: right;\">\n",
              "      <th></th>\n",
              "      <th>date</th>\n",
              "      <th>state</th>\n",
              "      <th>positive</th>\n",
              "      <th>negative</th>\n",
              "      <th>pending</th>\n",
              "      <th>hospitalizedCurrently</th>\n",
              "      <th>hospitalizedCumulative</th>\n",
              "      <th>inIcuCurrently</th>\n",
              "      <th>inIcuCumulative</th>\n",
              "      <th>onVentilatorCurrently</th>\n",
              "      <th>onVentilatorCumulative</th>\n",
              "      <th>recovered</th>\n",
              "      <th>hash</th>\n",
              "      <th>dateChecked</th>\n",
              "      <th>death</th>\n",
              "      <th>hospitalized</th>\n",
              "      <th>total</th>\n",
              "      <th>totalTestResults</th>\n",
              "      <th>posNeg</th>\n",
              "      <th>fips</th>\n",
              "      <th>deathIncrease</th>\n",
              "      <th>hospitalizedIncrease</th>\n",
              "      <th>negativeIncrease</th>\n",
              "      <th>positiveIncrease</th>\n",
              "      <th>totalTestResultsIncrease</th>\n",
              "    </tr>\n",
              "  </thead>\n",
              "  <tbody>\n",
              "    <tr>\n",
              "      <th>0</th>\n",
              "      <td>20200430</td>\n",
              "      <td>AK</td>\n",
              "      <td>355.0</td>\n",
              "      <td>18764.0</td>\n",
              "      <td>NaN</td>\n",
              "      <td>19.0</td>\n",
              "      <td>NaN</td>\n",
              "      <td>NaN</td>\n",
              "      <td>NaN</td>\n",
              "      <td>NaN</td>\n",
              "      <td>NaN</td>\n",
              "      <td>252.0</td>\n",
              "      <td>78605f774dcba587c8b24512354a3830ef3b5e4f</td>\n",
              "      <td>2020-04-30T20:00:00Z</td>\n",
              "      <td>9.0</td>\n",
              "      <td>NaN</td>\n",
              "      <td>19119.0</td>\n",
              "      <td>19119.0</td>\n",
              "      <td>19119.0</td>\n",
              "      <td>2</td>\n",
              "      <td>0.0</td>\n",
              "      <td>0.0</td>\n",
              "      <td>0.0</td>\n",
              "      <td>0.0</td>\n",
              "      <td>0.0</td>\n",
              "    </tr>\n",
              "    <tr>\n",
              "      <th>1</th>\n",
              "      <td>20200430</td>\n",
              "      <td>AL</td>\n",
              "      <td>7019.0</td>\n",
              "      <td>80177.0</td>\n",
              "      <td>NaN</td>\n",
              "      <td>NaN</td>\n",
              "      <td>978.0</td>\n",
              "      <td>NaN</td>\n",
              "      <td>335.0</td>\n",
              "      <td>NaN</td>\n",
              "      <td>195.0</td>\n",
              "      <td>NaN</td>\n",
              "      <td>47546b95299bd673c18e27d5284d7ba75b362464</td>\n",
              "      <td>2020-04-30T20:00:00Z</td>\n",
              "      <td>269.0</td>\n",
              "      <td>978.0</td>\n",
              "      <td>87196.0</td>\n",
              "      <td>87196.0</td>\n",
              "      <td>87196.0</td>\n",
              "      <td>1</td>\n",
              "      <td>24.0</td>\n",
              "      <td>33.0</td>\n",
              "      <td>6570.0</td>\n",
              "      <td>177.0</td>\n",
              "      <td>6747.0</td>\n",
              "    </tr>\n",
              "    <tr>\n",
              "      <th>2</th>\n",
              "      <td>20200430</td>\n",
              "      <td>AR</td>\n",
              "      <td>3255.0</td>\n",
              "      <td>45124.0</td>\n",
              "      <td>NaN</td>\n",
              "      <td>95.0</td>\n",
              "      <td>402.0</td>\n",
              "      <td>NaN</td>\n",
              "      <td>NaN</td>\n",
              "      <td>23.0</td>\n",
              "      <td>85.0</td>\n",
              "      <td>1305.0</td>\n",
              "      <td>8f880ed4454e1fc3bbeff4b0655314f8878cbe22</td>\n",
              "      <td>2020-04-30T20:00:00Z</td>\n",
              "      <td>61.0</td>\n",
              "      <td>402.0</td>\n",
              "      <td>48379.0</td>\n",
              "      <td>48379.0</td>\n",
              "      <td>48379.0</td>\n",
              "      <td>5</td>\n",
              "      <td>2.0</td>\n",
              "      <td>13.0</td>\n",
              "      <td>2867.0</td>\n",
              "      <td>63.0</td>\n",
              "      <td>2930.0</td>\n",
              "    </tr>\n",
              "    <tr>\n",
              "      <th>3</th>\n",
              "      <td>20200430</td>\n",
              "      <td>AS</td>\n",
              "      <td>0.0</td>\n",
              "      <td>3.0</td>\n",
              "      <td>17.0</td>\n",
              "      <td>NaN</td>\n",
              "      <td>NaN</td>\n",
              "      <td>NaN</td>\n",
              "      <td>NaN</td>\n",
              "      <td>NaN</td>\n",
              "      <td>NaN</td>\n",
              "      <td>NaN</td>\n",
              "      <td>14c16072106c6d59a534dfcbd590ca14f42e4a7f</td>\n",
              "      <td>2020-04-30T20:00:00Z</td>\n",
              "      <td>0.0</td>\n",
              "      <td>NaN</td>\n",
              "      <td>20.0</td>\n",
              "      <td>3.0</td>\n",
              "      <td>3.0</td>\n",
              "      <td>60</td>\n",
              "      <td>0.0</td>\n",
              "      <td>0.0</td>\n",
              "      <td>0.0</td>\n",
              "      <td>0.0</td>\n",
              "      <td>0.0</td>\n",
              "    </tr>\n",
              "    <tr>\n",
              "      <th>4</th>\n",
              "      <td>20200430</td>\n",
              "      <td>AZ</td>\n",
              "      <td>7648.0</td>\n",
              "      <td>64138.0</td>\n",
              "      <td>NaN</td>\n",
              "      <td>755.0</td>\n",
              "      <td>1169.0</td>\n",
              "      <td>311.0</td>\n",
              "      <td>NaN</td>\n",
              "      <td>194.0</td>\n",
              "      <td>NaN</td>\n",
              "      <td>1499.0</td>\n",
              "      <td>eb3be7d08e6c0e46e5aa79eb92b2da29f2e6dc13</td>\n",
              "      <td>2020-04-30T20:00:00Z</td>\n",
              "      <td>320.0</td>\n",
              "      <td>1169.0</td>\n",
              "      <td>71786.0</td>\n",
              "      <td>71786.0</td>\n",
              "      <td>71786.0</td>\n",
              "      <td>4</td>\n",
              "      <td>16.0</td>\n",
              "      <td>38.0</td>\n",
              "      <td>2527.0</td>\n",
              "      <td>446.0</td>\n",
              "      <td>2973.0</td>\n",
              "    </tr>\n",
              "  </tbody>\n",
              "</table>\n",
              "</div>"
            ],
            "text/plain": [
              "       date state  ...  positiveIncrease  totalTestResultsIncrease\n",
              "0  20200430    AK  ...               0.0                       0.0\n",
              "1  20200430    AL  ...             177.0                    6747.0\n",
              "2  20200430    AR  ...              63.0                    2930.0\n",
              "3  20200430    AS  ...               0.0                       0.0\n",
              "4  20200430    AZ  ...             446.0                    2973.0\n",
              "\n",
              "[5 rows x 25 columns]"
            ]
          },
          "metadata": {
            "tags": []
          },
          "execution_count": 11
        }
      ]
    },
    {
      "cell_type": "code",
      "metadata": {
        "id": "iP28Vzi5FaVd",
        "colab_type": "code",
        "colab": {
          "base_uri": "https://localhost:8080/",
          "height": 119
        },
        "outputId": "e8829677-a839-462d-a8c1-7cc4878b8b4c"
      },
      "source": [
        "us_state['state'].unique()"
      ],
      "execution_count": 26,
      "outputs": [
        {
          "output_type": "execute_result",
          "data": {
            "text/plain": [
              "array(['AK', 'AL', 'AR', 'AS', 'AZ', 'CA', 'CO', 'CT', 'DC', 'DE', 'FL',\n",
              "       'GA', 'GU', 'HI', 'IA', 'ID', 'IL', 'IN', 'KS', 'KY', 'LA', 'MA',\n",
              "       'MD', 'ME', 'MI', 'MN', 'MO', 'MP', 'MS', 'MT', 'NC', 'ND', 'NE',\n",
              "       'NH', 'NJ', 'NM', 'NV', 'NY', 'OH', 'OK', 'OR', 'PA', 'PR', 'RI',\n",
              "       'SC', 'SD', 'TN', 'TX', 'UT', 'VA', 'VI', 'VT', 'WA', 'WI', 'WV',\n",
              "       'WY'], dtype=object)"
            ]
          },
          "metadata": {
            "tags": []
          },
          "execution_count": 26
        }
      ]
    },
    {
      "cell_type": "code",
      "metadata": {
        "id": "uKQryUX9BSlo",
        "colab_type": "code",
        "colab": {
          "base_uri": "https://localhost:8080/",
          "height": 204
        },
        "outputId": "6afd4bb9-f56b-4c8b-c9d2-5f13cbd933f7"
      },
      "source": [
        "skorea.head()"
      ],
      "execution_count": 12,
      "outputs": [
        {
          "output_type": "execute_result",
          "data": {
            "text/html": [
              "<div>\n",
              "<style scoped>\n",
              "    .dataframe tbody tr th:only-of-type {\n",
              "        vertical-align: middle;\n",
              "    }\n",
              "\n",
              "    .dataframe tbody tr th {\n",
              "        vertical-align: top;\n",
              "    }\n",
              "\n",
              "    .dataframe thead th {\n",
              "        text-align: right;\n",
              "    }\n",
              "</style>\n",
              "<table border=\"1\" class=\"dataframe\">\n",
              "  <thead>\n",
              "    <tr style=\"text-align: right;\">\n",
              "      <th></th>\n",
              "      <th>date</th>\n",
              "      <th>time</th>\n",
              "      <th>test</th>\n",
              "      <th>negative</th>\n",
              "      <th>confirmed</th>\n",
              "      <th>released</th>\n",
              "      <th>deceased</th>\n",
              "    </tr>\n",
              "  </thead>\n",
              "  <tbody>\n",
              "    <tr>\n",
              "      <th>0</th>\n",
              "      <td>2020-01-20</td>\n",
              "      <td>16</td>\n",
              "      <td>1</td>\n",
              "      <td>0</td>\n",
              "      <td>1</td>\n",
              "      <td>0</td>\n",
              "      <td>0</td>\n",
              "    </tr>\n",
              "    <tr>\n",
              "      <th>1</th>\n",
              "      <td>2020-01-21</td>\n",
              "      <td>16</td>\n",
              "      <td>1</td>\n",
              "      <td>0</td>\n",
              "      <td>1</td>\n",
              "      <td>0</td>\n",
              "      <td>0</td>\n",
              "    </tr>\n",
              "    <tr>\n",
              "      <th>2</th>\n",
              "      <td>2020-01-22</td>\n",
              "      <td>16</td>\n",
              "      <td>4</td>\n",
              "      <td>3</td>\n",
              "      <td>1</td>\n",
              "      <td>0</td>\n",
              "      <td>0</td>\n",
              "    </tr>\n",
              "    <tr>\n",
              "      <th>3</th>\n",
              "      <td>2020-01-23</td>\n",
              "      <td>16</td>\n",
              "      <td>22</td>\n",
              "      <td>21</td>\n",
              "      <td>1</td>\n",
              "      <td>0</td>\n",
              "      <td>0</td>\n",
              "    </tr>\n",
              "    <tr>\n",
              "      <th>4</th>\n",
              "      <td>2020-01-24</td>\n",
              "      <td>16</td>\n",
              "      <td>27</td>\n",
              "      <td>25</td>\n",
              "      <td>2</td>\n",
              "      <td>0</td>\n",
              "      <td>0</td>\n",
              "    </tr>\n",
              "  </tbody>\n",
              "</table>\n",
              "</div>"
            ],
            "text/plain": [
              "         date  time  test  negative  confirmed  released  deceased\n",
              "0  2020-01-20    16     1         0          1         0         0\n",
              "1  2020-01-21    16     1         0          1         0         0\n",
              "2  2020-01-22    16     4         3          1         0         0\n",
              "3  2020-01-23    16    22        21          1         0         0\n",
              "4  2020-01-24    16    27        25          2         0         0"
            ]
          },
          "metadata": {
            "tags": []
          },
          "execution_count": 12
        }
      ]
    },
    {
      "cell_type": "code",
      "metadata": {
        "id": "UEBEphcxBUhy",
        "colab_type": "code",
        "colab": {
          "base_uri": "https://localhost:8080/",
          "height": 419
        },
        "outputId": "cfe4c25e-98af-4218-a55a-5b37dbdc2fb1"
      },
      "source": [
        "skorea_d10 = skorea.loc[skorea['deceased'] >= 10]\n",
        "skorea_d10"
      ],
      "execution_count": 18,
      "outputs": [
        {
          "output_type": "execute_result",
          "data": {
            "text/html": [
              "<div>\n",
              "<style scoped>\n",
              "    .dataframe tbody tr th:only-of-type {\n",
              "        vertical-align: middle;\n",
              "    }\n",
              "\n",
              "    .dataframe tbody tr th {\n",
              "        vertical-align: top;\n",
              "    }\n",
              "\n",
              "    .dataframe thead th {\n",
              "        text-align: right;\n",
              "    }\n",
              "</style>\n",
              "<table border=\"1\" class=\"dataframe\">\n",
              "  <thead>\n",
              "    <tr style=\"text-align: right;\">\n",
              "      <th></th>\n",
              "      <th>date</th>\n",
              "      <th>time</th>\n",
              "      <th>test</th>\n",
              "      <th>negative</th>\n",
              "      <th>confirmed</th>\n",
              "      <th>released</th>\n",
              "      <th>deceased</th>\n",
              "    </tr>\n",
              "  </thead>\n",
              "  <tbody>\n",
              "    <tr>\n",
              "      <th>36</th>\n",
              "      <td>2020-02-25</td>\n",
              "      <td>16</td>\n",
              "      <td>40304</td>\n",
              "      <td>25447</td>\n",
              "      <td>977</td>\n",
              "      <td>24</td>\n",
              "      <td>12</td>\n",
              "    </tr>\n",
              "    <tr>\n",
              "      <th>37</th>\n",
              "      <td>2020-02-26</td>\n",
              "      <td>16</td>\n",
              "      <td>53553</td>\n",
              "      <td>31576</td>\n",
              "      <td>1261</td>\n",
              "      <td>24</td>\n",
              "      <td>12</td>\n",
              "    </tr>\n",
              "    <tr>\n",
              "      <th>38</th>\n",
              "      <td>2020-02-27</td>\n",
              "      <td>16</td>\n",
              "      <td>66652</td>\n",
              "      <td>39318</td>\n",
              "      <td>1766</td>\n",
              "      <td>26</td>\n",
              "      <td>13</td>\n",
              "    </tr>\n",
              "    <tr>\n",
              "      <th>39</th>\n",
              "      <td>2020-02-28</td>\n",
              "      <td>16</td>\n",
              "      <td>81167</td>\n",
              "      <td>48593</td>\n",
              "      <td>2337</td>\n",
              "      <td>27</td>\n",
              "      <td>13</td>\n",
              "    </tr>\n",
              "    <tr>\n",
              "      <th>40</th>\n",
              "      <td>2020-02-29</td>\n",
              "      <td>16</td>\n",
              "      <td>94055</td>\n",
              "      <td>55723</td>\n",
              "      <td>3150</td>\n",
              "      <td>28</td>\n",
              "      <td>17</td>\n",
              "    </tr>\n",
              "    <tr>\n",
              "      <th>...</th>\n",
              "      <td>...</td>\n",
              "      <td>...</td>\n",
              "      <td>...</td>\n",
              "      <td>...</td>\n",
              "      <td>...</td>\n",
              "      <td>...</td>\n",
              "      <td>...</td>\n",
              "    </tr>\n",
              "    <tr>\n",
              "      <th>97</th>\n",
              "      <td>2020-04-26</td>\n",
              "      <td>0</td>\n",
              "      <td>598285</td>\n",
              "      <td>578558</td>\n",
              "      <td>10728</td>\n",
              "      <td>8717</td>\n",
              "      <td>242</td>\n",
              "    </tr>\n",
              "    <tr>\n",
              "      <th>98</th>\n",
              "      <td>2020-04-27</td>\n",
              "      <td>0</td>\n",
              "      <td>601660</td>\n",
              "      <td>582027</td>\n",
              "      <td>10738</td>\n",
              "      <td>8764</td>\n",
              "      <td>243</td>\n",
              "    </tr>\n",
              "    <tr>\n",
              "      <th>99</th>\n",
              "      <td>2020-04-28</td>\n",
              "      <td>0</td>\n",
              "      <td>608514</td>\n",
              "      <td>588559</td>\n",
              "      <td>10752</td>\n",
              "      <td>8854</td>\n",
              "      <td>244</td>\n",
              "    </tr>\n",
              "    <tr>\n",
              "      <th>100</th>\n",
              "      <td>2020-04-29</td>\n",
              "      <td>0</td>\n",
              "      <td>614197</td>\n",
              "      <td>595129</td>\n",
              "      <td>10761</td>\n",
              "      <td>8922</td>\n",
              "      <td>246</td>\n",
              "    </tr>\n",
              "    <tr>\n",
              "      <th>101</th>\n",
              "      <td>2020-04-30</td>\n",
              "      <td>0</td>\n",
              "      <td>619881</td>\n",
              "      <td>600482</td>\n",
              "      <td>10765</td>\n",
              "      <td>9059</td>\n",
              "      <td>247</td>\n",
              "    </tr>\n",
              "  </tbody>\n",
              "</table>\n",
              "<p>66 rows × 7 columns</p>\n",
              "</div>"
            ],
            "text/plain": [
              "           date  time    test  negative  confirmed  released  deceased\n",
              "36   2020-02-25    16   40304     25447        977        24        12\n",
              "37   2020-02-26    16   53553     31576       1261        24        12\n",
              "38   2020-02-27    16   66652     39318       1766        26        13\n",
              "39   2020-02-28    16   81167     48593       2337        27        13\n",
              "40   2020-02-29    16   94055     55723       3150        28        17\n",
              "..          ...   ...     ...       ...        ...       ...       ...\n",
              "97   2020-04-26     0  598285    578558      10728      8717       242\n",
              "98   2020-04-27     0  601660    582027      10738      8764       243\n",
              "99   2020-04-28     0  608514    588559      10752      8854       244\n",
              "100  2020-04-29     0  614197    595129      10761      8922       246\n",
              "101  2020-04-30     0  619881    600482      10765      9059       247\n",
              "\n",
              "[66 rows x 7 columns]"
            ]
          },
          "metadata": {
            "tags": []
          },
          "execution_count": 18
        }
      ]
    },
    {
      "cell_type": "code",
      "metadata": {
        "id": "nIfgjx8wBiQX",
        "colab_type": "code",
        "colab": {
          "base_uri": "https://localhost:8080/",
          "height": 419
        },
        "outputId": "d14a7550-eb70-4088-b2ea-c0d52720c0cd"
      },
      "source": [
        "d10 = np.arange(0,len(skorea_d10),1)\n",
        "skorea_d10['d10'] = d10\n",
        "skorea_d10"
      ],
      "execution_count": 20,
      "outputs": [
        {
          "output_type": "execute_result",
          "data": {
            "text/html": [
              "<div>\n",
              "<style scoped>\n",
              "    .dataframe tbody tr th:only-of-type {\n",
              "        vertical-align: middle;\n",
              "    }\n",
              "\n",
              "    .dataframe tbody tr th {\n",
              "        vertical-align: top;\n",
              "    }\n",
              "\n",
              "    .dataframe thead th {\n",
              "        text-align: right;\n",
              "    }\n",
              "</style>\n",
              "<table border=\"1\" class=\"dataframe\">\n",
              "  <thead>\n",
              "    <tr style=\"text-align: right;\">\n",
              "      <th></th>\n",
              "      <th>date</th>\n",
              "      <th>time</th>\n",
              "      <th>test</th>\n",
              "      <th>negative</th>\n",
              "      <th>confirmed</th>\n",
              "      <th>released</th>\n",
              "      <th>deceased</th>\n",
              "      <th>d10</th>\n",
              "    </tr>\n",
              "  </thead>\n",
              "  <tbody>\n",
              "    <tr>\n",
              "      <th>36</th>\n",
              "      <td>2020-02-25</td>\n",
              "      <td>16</td>\n",
              "      <td>40304</td>\n",
              "      <td>25447</td>\n",
              "      <td>977</td>\n",
              "      <td>24</td>\n",
              "      <td>12</td>\n",
              "      <td>0</td>\n",
              "    </tr>\n",
              "    <tr>\n",
              "      <th>37</th>\n",
              "      <td>2020-02-26</td>\n",
              "      <td>16</td>\n",
              "      <td>53553</td>\n",
              "      <td>31576</td>\n",
              "      <td>1261</td>\n",
              "      <td>24</td>\n",
              "      <td>12</td>\n",
              "      <td>1</td>\n",
              "    </tr>\n",
              "    <tr>\n",
              "      <th>38</th>\n",
              "      <td>2020-02-27</td>\n",
              "      <td>16</td>\n",
              "      <td>66652</td>\n",
              "      <td>39318</td>\n",
              "      <td>1766</td>\n",
              "      <td>26</td>\n",
              "      <td>13</td>\n",
              "      <td>2</td>\n",
              "    </tr>\n",
              "    <tr>\n",
              "      <th>39</th>\n",
              "      <td>2020-02-28</td>\n",
              "      <td>16</td>\n",
              "      <td>81167</td>\n",
              "      <td>48593</td>\n",
              "      <td>2337</td>\n",
              "      <td>27</td>\n",
              "      <td>13</td>\n",
              "      <td>3</td>\n",
              "    </tr>\n",
              "    <tr>\n",
              "      <th>40</th>\n",
              "      <td>2020-02-29</td>\n",
              "      <td>16</td>\n",
              "      <td>94055</td>\n",
              "      <td>55723</td>\n",
              "      <td>3150</td>\n",
              "      <td>28</td>\n",
              "      <td>17</td>\n",
              "      <td>4</td>\n",
              "    </tr>\n",
              "    <tr>\n",
              "      <th>...</th>\n",
              "      <td>...</td>\n",
              "      <td>...</td>\n",
              "      <td>...</td>\n",
              "      <td>...</td>\n",
              "      <td>...</td>\n",
              "      <td>...</td>\n",
              "      <td>...</td>\n",
              "      <td>...</td>\n",
              "    </tr>\n",
              "    <tr>\n",
              "      <th>97</th>\n",
              "      <td>2020-04-26</td>\n",
              "      <td>0</td>\n",
              "      <td>598285</td>\n",
              "      <td>578558</td>\n",
              "      <td>10728</td>\n",
              "      <td>8717</td>\n",
              "      <td>242</td>\n",
              "      <td>61</td>\n",
              "    </tr>\n",
              "    <tr>\n",
              "      <th>98</th>\n",
              "      <td>2020-04-27</td>\n",
              "      <td>0</td>\n",
              "      <td>601660</td>\n",
              "      <td>582027</td>\n",
              "      <td>10738</td>\n",
              "      <td>8764</td>\n",
              "      <td>243</td>\n",
              "      <td>62</td>\n",
              "    </tr>\n",
              "    <tr>\n",
              "      <th>99</th>\n",
              "      <td>2020-04-28</td>\n",
              "      <td>0</td>\n",
              "      <td>608514</td>\n",
              "      <td>588559</td>\n",
              "      <td>10752</td>\n",
              "      <td>8854</td>\n",
              "      <td>244</td>\n",
              "      <td>63</td>\n",
              "    </tr>\n",
              "    <tr>\n",
              "      <th>100</th>\n",
              "      <td>2020-04-29</td>\n",
              "      <td>0</td>\n",
              "      <td>614197</td>\n",
              "      <td>595129</td>\n",
              "      <td>10761</td>\n",
              "      <td>8922</td>\n",
              "      <td>246</td>\n",
              "      <td>64</td>\n",
              "    </tr>\n",
              "    <tr>\n",
              "      <th>101</th>\n",
              "      <td>2020-04-30</td>\n",
              "      <td>0</td>\n",
              "      <td>619881</td>\n",
              "      <td>600482</td>\n",
              "      <td>10765</td>\n",
              "      <td>9059</td>\n",
              "      <td>247</td>\n",
              "      <td>65</td>\n",
              "    </tr>\n",
              "  </tbody>\n",
              "</table>\n",
              "<p>66 rows × 8 columns</p>\n",
              "</div>"
            ],
            "text/plain": [
              "           date  time    test  negative  confirmed  released  deceased  d10\n",
              "36   2020-02-25    16   40304     25447        977        24        12    0\n",
              "37   2020-02-26    16   53553     31576       1261        24        12    1\n",
              "38   2020-02-27    16   66652     39318       1766        26        13    2\n",
              "39   2020-02-28    16   81167     48593       2337        27        13    3\n",
              "40   2020-02-29    16   94055     55723       3150        28        17    4\n",
              "..          ...   ...     ...       ...        ...       ...       ...  ...\n",
              "97   2020-04-26     0  598285    578558      10728      8717       242   61\n",
              "98   2020-04-27     0  601660    582027      10738      8764       243   62\n",
              "99   2020-04-28     0  608514    588559      10752      8854       244   63\n",
              "100  2020-04-29     0  614197    595129      10761      8922       246   64\n",
              "101  2020-04-30     0  619881    600482      10765      9059       247   65\n",
              "\n",
              "[66 rows x 8 columns]"
            ]
          },
          "metadata": {
            "tags": []
          },
          "execution_count": 20
        }
      ]
    },
    {
      "cell_type": "code",
      "metadata": {
        "id": "zZxTL6xjC5X5",
        "colab_type": "code",
        "colab": {
          "base_uri": "https://localhost:8080/",
          "height": 296
        },
        "outputId": "a2b16e82-0e8e-46d6-e902-1d92e7d99b9f"
      },
      "source": [
        "plt.plot(skorea_d10['d10'], skorea_d10['deceased'])\n",
        "plt.xlabel('Days since <10 deaths')\n",
        "plt.ylabel('Deaths')"
      ],
      "execution_count": 28,
      "outputs": [
        {
          "output_type": "execute_result",
          "data": {
            "text/plain": [
              "Text(0, 0.5, 'Deaths')"
            ]
          },
          "metadata": {
            "tags": []
          },
          "execution_count": 28
        },
        {
          "output_type": "display_data",
          "data": {
            "image/png": "[encoded data removed]",
            "text/plain": [
              "<Figure size 432x288 with 1 Axes>"
            ]
          },
          "metadata": {
            "tags": [],
            "needs_background": "light"
          }
        }
      ]
    },
    {
      "cell_type": "code",
      "metadata": {
        "id": "D1XO-f9bDHhA",
        "colab_type": "code",
        "colab": {}
      },
      "source": [
        "states = ['CA', 'NY', 'DC']\n",
        "\n",
        "us_CA = us_state.loc[(us_state['state'] == 'CA') & (us_state['death'] >= 10)][['date', 'state', 'death']]\n",
        "us_NY = us_state.loc[(us_state['state'] == 'NY') & (us_state['death'] >= 10)][['date', 'state', 'death']]\n",
        "us_DC = us_state.loc[(us_state['state'] == 'DC') & (us_state['death'] >= 10)][['date', 'state', 'death']]\n",
        "us_NE = us_state.loc[(us_state['state'] == 'NE') & (us_state['death'] >= 10)][['date', 'state', 'death']]\n",
        "us_FL = us_state.loc[(us_state['state'] == 'FL') & (us_state['death'] >= 10)][['date', 'state', 'death']]\n",
        "\n",
        "\n",
        "us_CA['d10'] = np.arange(0,len(us_CA),1)\n",
        "us_NY['d10'] = np.arange(0,len(us_NY),1)\n",
        "us_DC['d10'] = np.arange(0,len(us_DC),1)\n",
        "us_NE['d10'] = np.arange(0,len(us_NE),1)\n",
        "us_FL['d10'] = np.arange(0,len(us_FL),1)"
      ],
      "execution_count": 0,
      "outputs": []
    },
    {
      "cell_type": "code",
      "metadata": {
        "id": "CNM2OLLsOFsC",
        "colab_type": "code",
        "colab": {
          "base_uri": "https://localhost:8080/",
          "height": 279
        },
        "outputId": "c871ab92-c42e-48b9-d0ff-0501f0806670"
      },
      "source": [
        "plt.plot(us_CA['d10'], us_CA['death'][::-1], label='CA')\n",
        "plt.plot(us_NY['d10'], us_NY['death'][::-1], label='NY')\n",
        "plt.plot(us_DC['d10'], us_DC['death'][::-1], label='DC')\n",
        "plt.plot(us_NE['d10'], us_NE['death'][::-1], label='NE')\n",
        "plt.plot(us_FL['d10'], us_FL['death'][::-1], label='FL')\n",
        "plt.yscale('log')\n",
        "plt.xlabel('Days since <10 deaths')\n",
        "plt.ylabel('Deaths')\n",
        "plt.legend();"
      ],
      "execution_count": 79,
      "outputs": [
        {
          "output_type": "display_data",
          "data": {
            "image/png": "[encoded data removed]",
            "text/plain": [
              "<Figure size 432x288 with 1 Axes>"
            ]
          },
          "metadata": {
            "tags": [],
            "needs_background": "light"
          }
        }
      ]
    },
    {
      "cell_type": "code",
      "metadata": {
        "id": "NFg8aqeTQIyf",
        "colab_type": "code",
        "colab": {
          "base_uri": "https://localhost:8080/",
          "height": 1000
        },
        "outputId": "41b7a25a-7ea0-4a6f-9b76-138480b76f95"
      },
      "source": [
        "plt.plot(us_CA['d10'], us_CA['death'][::-1], label='CA')\n",
        "plt.plot(skorea_d10['d10'], skorea_d10['deceased'], label='SK')\n",
        "plt.yscale('log')\n",
        "plt.xlabel('Days since <10 deaths')\n",
        "plt.ylabel('Deaths')\n",
        "plt.legend()\n",
        "plt.show()\n",
        "\n",
        "plt.plot(us_NY['d10'], us_NY['death'][::-1], label='NY')\n",
        "plt.plot(skorea_d10['d10'], skorea_d10['deceased'], label='SK')\n",
        "plt.yscale('log')\n",
        "plt.xlabel('Days since <10 deaths')\n",
        "plt.ylabel('Deaths')\n",
        "plt.legend()\n",
        "plt.show()\n",
        "\n",
        "plt.plot(us_DC['d10'], us_DC['death'][::-1], label='DC')\n",
        "plt.plot(skorea_d10['d10'], skorea_d10['deceased'], label='SK')\n",
        "plt.yscale('log')\n",
        "plt.xlabel('Days since <10 deaths')\n",
        "plt.ylabel('Deaths')\n",
        "plt.legend()\n",
        "plt.show()\n",
        "\n",
        "plt.plot(us_FL['d10'], us_FL['death'][::-1], label='FL')\n",
        "plt.plot(skorea_d10['d10'], skorea_d10['deceased'], label='SK')\n",
        "plt.yscale('log')\n",
        "plt.xlabel('Days since <10 deaths')\n",
        "plt.ylabel('Deaths')\n",
        "plt.legend()\n",
        "plt.show()\n",
        "\n",
        "plt.plot(us_NE['d10'], us_NE['death'][::-1], label='NE')\n",
        "plt.plot(skorea_d10['d10'], skorea_d10['deceased'], label='SK')\n",
        "plt.yscale('log')\n",
        "plt.xlabel('Days since <10 deaths')\n",
        "plt.ylabel('Deaths')\n",
        "plt.legend()\n",
        "plt.show()"
      ],
      "execution_count": 80,
      "outputs": [
        {
          "output_type": "display_data",
          "data": {
            "image/png": "[encoded data removed]",
            "text/plain": [
              "<Figure size 432x288 with 1 Axes>"
            ]
          },
          "metadata": {
            "tags": [],
            "needs_background": "light"
          }
        },
        {
          "output_type": "display_data",
          "data": {
            "image/png": "[encoded data removed]",
            "text/plain": [
              "<Figure size 432x288 with 1 Axes>"
            ]
          },
          "metadata": {
            "tags": [],
            "needs_background": "light"
          }
        },
        {
          "output_type": "display_data",
          "data": {
            "image/png": "[encoded data removed]",
            "text/plain": [
              "<Figure size 432x288 with 1 Axes>"
            ]
          },
          "metadata": {
            "tags": [],
            "needs_background": "light"
          }
        },
        {
          "output_type": "display_data",
          "data": {
            "image/png": "[encoded data removed]",
            "text/plain": [
              "<Figure size 432x288 with 1 Axes>"
            ]
          },
          "metadata": {
            "tags": [],
            "needs_background": "light"
          }
        },
        {
          "output_type": "display_data",
          "data": {
            "image/png": "[encoded data removed]",
            "text/plain": [
              "<Figure size 432x288 with 1 Axes>"
            ]
          },
          "metadata": {
            "tags": [],
            "needs_background": "light"
          }
        }
      ]
    },
    {
      "cell_type": "code",
      "metadata": {
        "id": "aKet64EbRg8G",
        "colab_type": "code",
        "colab": {
          "base_uri": "https://localhost:8080/",
          "height": 34
        },
        "outputId": "de1c70fe-cc5c-47ae-9c64-befd32a3d71c"
      },
      "source": [
        "from scipy.spatial.distance import minkowski\n",
        "print(\n",
        "minkowski(us_CA['death'],skorea_d10['deceased'][:len(us_CA['death'])], p=2),\n",
        "minkowski(us_NY['death'],skorea_d10['deceased'][:len(us_NY['death'])], p=2),\n",
        "minkowski(us_DC['death'],skorea_d10['deceased'][:len(us_DC['death'])], p=2),\n",
        "minkowski(us_NE['death'],skorea_d10['deceased'][:len(us_NE['death'])], p=2),\n",
        "minkowski(us_FL['death'],skorea_d10['deceased'][:len(us_FL['death'])], p=2)\n",
        ")"
      ],
      "execution_count": 90,
      "outputs": [
        {
          "output_type": "stream",
          "text": [
            "5933.6704492244935 66557.54894074751 557.7302215229151 217.81873197684354 3895.3895825706572\n"
          ],
          "name": "stdout"
        }
      ]
    },
    {
      "cell_type": "code",
      "metadata": {
        "id": "uA_4lWy3fXz1",
        "colab_type": "code",
        "colab": {
          "base_uri": "https://localhost:8080/",
          "height": 34
        },
        "outputId": "22ba6371-f316-4317-ef40-cbf8529a7a44"
      },
      "source": [
        "print(\n",
        "minkowski(us_CA['death'],skorea_d10['deceased'][:len(us_CA['death'])], p=1),\n",
        "minkowski(us_NY['death'],skorea_d10['deceased'][:len(us_NY['death'])], p=1),\n",
        "minkowski(us_DC['death'],skorea_d10['deceased'][:len(us_DC['death'])], p=1),\n",
        "minkowski(us_NE['death'],skorea_d10['deceased'][:len(us_NE['death'])], p=1),\n",
        "minkowski(us_FL['death'],skorea_d10['deceased'][:len(us_FL['death'])], p=1)\n",
        ")"
      ],
      "execution_count": 94,
      "outputs": [
        {
          "output_type": "stream",
          "text": [
            "28615.0 334003.0 2535.0 949.0 19166.0\n"
          ],
          "name": "stdout"
        }
      ]
    },
    {
      "cell_type": "code",
      "metadata": {
        "id": "iOoa5f4jUj97",
        "colab_type": "code",
        "colab": {
          "base_uri": "https://localhost:8080/",
          "height": 54
        },
        "outputId": "396b2000-d510-4fd9-de35-67b0e99fa63e"
      },
      "source": [
        "from scipy.stats import pearsonr\n",
        "print(\n",
        "pearsonr(us_CA['death'],skorea_d10['deceased'][:len(us_CA['death'])]),\n",
        "pearsonr(us_NY['death'],skorea_d10['deceased'][:len(us_NY['death'])]),\n",
        "pearsonr(us_DC['death'],skorea_d10['deceased'][:len(us_DC['death'])]),\n",
        "pearsonr(us_NE['death'],skorea_d10['deceased'][:len(us_NE['death'])]),\n",
        "pearsonr(us_FL['death'],skorea_d10['deceased'][:len(us_FL['death'])])\n",
        ")"
      ],
      "execution_count": 93,
      "outputs": [
        {
          "output_type": "stream",
          "text": [
            "(-0.9243100406653758, 1.3380396402939558e-19) (-0.9659967007582864, 2.6867745024437813e-26) (-0.9500379533605671, 1.0883270247953395e-15) (-0.9599958114628266, 1.2021682685190073e-13) (-0.9476379494086541, 1.953818294833725e-21)\n"
          ],
          "name": "stdout"
        }
      ]
    },
    {
      "cell_type": "code",
      "metadata": {
        "id": "LfzkABgkccM_",
        "colab_type": "code",
        "colab": {}
      },
      "source": [
        ""
      ],
      "execution_count": 0,
      "outputs": []
    }
  ]
}