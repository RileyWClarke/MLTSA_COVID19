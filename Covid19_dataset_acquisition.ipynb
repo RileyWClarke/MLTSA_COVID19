{
  "nbformat": 4,
  "nbformat_minor": 0,
  "metadata": {
    "colab": {
      "name": "Covid19_dataset acquisition.ipynb",
      "provenance": [],
      "collapsed_sections": []
    },
    "kernelspec": {
      "name": "python3",
      "display_name": "Python 3"
    }
  },
  "cells": [
    {
      "cell_type": "code",
      "metadata": {
        "id": "k9v-v64ko3Tg",
        "colab_type": "code",
        "outputId": "b9f03391-7f56-4b11-d693-c4beeea2910e",
        "colab": {
          "base_uri": "https://localhost:8080/",
          "height": 34
        }
      },
      "source": [
        "import pandas as pd\n",
        "import pylab as pl\n",
        "%pylab inline"
      ],
      "execution_count": 0,
      "outputs": [
        {
          "output_type": "stream",
          "text": [
            "Populating the interactive namespace from numpy and matplotlib\n"
          ],
          "name": "stdout"
        }
      ]
    },
    {
      "cell_type": "markdown",
      "metadata": {
        "id": "PGtnrKtEbrRZ",
        "colab_type": "text"
      },
      "source": [
        "Developed by Shaquann S., Project Data Manager. I will use this notebook primarily to grab datasets needed or requested by any member of the project. Should we get to the point where want to include weather based as a covariates, I have now created a separate notebook to grab and process that data.  \n",
        "\n",
        "I have created a shared drive, accessible to all members of the group, where I will store the datasets and the post processed formats of any data sets, if needed. \n",
        "\n",
        "**Only runs once you have access to the drive. There is no easy way to make a directory via collab in the shared drive in google drive. It has to already exist.**\n",
        "\n",
        "***If you want to run the notebook from scracth make a folder called \"Covid19_project\"  in your shared drives***\n",
        "\n",
        "**ALL the data is there so only needs to be run if you have to do it in another drive** \n",
        "\n",
        "***If you have access to the shared drive you wont have to run this*** \n",
        "\n",
        "\n",
        "This way you can run your notebooks directly from this shared drive, and you can store figures here. \n",
        "In your notebook to get to this drive, the path is  from the content directory \n",
        "\n",
        "%cd gdrive/Shared\\ drives/Covid19_project \n",
        "\n",
        "Data sets are store in \"/datasets/\" and there are also subdirectories related to each type of data set, to avoid any overwriting, should they have matching names.  \n",
        "\n",
        "This works in shared drives and aaumes your kaggle api is stored in your regualar drive. \n",
        "\n",
        "***NOTE: Covid19 State Data set was downloaded on my computer then uploaded place into the usa_1 folder in the share drive***"
      ]
    },
    {
      "cell_type": "code",
      "metadata": {
        "id": "y01iTrCPp7K9",
        "colab_type": "code",
        "colab": {}
      },
      "source": [
        "####'/content/gdrive/Shared drives'"
      ],
      "execution_count": 0,
      "outputs": []
    },
    {
      "cell_type": "code",
      "metadata": {
        "id": "cwAM2GTLqNTn",
        "colab_type": "code",
        "outputId": "e6cec2ab-cc87-42b9-ef75-125073db6f83",
        "colab": {
          "base_uri": "https://localhost:8080/",
          "height": 189
        }
      },
      "source": [
        "from google.colab import drive\n",
        "\n",
        "drive.mount(\"/content/gdrive\")"
      ],
      "execution_count": 0,
      "outputs": [
        {
          "output_type": "stream",
          "text": [
            "Go to this URL in a browser: https://accounts.google.com/o/oauth2/auth?client_id=947318989803-6bn6qk8qdgf4n4g3pfee6491hc0brc4i.apps.googleusercontent.com&redirect_uri=urn%3aietf%3awg%3aoauth%3a2.0%3aoob&response_type=code&scope=email%20https%3a%2f%2fwww.googleapis.com%2fauth%2fdocs.test%20https%3a%2f%2fwww.googleapis.com%2fauth%2fdrive%20https%3a%2f%2fwww.googleapis.com%2fauth%2fdrive.photos.readonly%20https%3a%2f%2fwww.googleapis.com%2fauth%2fpeopleapi.readonly\n",
            "\n",
            "Enter your authorization code:\n",
            "··········\n",
            "Mounted at /content/gdrive\n"
          ],
          "name": "stdout"
        }
      ]
    },
    {
      "cell_type": "code",
      "metadata": {
        "id": "U7wSbkEiqYl9",
        "colab_type": "code",
        "outputId": "c65174f1-bb81-4c78-c425-cf7977d65dc2",
        "colab": {
          "base_uri": "https://localhost:8080/",
          "height": 34
        }
      },
      "source": [
        "cd ../"
      ],
      "execution_count": 0,
      "outputs": [
        {
          "output_type": "stream",
          "text": [
            "/content\n"
          ],
          "name": "stdout"
        }
      ]
    },
    {
      "cell_type": "code",
      "metadata": {
        "id": "0tkO7njLqtIj",
        "colab_type": "code",
        "outputId": "ecdaa067-1675-4a40-a291-3ee1f9251045",
        "colab": {
          "base_uri": "https://localhost:8080/",
          "height": 34
        }
      },
      "source": [
        "%cd gdrive/Shared\\ drives"
      ],
      "execution_count": 0,
      "outputs": [
        {
          "output_type": "stream",
          "text": [
            "/content/gdrive/Shared drives\n"
          ],
          "name": "stdout"
        }
      ]
    },
    {
      "cell_type": "code",
      "metadata": {
        "id": "cBWzG2p7q8cU",
        "colab_type": "code",
        "colab": {}
      },
      "source": [
        "\n",
        "!chmod 600 ../../My\\ Drive/kaggle.json"
      ],
      "execution_count": 0,
      "outputs": []
    },
    {
      "cell_type": "code",
      "metadata": {
        "id": "rHUWa6Vr9lk1",
        "colab_type": "code",
        "outputId": "7071e7cb-1809-4f8b-c03b-26d48bb78804",
        "colab": {
          "base_uri": "https://localhost:8080/",
          "height": 34
        }
      },
      "source": [
        "pwd"
      ],
      "execution_count": 0,
      "outputs": [
        {
          "output_type": "execute_result",
          "data": {
            "text/plain": [
              "'/content/gdrive/Shared drives'"
            ]
          },
          "metadata": {
            "tags": []
          },
          "execution_count": 24
        }
      ]
    },
    {
      "cell_type": "code",
      "metadata": {
        "id": "xSk0SU4XqwG5",
        "colab_type": "code",
        "colab": {}
      },
      "source": [
        "####importing kaggle api \n",
        "import json\n",
        "import os\n",
        "envs = json.load(open(\"/content/gdrive/My Drive/kaggle.json\", \"r\"))\n",
        "os.environ[\"KAGGLE_USERNAME\"] = envs['username']\n",
        "os.environ[\"KAGGLE_KEY\"] = envs['key']"
      ],
      "execution_count": 0,
      "outputs": []
    },
    {
      "cell_type": "code",
      "metadata": {
        "id": "C4fNYJeorAC-",
        "colab_type": "code",
        "outputId": "6908b584-cb41-437b-c555-06f2c0f37f1b",
        "colab": {
          "base_uri": "https://localhost:8080/",
          "height": 74
        }
      },
      "source": [
        "os.environ"
      ],
      "execution_count": 0,
      "outputs": [
        {
          "output_type": "execute_result",
          "data": {
            "text/plain": [
              "environ({'ENV': '/root/.bashrc', 'GCS_READ_CACHE_BLOCK_SIZE_MB': '16', 'CLOUDSDK_CONFIG': '/content/.config', 'CUDA_VERSION': '10.1.243', 'PATH': '/usr/local/nvidia/bin:/usr/local/cuda/bin:/usr/local/sbin:/usr/local/bin:/usr/sbin:/usr/bin:/sbin:/bin:/tools/node/bin:/tools/google-cloud-sdk/bin:/opt/bin', 'HOME': '/root', 'LD_LIBRARY_PATH': '/usr/local/nvidia/lib:/usr/local/nvidia/lib64', 'LANG': 'en_US.UTF-8', 'SHELL': '/bin/bash', 'LIBRARY_PATH': '/usr/local/cuda/lib64/stubs', 'CUDA_PKG_VERSION': '10-1=10.1.243-1', 'SHLVL': '1', 'GCE_METADATA_TIMEOUT': '0', 'NCCL_VERSION': '2.4.8', 'NVIDIA_VISIBLE_DEVICES': 'all', 'TF_FORCE_GPU_ALLOW_GROWTH': 'true', 'DEBIAN_FRONTEND': 'noninteractive', 'CUDNN_VERSION': '7.6.5.32', 'LAST_FORCED_REBUILD': '20200512', 'JPY_PARENT_PID': '18', 'PYTHONPATH': '/env/python', 'DATALAB_SETTINGS_OVERRIDES': '{\"kernelManagerProxyPort\":6000,\"kernelManagerProxyHost\":\"172.28.0.3\",\"jupyterArgs\":[\"--ip=\\\\\"172.28.0.2\\\\\"\"]}', 'NO_GCE_CHECK': 'True', 'GLIBCXX_FORCE_NEW': '1', 'NVIDIA_DRIVER_CAPABILITIES': 'compute,utility', '_': '/tools/node/bin/node', 'LD_PRELOAD': '/usr/lib/x86_64-linux-gnu/libtcmalloc.so.4', 'NVIDIA_REQUIRE_CUDA': 'cuda>=10.1 brand=tesla,driver>=384,driver<385 brand=tesla,driver>=396,driver<397 brand=tesla,driver>=410,driver<411', 'OLDPWD': '/', 'HOSTNAME': '7ef81512b599', 'COLAB_GPU': '0', 'PWD': '/', 'GLIBCPP_FORCE_NEW': '1', 'PYTHONWARNINGS': 'ignore:::pip._internal.cli.base_command', 'TBE_CREDS_ADDR': '172.28.0.1:8008', 'TERM': 'xterm-color', 'CLICOLOR': '1', 'PAGER': 'cat', 'GIT_PAGER': 'cat', 'MPLBACKEND': 'module://ipykernel.pylab.backend_inline', 'KAGGLE_USERNAME': 'shaquannseadrow', 'KAGGLE_KEY': 'f44bad1c5cd643d65a6aa83cb5ba635a'})"
            ]
          },
          "metadata": {
            "tags": []
          },
          "execution_count": 22
        }
      ]
    },
    {
      "cell_type": "markdown",
      "metadata": {
        "id": "iKt4rKD6tFXE",
        "colab_type": "text"
      },
      "source": [
        "Makes the diectory to store the covid data. only run once comment out first two make dir commands afterwards.  Unfortunatley the Covid_19 folder has to already have been make in the shared drive. "
      ]
    },
    {
      "cell_type": "code",
      "metadata": {
        "id": "xcMHcCXErEeI",
        "colab_type": "code",
        "outputId": "00ae12ad-d381-461a-d77b-26df3907029d",
        "colab": {
          "base_uri": "https://localhost:8080/",
          "height": 63
        }
      },
      "source": [
        "cd Covid19_project/"
      ],
      "execution_count": 0,
      "outputs": [
        {
          "output_type": "stream",
          "text": [
            "mkdir: cannot create directory ‘covid19_data_testing’: Operation not supported\n"
          ],
          "name": "stdout"
        }
      ]
    },
    {
      "cell_type": "code",
      "metadata": {
        "id": "-C989S1GrQXm",
        "colab_type": "code",
        "outputId": "156d6a7d-7752-4c98-e0b7-b0a7a944506e",
        "colab": {
          "base_uri": "https://localhost:8080/",
          "height": 34
        }
      },
      "source": [
        ""
      ],
      "execution_count": 0,
      "outputs": [
        {
          "output_type": "stream",
          "text": [
            "/content/gdrive/Shared drives/Covid19_project/covid19_data_testing\n"
          ],
          "name": "stdout"
        }
      ]
    },
    {
      "cell_type": "code",
      "metadata": {
        "id": "_JuAuABFrkxb",
        "colab_type": "code",
        "colab": {}
      },
      "source": [
        "##### on ly run if a directory doesnt exist \n",
        "!mkdir data_sets "
      ],
      "execution_count": 0,
      "outputs": []
    },
    {
      "cell_type": "code",
      "metadata": {
        "id": "GusYECh_rnzy",
        "colab_type": "code",
        "outputId": "984b80e6-5deb-4277-afc6-1619303f9026",
        "colab": {
          "base_uri": "https://localhost:8080/",
          "height": 34
        }
      },
      "source": [
        "cd data_sets"
      ],
      "execution_count": 0,
      "outputs": [
        {
          "output_type": "stream",
          "text": [
            "/content/gdrive/Shared drives/Covid19_project/data_sets\n"
          ],
          "name": "stdout"
        }
      ]
    },
    {
      "cell_type": "code",
      "metadata": {
        "id": "oTMwBt3svsxB",
        "colab_type": "code",
        "outputId": "d7721c5e-e9bf-4e12-9265-4f2ca567ea59",
        "colab": {
          "base_uri": "https://localhost:8080/",
          "height": 80
        }
      },
      "source": [
        "#!kaggle datasets list -s covid19"
      ],
      "execution_count": 0,
      "outputs": [
        {
          "output_type": "stream",
          "text": [
            "usage: kaggle [-h] [-v] {competitions,c,datasets,d,kernels,k,config} ...\n",
            "kaggle: error: unrecognized arguments: covid19\n"
          ],
          "name": "stdout"
        }
      ]
    },
    {
      "cell_type": "markdown",
      "metadata": {
        "id": "aJfI4pISpM4w",
        "colab_type": "text"
      },
      "source": [
        "loading in usa data set"
      ]
    },
    {
      "cell_type": "code",
      "metadata": {
        "id": "acQurfzMojwS",
        "colab_type": "code",
        "colab": {}
      },
      "source": [
        "mkdir usa_1/ "
      ],
      "execution_count": 0,
      "outputs": []
    },
    {
      "cell_type": "code",
      "metadata": {
        "id": "3szcL__aovwi",
        "colab_type": "code",
        "colab": {}
      },
      "source": [
        "cd  usa_1/ "
      ],
      "execution_count": 0,
      "outputs": []
    },
    {
      "cell_type": "code",
      "metadata": {
        "id": "pP5trY8trsfp",
        "colab_type": "code",
        "outputId": "74aec4d7-6f8d-4aac-b0bf-bd3db7710692",
        "colab": {
          "base_uri": "https://localhost:8080/",
          "height": 97
        }
      },
      "source": [
        "####the usa data set 1\n",
        "\n",
        "!kaggle datasets download sudalairajkumar/covid19-in-usa  "
      ],
      "execution_count": 0,
      "outputs": [
        {
          "output_type": "stream",
          "text": [
            "Downloading covid19-in-usa.zip to /content/gdrive/Shared drives/Covid19_project/data_sets\n",
            "\r  0% 0.00/176k [00:00<?, ?B/s]\n",
            "\r100% 176k/176k [00:00<00:00, 23.6MB/s]\n"
          ],
          "name": "stdout"
        }
      ]
    },
    {
      "cell_type": "code",
      "metadata": {
        "id": "1V1u98oHoz6J",
        "colab_type": "code",
        "colab": {}
      },
      "source": [
        "!unzip covid19-in-usa.zip"
      ],
      "execution_count": 0,
      "outputs": []
    },
    {
      "cell_type": "code",
      "metadata": {
        "id": "ldMGCUMQo-Nk",
        "colab_type": "code",
        "colab": {}
      },
      "source": [
        "ls "
      ],
      "execution_count": 0,
      "outputs": []
    },
    {
      "cell_type": "code",
      "metadata": {
        "id": "ogafCvwno-7Q",
        "colab_type": "code",
        "colab": {}
      },
      "source": [
        "cd ../ "
      ],
      "execution_count": 0,
      "outputs": []
    },
    {
      "cell_type": "markdown",
      "metadata": {
        "id": "KfBmojy_pjGd",
        "colab_type": "text"
      },
      "source": [
        "laoding in south korea data set "
      ]
    },
    {
      "cell_type": "code",
      "metadata": {
        "id": "pfkB_ZOApBXh",
        "colab_type": "code",
        "colab": {}
      },
      "source": [
        "mkdir skcv19_data"
      ],
      "execution_count": 0,
      "outputs": []
    },
    {
      "cell_type": "code",
      "metadata": {
        "id": "NwkwOIVHpFZ8",
        "colab_type": "code",
        "colab": {}
      },
      "source": [
        "cd skcv19_data "
      ],
      "execution_count": 0,
      "outputs": []
    },
    {
      "cell_type": "code",
      "metadata": {
        "id": "UO-W46RqpoU1",
        "colab_type": "code",
        "colab": {}
      },
      "source": [
        "####get  orginal S.K. data set , to look at correlations between states. \n",
        "!kaggle datasets download kimjihoo/coronavirusdataset\n"
      ],
      "execution_count": 0,
      "outputs": []
    },
    {
      "cell_type": "code",
      "metadata": {
        "id": "h2XR6CIbpt-n",
        "colab_type": "code",
        "colab": {}
      },
      "source": [
        "!unzip coronavirusdataset.zip  "
      ],
      "execution_count": 0,
      "outputs": []
    },
    {
      "cell_type": "code",
      "metadata": {
        "id": "6XldpQSqp4_n",
        "colab_type": "code",
        "colab": {}
      },
      "source": [
        "ls "
      ],
      "execution_count": 0,
      "outputs": []
    },
    {
      "cell_type": "code",
      "metadata": {
        "id": "ygBgYXV8p6Ga",
        "colab_type": "code",
        "colab": {}
      },
      "source": [
        "cd ../ "
      ],
      "execution_count": 0,
      "outputs": []
    },
    {
      "cell_type": "markdown",
      "metadata": {
        "id": "EGZi6Cp0qgSE",
        "colab_type": "text"
      },
      "source": [
        "loading in global data set"
      ]
    },
    {
      "cell_type": "code",
      "metadata": {
        "id": "lnNUgRgQqQxH",
        "colab_type": "code",
        "colab": {}
      },
      "source": [
        "mkdir global1"
      ],
      "execution_count": 0,
      "outputs": []
    },
    {
      "cell_type": "code",
      "metadata": {
        "id": "h2L_uVJwp-A2",
        "colab_type": "code",
        "colab": {}
      },
      "source": [
        "cd  global1"
      ],
      "execution_count": 0,
      "outputs": []
    },
    {
      "cell_type": "code",
      "metadata": {
        "id": "uPx7662pryzc",
        "colab_type": "code",
        "colab": {}
      },
      "source": [
        "!kaggle datasets download  sudalairajkumar/novel-corona-virus-2019-dataset"
      ],
      "execution_count": 0,
      "outputs": []
    },
    {
      "cell_type": "code",
      "metadata": {
        "id": "V-m6C7CusAy_",
        "colab_type": "code",
        "colab": {}
      },
      "source": [
        "!unzip novel-corona-virus-2019-dataset.zip "
      ],
      "execution_count": 0,
      "outputs": []
    },
    {
      "cell_type": "code",
      "metadata": {
        "id": "41cbDSR1sQUb",
        "colab_type": "code",
        "colab": {}
      },
      "source": [
        "ls "
      ],
      "execution_count": 0,
      "outputs": []
    },
    {
      "cell_type": "code",
      "metadata": {
        "id": "DLY1e6fusQ_D",
        "colab_type": "code",
        "colab": {}
      },
      "source": [
        " cd ../ "
      ],
      "execution_count": 0,
      "outputs": []
    },
    {
      "cell_type": "code",
      "metadata": {
        "id": "SHFRwJS-sSpI",
        "colab_type": "code",
        "colab": {}
      },
      "source": [
        ""
      ],
      "execution_count": 0,
      "outputs": []
    },
    {
      "cell_type": "code",
      "metadata": {
        "id": "AyRc6qTNf9No",
        "colab_type": "code",
        "outputId": "a41e9536-a1c6-4412-ecea-3005f5cad533",
        "colab": {
          "base_uri": "https://localhost:8080/",
          "height": 97
        }
      },
      "source": [
        "#### global weather data set \n",
        "\n",
        "#!kaggle datasets download winterpierre91/covid19-global-weather-data "
      ],
      "execution_count": 0,
      "outputs": [
        {
          "output_type": "stream",
          "text": [
            "Downloading covid19-global-weather-data.zip to /content/gdrive/Shared drives/Covid19_project/data_sets/weather_sk\n",
            "\r  0% 0.00/204k [00:00<?, ?B/s]\n",
            "\r100% 204k/204k [00:00<00:00, 27.7MB/s]\n"
          ],
          "name": "stdout"
        }
      ]
    },
    {
      "cell_type": "code",
      "metadata": {
        "id": "RIuVsU4n-MOO",
        "colab_type": "code",
        "colab": {}
      },
      "source": [
        "### find data sets fo other corona viruses assuming we want include the natural seasonality of similar viruses \n",
        "\n",
        "\n",
        "###found data set accounting for weather, if the group chooses to use it. \n",
        "\n"
      ],
      "execution_count": 0,
      "outputs": []
    },
    {
      "cell_type": "code",
      "metadata": {
        "id": "UBBR7-HYePdk",
        "colab_type": "code",
        "colab": {}
      },
      "source": [
        "mkdir weather_sk"
      ],
      "execution_count": 0,
      "outputs": []
    },
    {
      "cell_type": "code",
      "metadata": {
        "id": "krxpoFhLeSVh",
        "colab_type": "code",
        "outputId": "d595bcb7-fb55-4744-93fe-aef9d897a7f4",
        "colab": {
          "base_uri": "https://localhost:8080/",
          "height": 34
        }
      },
      "source": [
        "cd weather_sk/"
      ],
      "execution_count": 0,
      "outputs": [
        {
          "output_type": "stream",
          "text": [
            "/content/gdrive/Shared drives/Covid19_project/data_sets/weather_sk\n"
          ],
          "name": "stdout"
        }
      ]
    },
    {
      "cell_type": "code",
      "metadata": {
        "id": "SRUnnEiLs1_k",
        "colab_type": "code",
        "colab": {}
      },
      "source": [
        "#### global weather data set \n",
        "\n",
        "!kaggle datasets download winterpierre91/covid19-global-weather-data "
      ],
      "execution_count": 0,
      "outputs": []
    },
    {
      "cell_type": "code",
      "metadata": {
        "id": "Ov67WvkJgXg3",
        "colab_type": "code",
        "outputId": "372befc2-0421-49da-bf64-451496ebe91e",
        "colab": {
          "base_uri": "https://localhost:8080/",
          "height": 51
        }
      },
      "source": [
        "!unzip covid19-global-weather-data.zip"
      ],
      "execution_count": 0,
      "outputs": [
        {
          "output_type": "stream",
          "text": [
            "Archive:  covid19-global-weather-data.zip\n",
            "  inflating: temperature_dataframe.csv  \n"
          ],
          "name": "stdout"
        }
      ]
    },
    {
      "cell_type": "code",
      "metadata": {
        "id": "XCtX0FPagVbX",
        "colab_type": "code",
        "colab": {}
      },
      "source": [
        "ls "
      ],
      "execution_count": 0,
      "outputs": []
    },
    {
      "cell_type": "code",
      "metadata": {
        "id": "7Dxk-tHhti9i",
        "colab_type": "code",
        "colab": {}
      },
      "source": [
        "cd ../ "
      ],
      "execution_count": 0,
      "outputs": []
    },
    {
      "cell_type": "code",
      "metadata": {
        "id": "ZUzdh7Hytk3O",
        "colab_type": "code",
        "colab": {}
      },
      "source": [
        "cd usa_1"
      ],
      "execution_count": 0,
      "outputs": []
    }
  ]
}